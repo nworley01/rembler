{
 "cells": [
  {
   "cell_type": "code",
   "execution_count": 2,
   "metadata": {},
   "outputs": [],
   "source": [
    "%load_ext autoreload\n",
    "%autoreload 2"
   ]
  },
  {
   "cell_type": "code",
   "execution_count": 23,
   "metadata": {},
   "outputs": [],
   "source": [
    "import matplotlib.pyplot as plt\n",
    "import scipy\n",
    "import numpy as np\n",
    "import pandas as pd\n",
    "import mne\n",
    "import torch\n",
    "from torch.fft import fft, rfft, fftshift\n",
    "from sklearn.model_selection import train_test_split\n",
    "import numpy as np\n",
    "from scipy.signal import butter, filtfilt, hilbert\n",
    "\n",
    "import src.utils.sleep_utils as utils"
   ]
  },
  {
   "cell_type": "code",
   "execution_count": 4,
   "metadata": {},
   "outputs": [],
   "source": [
    "edf_path = \"data/MPSD1 Baseline.edf\"\n",
    "bout_length = 10\n",
    "bout_context = 5\n",
    "causal = False"
   ]
  },
  {
   "cell_type": "code",
   "execution_count": 5,
   "metadata": {},
   "outputs": [],
   "source": [
    "sample = mne.io.read_raw_edf(\"data/MPSD1 Baseline.edf\", preload=True, verbose=\"WARNING\")"
   ]
  },
  {
   "cell_type": "code",
   "execution_count": 6,
   "metadata": {},
   "outputs": [
    {
     "data": {
      "text/plain": [
       "['Activity',\n",
       " 'BattVolt',\n",
       " 'EEG',\n",
       " 'EMG',\n",
       " 'OnTime',\n",
       " 'SignalStr',\n",
       " 'Temp',\n",
       " 'Signal-Sleep']"
      ]
     },
     "execution_count": 6,
     "metadata": {},
     "output_type": "execute_result"
    }
   ],
   "source": [
    "sample.info.ch_names"
   ]
  },
  {
   "cell_type": "code",
   "execution_count": 24,
   "metadata": {},
   "outputs": [],
   "source": [
    "x = sample.get_data(\"Activity\")[0, :]"
   ]
  },
  {
   "cell_type": "code",
   "execution_count": 58,
   "metadata": {},
   "outputs": [
    {
     "data": {
      "text/plain": [
       "(86400,)"
      ]
     },
     "execution_count": 58,
     "metadata": {},
     "output_type": "execute_result"
    }
   ],
   "source": [
    "pd.Series(x).rolling(window=500, step=500, center=True).max().shape"
   ]
  },
  {
   "cell_type": "code",
   "execution_count": 22,
   "metadata": {},
   "outputs": [
    {
     "data": {
      "text/plain": [
       "[<matplotlib.lines.Line2D at 0x12fbfe7d0>]"
      ]
     },
     "execution_count": 22,
     "metadata": {},
     "output_type": "execute_result"
    },
    {
     "data": {
      "image/png": "[encoded data removed]",
      "text/plain": [
       "<Figure size 640x480 with 1 Axes>"
      ]
     },
     "metadata": {},
     "output_type": "display_data"
    }
   ],
   "source": [
    "plt.plot(sample.get_data(\"Activity\")[0, :275])"
   ]
  },
  {
   "cell_type": "code",
   "execution_count": 26,
   "metadata": {},
   "outputs": [],
   "source": [
    "fs = 500.0                        # Hz, your sampling rate\n",
    "f0 = 0.5                         # Hz, carrier\n",
    "t = np.arange(len(x))/fs\n",
    "\n",
    "# 1) Band-pass around the carrier\n",
    "lo, hi = 0.2, 0.8                # tune as needed\n",
    "b, a = butter(4, [lo, hi], btype='band', fs=fs)\n",
    "x_bp = filtfilt(b, a, x)\n",
    "\n",
    "# 2) Hilbert envelope (quick)\n",
    "analytic = hilbert(x_bp)\n",
    "envelope_hilbert = np.abs(analytic)\n",
    "phase = np.unwrap(np.angle(analytic))\n",
    "f_inst = np.diff(phase)/(2*np.pi) * fs     # len N-1\n",
    "\n",
    "# Smooth envelope if desired\n",
    "b_lp, a_lp = butter(3, 0.1, btype='low', fs=fs)   # tracks ≤0.1 Hz amplitude changes\n",
    "env_smooth = filtfilt(b_lp, a_lp, envelope_hilbert)\n",
    "\n",
    "# 3) Complex demodulation (I/Q)\n",
    "z = x_bp * np.exp(-1j*2*np.pi*f0*t)\n",
    "b_b, a_b = butter(4, 0.1, btype='low', fs=fs)     # baseband LPF sets tracking speed\n",
    "baseband = filtfilt(b_b, a_b, z)\n",
    "amplitude_iq = np.abs(baseband)                   # robust envelope\n",
    "phase_iq = np.angle(baseband)"
   ]
  },
  {
   "cell_type": "code",
   "execution_count": 83,
   "metadata": {},
   "outputs": [
    {
     "ename": "SyntaxError",
     "evalue": "invalid syntax (4238642398.py, line 1)",
     "output_type": "error",
     "traceback": [
      "  \u001b[36mCell\u001b[39m\u001b[36m \u001b[39m\u001b[32mIn[83]\u001b[39m\u001b[32m, line 1\u001b[39m\n\u001b[31m    \u001b[39m\u001b[31mutils.extract_activity_signal(sample)[]\u001b[39m\n                                          ^\n\u001b[31mSyntaxError\u001b[39m\u001b[31m:\u001b[39m invalid syntax\n"
     ]
    }
   ],
   "source": [
    "utils.extract_activity_signal(sample)[]"
   ]
  },
  {
   "cell_type": "code",
   "execution_count": 86,
   "metadata": {},
   "outputs": [
    {
     "data": {
      "text/html": [
       "<div>\n",
       "<style scoped>\n",
       "    .dataframe tbody tr th:only-of-type {\n",
       "        vertical-align: middle;\n",
       "    }\n",
       "\n",
       "    .dataframe tbody tr th {\n",
       "        vertical-align: top;\n",
       "    }\n",
       "\n",
       "    .dataframe thead th {\n",
       "        text-align: right;\n",
       "    }\n",
       "</style>\n",
       "<table border=\"1\" class=\"dataframe\">\n",
       "  <thead>\n",
       "    <tr style=\"text-align: right;\">\n",
       "      <th></th>\n",
       "      <th>sleep</th>\n",
       "      <th>start</th>\n",
       "      <th>stop</th>\n",
       "      <th>activity</th>\n",
       "    </tr>\n",
       "  </thead>\n",
       "  <tbody>\n",
       "    <tr>\n",
       "      <th>0</th>\n",
       "      <td>S</td>\n",
       "      <td>0</td>\n",
       "      <td>5000</td>\n",
       "      <td>0.020017</td>\n",
       "    </tr>\n",
       "    <tr>\n",
       "      <th>1</th>\n",
       "      <td>S</td>\n",
       "      <td>5000</td>\n",
       "      <td>10000</td>\n",
       "      <td>0.019345</td>\n",
       "    </tr>\n",
       "    <tr>\n",
       "      <th>2</th>\n",
       "      <td>S</td>\n",
       "      <td>10000</td>\n",
       "      <td>15000</td>\n",
       "      <td>0.018873</td>\n",
       "    </tr>\n",
       "    <tr>\n",
       "      <th>3</th>\n",
       "      <td>S</td>\n",
       "      <td>15000</td>\n",
       "      <td>20000</td>\n",
       "      <td>0.018527</td>\n",
       "    </tr>\n",
       "    <tr>\n",
       "      <th>4</th>\n",
       "      <td>S</td>\n",
       "      <td>20000</td>\n",
       "      <td>25000</td>\n",
       "      <td>0.018263</td>\n",
       "    </tr>\n",
       "    <tr>\n",
       "      <th>...</th>\n",
       "      <td>...</td>\n",
       "      <td>...</td>\n",
       "      <td>...</td>\n",
       "      <td>...</td>\n",
       "    </tr>\n",
       "    <tr>\n",
       "      <th>8635</th>\n",
       "      <td>S</td>\n",
       "      <td>43175000</td>\n",
       "      <td>43180000</td>\n",
       "      <td>0.082301</td>\n",
       "    </tr>\n",
       "    <tr>\n",
       "      <th>8636</th>\n",
       "      <td>S</td>\n",
       "      <td>43180000</td>\n",
       "      <td>43185000</td>\n",
       "      <td>0.034317</td>\n",
       "    </tr>\n",
       "    <tr>\n",
       "      <th>8637</th>\n",
       "      <td>S</td>\n",
       "      <td>43185000</td>\n",
       "      <td>43190000</td>\n",
       "      <td>0.026019</td>\n",
       "    </tr>\n",
       "    <tr>\n",
       "      <th>8638</th>\n",
       "      <td>S</td>\n",
       "      <td>43190000</td>\n",
       "      <td>43195000</td>\n",
       "      <td>0.022741</td>\n",
       "    </tr>\n",
       "    <tr>\n",
       "      <th>8639</th>\n",
       "      <td>S</td>\n",
       "      <td>43195000</td>\n",
       "      <td>43200000</td>\n",
       "      <td>0.021039</td>\n",
       "    </tr>\n",
       "  </tbody>\n",
       "</table>\n",
       "<p>8640 rows × 4 columns</p>\n",
       "</div>"
      ],
      "text/plain": [
       "     sleep     start      stop  activity\n",
       "0        S         0      5000  0.020017\n",
       "1        S      5000     10000  0.019345\n",
       "2        S     10000     15000  0.018873\n",
       "3        S     15000     20000  0.018527\n",
       "4        S     20000     25000  0.018263\n",
       "...    ...       ...       ...       ...\n",
       "8635     S  43175000  43180000  0.082301\n",
       "8636     S  43180000  43185000  0.034317\n",
       "8637     S  43185000  43190000  0.026019\n",
       "8638     S  43190000  43195000  0.022741\n",
       "8639     S  43195000  43200000  0.021039\n",
       "\n",
       "[8640 rows x 4 columns]"
      ]
     },
     "execution_count": 86,
     "metadata": {},
     "output_type": "execute_result"
    }
   ],
   "source": [
    "df.assign(activity= utils.extract_activity_signal(sample).values)"
   ]
  },
  {
   "cell_type": "code",
   "execution_count": 99,
   "metadata": {},
   "outputs": [],
   "source": [
    "sleep_string = \"\".join(df.sleep.values)"
   ]
  },
  {
   "cell_type": "code",
   "execution_count": 104,
   "metadata": {},
   "outputs": [
    {
     "data": {
      "text/plain": [
       "0    S\n",
       "1    S\n",
       "2    S\n",
       "Name: sleep, dtype: object"
      ]
     },
     "execution_count": 104,
     "metadata": {},
     "output_type": "execute_result"
    }
   ],
   "source": [
    "df.sleep[0:3]"
   ]
  },
  {
   "cell_type": "code",
   "execution_count": null,
   "metadata": {},
   "outputs": [
    {
     "data": {
      "text/plain": [
       "AAAAA    4198\n",
       "SSSSS    2515\n",
       "RRRRR     174\n",
       "ASSSS     162\n",
       "SSSSA     125\n",
       "         ... \n",
       "AAAAR       1\n",
       "AAARR       1\n",
       "AARRR       1\n",
       "ARRRR       1\n",
       "XXXSS       1\n",
       "Name: count, Length: 118, dtype: int64"
      ]
     },
     "execution_count": 107,
     "metadata": {},
     "output_type": "execute_result"
    }
   ],
   "source": [
    "df.index.map(lambda x: sleep_string[max(x-2, 0):x+3])"
   ]
  },
  {
   "cell_type": "code",
   "execution_count": 109,
   "metadata": {},
   "outputs": [],
   "source": [
    "df = utils.create_sleep_stage_dataframe(sample)\n",
    "df_subsampled = utils.subsample_sleep_dataframe(df)"
   ]
  },
  {
   "cell_type": "code",
   "execution_count": 110,
   "metadata": {},
   "outputs": [
    {
     "data": {
      "text/html": [
       "<div>\n",
       "<style scoped>\n",
       "    .dataframe tbody tr th:only-of-type {\n",
       "        vertical-align: middle;\n",
       "    }\n",
       "\n",
       "    .dataframe tbody tr th {\n",
       "        vertical-align: top;\n",
       "    }\n",
       "\n",
       "    .dataframe thead th {\n",
       "        text-align: right;\n",
       "    }\n",
       "</style>\n",
       "<table border=\"1\" class=\"dataframe\">\n",
       "  <thead>\n",
       "    <tr style=\"text-align: right;\">\n",
       "      <th></th>\n",
       "      <th>sleep</th>\n",
       "      <th>start</th>\n",
       "      <th>stop</th>\n",
       "      <th>activity</th>\n",
       "      <th>context</th>\n",
       "    </tr>\n",
       "  </thead>\n",
       "  <tbody>\n",
       "    <tr>\n",
       "      <th>9</th>\n",
       "      <td>S</td>\n",
       "      <td>45000</td>\n",
       "      <td>50000</td>\n",
       "      <td>0.017556</td>\n",
       "      <td>SSSSR</td>\n",
       "    </tr>\n",
       "    <tr>\n",
       "      <th>11</th>\n",
       "      <td>R</td>\n",
       "      <td>55000</td>\n",
       "      <td>60000</td>\n",
       "      <td>0.017417</td>\n",
       "      <td>SSRRR</td>\n",
       "    </tr>\n",
       "    <tr>\n",
       "      <th>12</th>\n",
       "      <td>R</td>\n",
       "      <td>60000</td>\n",
       "      <td>65000</td>\n",
       "      <td>0.017363</td>\n",
       "      <td>SRRRR</td>\n",
       "    </tr>\n",
       "    <tr>\n",
       "      <th>13</th>\n",
       "      <td>R</td>\n",
       "      <td>65000</td>\n",
       "      <td>70000</td>\n",
       "      <td>0.017319</td>\n",
       "      <td>RRRRR</td>\n",
       "    </tr>\n",
       "    <tr>\n",
       "      <th>14</th>\n",
       "      <td>R</td>\n",
       "      <td>70000</td>\n",
       "      <td>75000</td>\n",
       "      <td>0.017282</td>\n",
       "      <td>RRRRR</td>\n",
       "    </tr>\n",
       "    <tr>\n",
       "      <th>...</th>\n",
       "      <td>...</td>\n",
       "      <td>...</td>\n",
       "      <td>...</td>\n",
       "      <td>...</td>\n",
       "      <td>...</td>\n",
       "    </tr>\n",
       "    <tr>\n",
       "      <th>8601</th>\n",
       "      <td>S</td>\n",
       "      <td>43005000</td>\n",
       "      <td>43010000</td>\n",
       "      <td>0.020600</td>\n",
       "      <td>SSSSA</td>\n",
       "    </tr>\n",
       "    <tr>\n",
       "      <th>8626</th>\n",
       "      <td>R</td>\n",
       "      <td>43130000</td>\n",
       "      <td>43135000</td>\n",
       "      <td>0.024747</td>\n",
       "      <td>SSRRR</td>\n",
       "    </tr>\n",
       "    <tr>\n",
       "      <th>8627</th>\n",
       "      <td>R</td>\n",
       "      <td>43135000</td>\n",
       "      <td>43140000</td>\n",
       "      <td>0.028305</td>\n",
       "      <td>SRRRA</td>\n",
       "    </tr>\n",
       "    <tr>\n",
       "      <th>8628</th>\n",
       "      <td>R</td>\n",
       "      <td>43140000</td>\n",
       "      <td>43145000</td>\n",
       "      <td>0.034632</td>\n",
       "      <td>RRRAS</td>\n",
       "    </tr>\n",
       "    <tr>\n",
       "      <th>8632</th>\n",
       "      <td>S</td>\n",
       "      <td>43160000</td>\n",
       "      <td>43165000</td>\n",
       "      <td>0.014051</td>\n",
       "      <td>SSSSS</td>\n",
       "    </tr>\n",
       "  </tbody>\n",
       "</table>\n",
       "<p>1032 rows × 5 columns</p>\n",
       "</div>"
      ],
      "text/plain": [
       "     sleep     start      stop  activity context\n",
       "9        S     45000     50000  0.017556   SSSSR\n",
       "11       R     55000     60000  0.017417   SSRRR\n",
       "12       R     60000     65000  0.017363   SRRRR\n",
       "13       R     65000     70000  0.017319   RRRRR\n",
       "14       R     70000     75000  0.017282   RRRRR\n",
       "...    ...       ...       ...       ...     ...\n",
       "8601     S  43005000  43010000  0.020600   SSSSA\n",
       "8626     R  43130000  43135000  0.024747   SSRRR\n",
       "8627     R  43135000  43140000  0.028305   SRRRA\n",
       "8628     R  43140000  43145000  0.034632   RRRAS\n",
       "8632     S  43160000  43165000  0.014051   SSSSS\n",
       "\n",
       "[1032 rows x 5 columns]"
      ]
     },
     "execution_count": 110,
     "metadata": {},
     "output_type": "execute_result"
    }
   ],
   "source": [
    "df_subsampled"
   ]
  },
  {
   "cell_type": "code",
   "execution_count": 111,
   "metadata": {},
   "outputs": [],
   "source": [
    "train_df, test_df = train_test_split(df_subsampled, stratify=df_subsampled.sleep, test_size=0.255, random_state=0)"
   ]
  },
  {
   "cell_type": "code",
   "execution_count": 112,
   "metadata": {},
   "outputs": [
    {
     "data": {
      "text/plain": [
       "sleep\n",
       "R    168\n",
       "S     15\n",
       "A      8\n",
       "Name: count, dtype: int64"
      ]
     },
     "execution_count": 112,
     "metadata": {},
     "output_type": "execute_result"
    }
   ],
   "source": [
    "train_df.sort_index().loc[lambda df: df.start.diff() < 10000.0].sleep.value_counts()"
   ]
  },
  {
   "cell_type": "code",
   "execution_count": 113,
   "metadata": {},
   "outputs": [
    {
     "ename": "NameError",
     "evalue": "name 'row' is not defined",
     "output_type": "error",
     "traceback": [
      "\u001b[31m---------------------------------------------------------------------------\u001b[39m",
      "\u001b[31mNameError\u001b[39m                                 Traceback (most recent call last)",
      "\u001b[36mCell\u001b[39m\u001b[36m \u001b[39m\u001b[32mIn[113]\u001b[39m\u001b[32m, line 1\u001b[39m\n\u001b[32m----> \u001b[39m\u001b[32m1\u001b[39m \u001b[43mrow\u001b[49m\n",
      "\u001b[31mNameError\u001b[39m: name 'row' is not defined"
     ]
    }
   ],
   "source": [
    "row"
   ]
  },
  {
   "cell_type": "code",
   "execution_count": 114,
   "metadata": {},
   "outputs": [
    {
     "data": {
      "text/plain": [
       "array([[-2.40329595e-05, -2.75425345e-05, -3.30357824e-05, ...,\n",
       "        -1.29701686e-06,  5.11177234e-06,  6.02731365e-06],\n",
       "       [ 1.99130236e-05, -6.63767453e-06, -1.80819409e-05, ...,\n",
       "        -1.91500725e-05, -9.84206912e-06,  3.43327993e-06]],\n",
       "      shape=(2, 25000))"
      ]
     },
     "execution_count": 114,
     "metadata": {},
     "output_type": "execute_result"
    }
   ],
   "source": [
    "row = train_df.iloc[0]\n",
    "buffer = 500 * 10 * 2\n",
    "sample.get_data(picks=[\"EEG\", \"EMG\"])[:, row.start-buffer:row.stop+buffer]\n"
   ]
  },
  {
   "cell_type": "code",
   "execution_count": 121,
   "metadata": {},
   "outputs": [
    {
     "name": "stdout",
     "output_type": "stream",
     "text": [
      "Extracting EDF parameters from /Users/nicholasworley/projects/rembler/data/MPSD1 Baseline.edf...\n",
      "EDF file detected\n",
      "Setting channel info structure...\n",
      "Creating raw.info structure...\n",
      "Reading 0 ... 43199999  =      0.000 ... 86399.998 secs...\n"
     ]
    }
   ],
   "source": [
    "train, test = utils.process_edf(edf_path, signals=[\"EEG\", \"EMG\"], bout_length=bout_length, bout_context=bout_context, causal=causal)"
   ]
  },
  {
   "cell_type": "code",
   "execution_count": null,
   "metadata": {},
   "outputs": [],
   "source": [
    "test_signals = np.stack(test.signal.values)\n",
    "test_labels = np.stack(test.sleep.map(lambda x: utils.stage_to_int[x]).values)\n"
   ]
  },
  {
   "cell_type": "code",
   "execution_count": 129,
   "metadata": {},
   "outputs": [
    {
     "data": {
      "text/plain": [
       "array([[[-7.01152056e-05, -6.79789425e-05, -4.57007706e-05, ...,\n",
       "          8.21698329e-05,  6.21805142e-05,  5.91287098e-05],\n",
       "        [-9.43770504e-05, -8.99519341e-05, -9.20881971e-05, ...,\n",
       "          6.88944839e-05,  5.31776913e-05,  1.07576104e-05]],\n",
       "\n",
       "       [[-3.82238499e-05, -6.37064164e-05, -7.89654383e-05, ...,\n",
       "         -4.63111315e-05, -4.96681163e-05, -5.19569696e-05],\n",
       "        [ 1.67086290e-05,  1.86923018e-05,  1.24361028e-05, ...,\n",
       "         -9.84206912e-06, -6.33249409e-06,  6.17990387e-06]],\n",
       "\n",
       "       [[-1.02464332e-04, -1.12230106e-04, -1.19554437e-04, ...,\n",
       "         -1.21538109e-04, -1.40917067e-04, -1.28709850e-04],\n",
       "        [-1.71663996e-05, -1.09102007e-05, -1.71663996e-05, ...,\n",
       "          1.90737774e-06,  4.80659190e-06,  5.56954299e-06]],\n",
       "\n",
       "       ...,\n",
       "\n",
       "       [[ 4.46326390e-05,  5.19569696e-05,  5.08888380e-05, ...,\n",
       "          5.04310674e-05,  5.05836576e-05,  5.53139544e-05],\n",
       "        [-1.28938735e-05, -1.18257420e-05, -1.16731518e-05, ...,\n",
       "          1.91500725e-05,  9.46822309e-05,  1.14671550e-04]],\n",
       "\n",
       "       [[ 7.27092393e-05,  8.75104906e-05,  9.94125277e-05, ...,\n",
       "          1.33516442e-05,  2.08285649e-05,  2.40329595e-05],\n",
       "        [ 1.09102007e-05,  1.16731518e-05,  9.07911803e-06, ...,\n",
       "          1.51827268e-05,  5.72213321e-06,  1.24361028e-05]],\n",
       "\n",
       "       [[-9.78866255e-05, -7.71343557e-05, -3.50194553e-05, ...,\n",
       "          2.38803693e-05,  4.12756542e-05,  4.03601129e-05],\n",
       "        [ 2.26596475e-05,  8.16357671e-06,  6.02731365e-06, ...,\n",
       "          9.43770504e-05,  6.99626154e-05,  5.31776913e-05]]],\n",
       "      shape=(264, 2, 25000))"
      ]
     },
     "execution_count": 129,
     "metadata": {},
     "output_type": "execute_result"
    }
   ],
   "source": [
    "x"
   ]
  },
  {
   "cell_type": "code",
   "execution_count": 43,
   "metadata": {},
   "outputs": [
    {
     "name": "stderr",
     "output_type": "stream",
     "text": [
      "/Users/nicholasworley/projects/rembler/.venv/lib/python3.11/site-packages/matplotlib/cbook.py:1719: ComplexWarning: Casting complex values to real discards the imaginary part\n",
      "  return math.isfinite(val)\n",
      "/Users/nicholasworley/projects/rembler/.venv/lib/python3.11/site-packages/matplotlib/cbook.py:1355: ComplexWarning: Casting complex values to real discards the imaginary part\n",
      "  return np.asarray(x, float)\n"
     ]
    },
    {
     "data": {
      "image/png": "[encoded data removed]",
      "text/plain": [
       "<Figure size 640x480 with 1 Axes>"
      ]
     },
     "metadata": {},
     "output_type": "display_data"
    }
   ],
   "source": [
    "for i in range(5):\n",
    "    plt.plot(scipy.fft.fft(df_final[df_final.sleep == \"S\"].iloc[i].signal[0]), alpha=.2)"
   ]
  },
  {
   "cell_type": "code",
   "execution_count": 88,
   "metadata": {},
   "outputs": [
    {
     "data": {
      "image/png": "[encoded data removed]",
      "text/plain": [
       "<Figure size 640x480 with 1 Axes>"
      ]
     },
     "metadata": {},
     "output_type": "display_data"
    }
   ],
   "source": [
    "for i in range(5):\n",
    "    plt.plot(scipy.fft.fft(df_final[df_final.sleep == \"R\"].iloc[i].signal[0]), alpha=.2)"
   ]
  },
  {
   "cell_type": "code",
   "execution_count": 91,
   "metadata": {},
   "outputs": [
    {
     "data": {
      "text/plain": [
       "[<matplotlib.lines.Line2D at 0x3598e7690>]"
      ]
     },
     "execution_count": 91,
     "metadata": {},
     "output_type": "execute_result"
    },
    {
     "data": {
      "image/png": "[encoded data removed]",
      "text/plain": [
       "<Figure size 640x480 with 1 Axes>"
      ]
     },
     "metadata": {},
     "output_type": "display_data"
    }
   ],
   "source": [
    "plt.plot(scipy.fft.fft(np.stack(df_final[df_final.sleep == \"A\"].signal)[0, 0, :]))"
   ]
  },
  {
   "cell_type": "code",
   "execution_count": 101,
   "metadata": {},
   "outputs": [
    {
     "data": {
      "text/plain": [
       "[<matplotlib.lines.Line2D at 0x359eab690>]"
      ]
     },
     "execution_count": 101,
     "metadata": {},
     "output_type": "execute_result"
    },
    {
     "data": {
      "image/png": "[encoded data removed]",
      "text/plain": [
       "<Figure size 1000x1500 with 3 Axes>"
      ]
     },
     "metadata": {},
     "output_type": "display_data"
    }
   ],
   "source": [
    "fig, axes = plt.subplots(3,1, figsize=(10,15))\n",
    "axes[0].plot(scipy.fft.fft(np.stack(df_final[df_final.sleep == \"A\"].signal)[:, 0, :]).mean(axis=0), alpha=1)\n",
    "axes[1].plot(scipy.fft.fft(np.stack(df_final[df_final.sleep == \"R\"].signal)[:, 0, :]).mean(axis=0), alpha=1)\n",
    "axes[2].plot(scipy.fft.fft(np.stack(df_final[df_final.sleep == \"S\"].signal)[:, 0, :]).mean(axis=0), alpha=1)"
   ]
  },
  {
   "cell_type": "code",
   "execution_count": 45,
   "metadata": {},
   "outputs": [
    {
     "data": {
      "image/png": "[encoded data removed]",
      "text/plain": [
       "<Figure size 640x480 with 1 Axes>"
      ]
     },
     "metadata": {},
     "output_type": "display_data"
    }
   ],
   "source": [
    "for i in range(5):\n",
    "    plt.plot(scipy.fft.fft(df_final[df_final.sleep == \"A\"].iloc[i].signal[0]), alpha=.2)"
   ]
  },
  {
   "cell_type": "code",
   "execution_count": null,
   "metadata": {},
   "outputs": [
    {
     "data": {
      "text/plain": [
       "array([array([[-5.28725109e-05, -5.98916609e-05, -3.68505379e-05, ...,\n",
       "               -1.41374838e-04, -1.20775158e-04, -7.40825513e-05],\n",
       "              [ 5.28725109e-05,  1.33516442e-05, -3.24254215e-05, ...,\n",
       "                2.02182040e-05, -6.02731365e-06, -2.38803693e-05]],\n",
       "             shape=(2, 25000))                                        ,\n",
       "       array([[ 1.26726177e-04,  1.28252079e-04,  1.22453651e-04, ...,\n",
       "               -7.09544518e-06, -1.54879072e-05, -2.76951247e-05],\n",
       "              [-6.17990387e-06,  7.70580606e-06,  4.06652934e-05, ...,\n",
       "               -4.06652934e-05, -3.94445716e-05, -3.18150607e-05]],\n",
       "             shape=(2, 25000))                                        ,\n",
       "       array([[-3.89105058e-06,  2.82291905e-06, -1.14442664e-06, ...,\n",
       "               -4.89051652e-05, -1.50301366e-05,  7.09544518e-06],\n",
       "              [-2.25070573e-05, -1.82345312e-05,  1.04524300e-05, ...,\n",
       "                7.46929122e-05,  4.02075227e-05,  6.15701534e-05]],\n",
       "             shape=(2, 25000))                                        ,\n",
       "       array([[ 6.29434653e-05,  5.30251011e-05,  1.77767605e-05, ...,\n",
       "               -1.75478752e-06, -7.09544518e-06, -2.18966964e-05],\n",
       "              [-4.69214923e-05, -2.14389258e-05,  1.51827268e-05, ...,\n",
       "                5.39406424e-05,  3.92919814e-05,  1.60219730e-06]],\n",
       "             shape=(2, 25000))                                        ,\n",
       "       array([[-3.28068971e-06, -2.25070573e-05, -1.68612192e-05, ...,\n",
       "                5.34065766e-07,  1.07576104e-05,  3.48668650e-05],\n",
       "              [ 7.74395361e-05,  5.14991989e-05,  2.06759747e-05, ...,\n",
       "               -1.19783322e-05, -2.23544671e-05, -2.96787976e-05]],\n",
       "             shape=(2, 25000))                                        ,\n",
       "       array([[ 6.17227436e-05,  7.66765850e-05,  7.34721904e-05, ...,\n",
       "               -1.86923018e-05, -3.50194553e-05, -4.24963760e-05],\n",
       "              [-3.28831922e-05, -3.63927672e-05, -3.59349966e-05, ...,\n",
       "                7.62951095e-08,  9.91836423e-07, -4.04364080e-06]],\n",
       "             shape=(2, 25000))                                        ,\n",
       "       array([[-5.31776913e-05, -5.45510033e-05, -4.78370336e-05, ...,\n",
       "               -5.45510033e-05, -5.22621500e-05, -4.32593271e-05],\n",
       "              [-2.76951247e-05, -1.59456779e-05,  2.47959106e-05, ...,\n",
       "               -4.04364080e-06,  8.46875715e-06, -1.44197757e-05]],\n",
       "             shape=(2, 25000))                                        ,\n",
       "       array([[ 7.04203861e-05,  5.21095598e-05,  7.85839628e-06, ...,\n",
       "               -3.74608988e-05, -3.86816205e-05, -3.47142748e-05],\n",
       "              [-3.89105058e-06,  3.86816205e-05,  1.19401846e-04, ...,\n",
       "                3.12809949e-06, -6.86655985e-07, -7.55321584e-06]],\n",
       "             shape=(2, 25000))                                        ,\n",
       "       array([[ 3.33409628e-05,  2.98313878e-05,  7.40062562e-06, ...,\n",
       "               -1.30464637e-05, -8.16357671e-06, -3.36461433e-05],\n",
       "              [-6.79789425e-05, -1.42671855e-05,  3.30357824e-05, ...,\n",
       "                2.67032883e-06, -2.99839780e-05, -6.61478599e-05]],\n",
       "             shape=(2, 25000))                                        ,\n",
       "       array([[-5.37880522e-05, -5.56191348e-05, -5.22621500e-05, ...,\n",
       "                2.69321736e-05,  4.60059510e-05,  4.61585412e-05],\n",
       "              [ 2.14389258e-05, -2.11337453e-05, -4.87525750e-05, ...,\n",
       "               -1.11009384e-04, -6.49271382e-05, -2.76951247e-05]],\n",
       "             shape=(2, 25000))                                        ,\n",
       "       array([[-7.85839628e-06, -3.66979477e-05, -3.86816205e-05, ...,\n",
       "               -2.23544671e-05, -5.83657588e-05, -1.02311742e-04],\n",
       "              [ 3.28068971e-06,  2.67032883e-06, -2.51010910e-05, ...,\n",
       "                1.76241703e-05,  1.09788663e-04,  1.21232929e-04]],\n",
       "             shape=(2, 25000))                                        ,\n",
       "       array([[-1.09788663e-04, -8.44586862e-05, -5.62294957e-05, ...,\n",
       "               -1.04753185e-04, -9.78866255e-05, -9.08674754e-05],\n",
       "              [ 3.74608988e-05, -6.63767453e-06,  4.70740826e-05, ...,\n",
       "               -8.01098650e-06,  2.28885328e-07, -3.81475547e-07]],\n",
       "             shape=(2, 25000))                                        ,\n",
       "       array([[ 6.48508431e-06,  3.43327993e-06, -8.31616693e-06, ...,\n",
       "               -3.57824063e-05, -2.14389258e-05, -1.85397116e-05],\n",
       "              [ 3.79186694e-05,  2.58640421e-05,  1.13679713e-05, ...,\n",
       "               -1.99130236e-05, -3.34935531e-05, -4.26489662e-05]],\n",
       "             shape=(2, 25000))                                        ,\n",
       "       array([[ 7.74395361e-05,  6.43167773e-05,  2.89158465e-05, ...,\n",
       "               -1.45723659e-05, -1.44960708e-06, -2.12863355e-05],\n",
       "              [ 2.35751888e-05,  3.83764401e-05,  6.72159915e-05, ...,\n",
       "               -5.71450370e-05, -5.30251011e-05, -3.57824063e-05]],\n",
       "             shape=(2, 25000))                                        ,\n",
       "       array([[ 1.19783322e-05,  1.82345312e-05,  1.14442664e-06, ...,\n",
       "               -5.18043793e-05, -2.70847639e-05, -7.85839628e-06],\n",
       "              [-7.78973068e-05, -4.38696880e-05, -1.09178302e-04, ...,\n",
       "               -2.02182040e-05, -8.01098650e-06,  1.88448920e-05]],\n",
       "             shape=(2, 25000))                                        ,\n",
       "       array([[-6.48508431e-06, -4.34882124e-06,  2.29648280e-05, ...,\n",
       "                4.34882124e-06,  9.23170825e-06,  3.33409628e-05],\n",
       "              [-3.58587015e-06, -3.92919814e-05, -7.28618296e-05, ...,\n",
       "                2.92210269e-05,  1.04524300e-05,  9.38429847e-06]],\n",
       "             shape=(2, 25000))                                        ,\n",
       "       array([[ 1.99130236e-05,  1.79293507e-05,  1.73189899e-05, ...,\n",
       "               -3.18150607e-05, -2.72373541e-05, -2.29648280e-05],\n",
       "              [ 1.68612192e-05,  2.38803693e-05, -9.91836423e-07, ...,\n",
       "                4.31067369e-05,  5.37880522e-05,  2.76951247e-05]],\n",
       "             shape=(2, 25000))                                        ,\n",
       "       array([[-2.72373541e-05, -2.03707942e-05, -1.51827268e-05, ...,\n",
       "               -1.04524300e-05, -2.51010910e-05, -3.36461433e-05],\n",
       "              [ 2.44907301e-05,  2.82291905e-06,  9.53688869e-06, ...,\n",
       "                2.08285649e-05,  1.04524300e-05,  2.15915160e-05]],\n",
       "             shape=(2, 25000))                                        ,\n",
       "       array([[-2.52536812e-05, -1.15205615e-05, -9.91836423e-07, ...,\n",
       "               -3.13572900e-05, -6.94285496e-06,  1.12153811e-05],\n",
       "              [-3.58587015e-06, -4.81422141e-05, -7.60662242e-05, ...,\n",
       "               -4.72266728e-05, -4.95155261e-05, -4.17334249e-05]],\n",
       "             shape=(2, 25000))                                        ,\n",
       "       array([[-2.25070573e-05, -3.04417487e-05, -4.32593271e-05, ...,\n",
       "               -4.14282444e-05, -6.99626154e-05, -7.02677958e-05],\n",
       "              [ 9.38429847e-06,  1.65560388e-05,  1.73189899e-05, ...,\n",
       "               -9.68947890e-06, -1.13679713e-05, -9.38429847e-06]],\n",
       "             shape=(2, 25000))                                        ,\n",
       "       array([[-5.63820859e-05, -4.21911955e-05, -3.50194553e-05, ...,\n",
       "               -3.41039139e-05, -4.38696880e-05, -4.99732967e-05],\n",
       "              [ 2.36514839e-06,  9.91836423e-07, -8.39246204e-07, ...,\n",
       "                1.27412833e-05,  1.79293507e-05,  9.84206912e-06]],\n",
       "             shape=(2, 25000))                                        ,\n",
       "       array([[-1.89974823e-05, -5.27199207e-05, -6.34012360e-05, ...,\n",
       "               -1.04600595e-04, -9.72762646e-05, -7.36247807e-05],\n",
       "              [ 2.92210269e-05, -6.63767453e-06, -1.80819409e-05, ...,\n",
       "               -7.60662242e-05, -8.56794079e-05, -1.42671855e-05]],\n",
       "             shape=(2, 25000))                                        ,\n",
       "       array([[-6.87418936e-05, -5.94338903e-05, -4.41748684e-05, ...,\n",
       "               -2.28885328e-07, -5.34065766e-07,  5.34065766e-07],\n",
       "              [ 1.19783322e-05, -7.09544518e-06,  1.01472496e-05, ...,\n",
       "               -2.70847639e-05,  4.04364080e-06,  3.30357824e-05]],\n",
       "             shape=(2, 25000))                                        ,\n",
       "       array([[ 6.49271382e-05,  5.47035935e-05,  3.02891585e-05, ...,\n",
       "                6.30960555e-05,  6.67582208e-05,  6.12649729e-05],\n",
       "              [-1.31990539e-05,  4.80659190e-06,  3.89868009e-05, ...,\n",
       "               -7.11833371e-05, -9.08674754e-05, -8.40009155e-05]],\n",
       "             shape=(2, 25000))                                        ,\n",
       "       array([[ 4.50904097e-05,  4.23437858e-05,  2.76951247e-05, ...,\n",
       "               -2.47959106e-05,  8.62134737e-06,  3.41039139e-05],\n",
       "              [ 1.82345312e-05,  1.47249561e-05,  4.65400168e-06, ...,\n",
       "                1.82345312e-05, -1.75478752e-06, -2.25070573e-05]],\n",
       "             shape=(2, 25000))                                        ,\n",
       "       array([[ 2.63218128e-05, -2.36514839e-06, -7.24803540e-06, ...,\n",
       "                9.68947890e-06,  1.44960708e-06,  2.97550927e-06],\n",
       "              [-1.24361028e-05,  1.16731518e-05,  3.43327993e-06, ...,\n",
       "                1.28938735e-05,  6.86655985e-07, -5.34065766e-07]],\n",
       "             shape=(2, 25000))                                        ,\n",
       "       array([[ 7.02677958e-05,  7.24040589e-05,  7.28618296e-05, ...,\n",
       "               -5.10414282e-05, -3.68505379e-05, -3.22728313e-05],\n",
       "              [-2.25070573e-05, -2.22018769e-05, -1.83871214e-05, ...,\n",
       "                1.14442664e-06,  3.28068971e-06,  2.82291905e-06]],\n",
       "             shape=(2, 25000))                                        ,\n",
       "       array([[-4.53955901e-05, -2.96787976e-05, -9.23170825e-06, ...,\n",
       "               -8.50690471e-05, -8.00335698e-05, -8.20172427e-05],\n",
       "              [-2.36514839e-06, -5.26436255e-06, -9.53688869e-06, ...,\n",
       "               -5.87472343e-06, -1.01472496e-05, -1.45723659e-05]],\n",
       "             shape=(2, 25000))                                        ,\n",
       "       array([[7.27092393e-05, 8.75104906e-05, 9.94125277e-05, ...,\n",
       "               1.33516442e-05, 2.08285649e-05, 2.40329595e-05],\n",
       "              [1.09102007e-05, 1.16731518e-05, 9.07911803e-06, ...,\n",
       "               1.51827268e-05, 5.72213321e-06, 1.24361028e-05]], shape=(2, 25000)),\n",
       "       array([[-6.15701534e-05, -5.25673304e-05, -4.17334249e-05, ...,\n",
       "               -1.93026627e-05, -2.87632563e-05, -3.50194553e-05],\n",
       "              [ 9.38429847e-06,  9.38429847e-06,  6.86655985e-07, ...,\n",
       "               -4.65400168e-06, -1.38094148e-05, -1.30464637e-05]],\n",
       "             shape=(2, 25000))                                        ,\n",
       "       array([[ 4.70740826e-05,  4.72266728e-05,  3.33409628e-05, ...,\n",
       "               -6.50797284e-05, -8.50690471e-05, -9.04097047e-05],\n",
       "              [ 3.04417487e-05,  3.57824063e-05,  1.70138094e-05, ...,\n",
       "                1.08567941e-04,  5.50087739e-05,  9.38429847e-06]],\n",
       "             shape=(2, 25000))                                        ,\n",
       "       array([[ 5.66872663e-05,  6.43167773e-05,  7.66765850e-05, ...,\n",
       "               -4.29541466e-05, -3.70031281e-05, -4.57007706e-05],\n",
       "              [-4.24963760e-05, -5.92813001e-05, -3.12046998e-05, ...,\n",
       "               -5.60769055e-05, -6.52323186e-05, -6.95048447e-05]],\n",
       "             shape=(2, 25000))                                        ,\n",
       "       array([[-2.49485008e-05, -5.72976272e-05, -7.53032731e-05, ...,\n",
       "                2.64744030e-05, -6.48508431e-06, -3.73083085e-05],\n",
       "              [ 1.56404974e-05, -9.91836423e-07, -1.10627909e-05, ...,\n",
       "               -1.44426642e-04, -1.01091020e-04, -3.18150607e-05]],\n",
       "             shape=(2, 25000))                                        ,\n",
       "       array([[-4.90577554e-05, -8.77393759e-06,  2.73899443e-05, ...,\n",
       "                7.09544518e-06,  1.04524300e-05,  2.46433204e-05],\n",
       "              [ 1.08720531e-04,  2.93736172e-05, -3.56298161e-05, ...,\n",
       "                4.12756542e-05,  1.16731518e-05, -3.28831922e-05]],\n",
       "             shape=(2, 25000))                                        ,\n",
       "       array([[ 2.55588617e-05,  2.96787976e-05,  3.85290303e-05, ...,\n",
       "               -6.14175631e-05, -4.67689021e-05, -4.12756542e-05],\n",
       "              [-5.65346761e-05, -2.80003052e-05, -4.50141146e-06, ...,\n",
       "                3.65453574e-05,  9.31563287e-05,  5.68398566e-05]],\n",
       "             shape=(2, 25000))                                        ,\n",
       "       array([[ 2.29648280e-05,  8.46875715e-06, -1.16731518e-05, ...,\n",
       "               -1.15281910e-04, -1.34050507e-04, -1.31609064e-04],\n",
       "              [-9.04097047e-05, -6.02731365e-06,  1.03227283e-04, ...,\n",
       "               -5.27199207e-05, -4.65400168e-06, -2.03707942e-05]],\n",
       "             shape=(2, 25000))                                        ,\n",
       "       array([[-1.18638895e-04, -1.06279088e-04, -9.01045243e-05, ...,\n",
       "               -5.21095598e-05, -9.53688869e-06,  4.18860151e-05],\n",
       "              [-4.49378195e-05, -1.31990539e-05,  3.19676509e-05, ...,\n",
       "                5.72976272e-05,  4.84473945e-05,  4.89051652e-05]],\n",
       "             shape=(2, 25000))                                        ,\n",
       "       array([[ 9.42244602e-05,  7.07255665e-05,  4.43274586e-05, ...,\n",
       "               -5.19569696e-05, -1.51827268e-05,  9.23170825e-06],\n",
       "              [-6.50797284e-05, -2.57114519e-05, -1.48775463e-05, ...,\n",
       "               -2.29648280e-05, -1.96078431e-05, -1.77767605e-05]],\n",
       "             shape=(2, 25000))                                        ,\n",
       "       array([[-1.70138094e-05, -1.19783322e-05, -1.97604334e-05, ...,\n",
       "                5.71450370e-05,  6.12649729e-05,  5.65346761e-05],\n",
       "              [ 3.58587015e-06, -1.82345312e-05, -2.34225986e-05, ...,\n",
       "                1.04524300e-05, -2.05996796e-06, -2.00656138e-05]],\n",
       "             shape=(2, 25000))                                        ,\n",
       "       array([[ 6.98100252e-05,  9.01045243e-05,  7.37773709e-05, ...,\n",
       "               -3.54772259e-05, -3.53246357e-05, -2.93736172e-05],\n",
       "              [-6.99626154e-05, -7.39299611e-05, -6.09597925e-05, ...,\n",
       "                3.65453574e-05, -9.99465934e-06, -6.08072023e-05]],\n",
       "             shape=(2, 25000))                                        ,\n",
       "       array([[-1.68612192e-05, -1.14442664e-06,  1.12153811e-05, ...,\n",
       "                3.12046998e-05,  1.62508583e-05, -1.29701686e-06],\n",
       "              [-8.87312123e-05, -8.58319982e-05, -8.38483253e-05, ...,\n",
       "               -4.14282444e-05,  1.75478752e-06, -9.68947890e-06]],\n",
       "             shape=(2, 25000))                                        ,\n",
       "       array([[-3.94445716e-05, -3.50194553e-05, -2.11337453e-05, ...,\n",
       "               -1.30464637e-05,  1.57930877e-05,  3.01365682e-05],\n",
       "              [-1.32677195e-04, -1.10704204e-04, -9.77340352e-05, ...,\n",
       "               -7.51506828e-05, -7.60662242e-05, -8.27801938e-05]],\n",
       "             shape=(2, 25000))                                        ,\n",
       "       array([[ 2.58640421e-05,  2.40329595e-05,  3.02891585e-05, ...,\n",
       "               -2.38803693e-05, -4.31067369e-05, -5.85183490e-05],\n",
       "              [-8.33905547e-05, -7.66765850e-05, -7.28618296e-05, ...,\n",
       "               -9.68947890e-06, -1.50301366e-05, -3.53246357e-05]],\n",
       "             shape=(2, 25000))                                        ,\n",
       "       array([[ 1.76241703e-05,  2.40329595e-05,  1.13679713e-05, ...,\n",
       "               -6.40115969e-05, -4.11230640e-05, -1.35042344e-05],\n",
       "              [-3.89868009e-05, -3.44090944e-05, -3.02891585e-05, ...,\n",
       "                7.02677958e-05, -4.50141146e-06, -7.08781567e-05]],\n",
       "             shape=(2, 25000))                                        ,\n",
       "       array([[ 6.67582208e-05,  5.83657588e-05,  4.21911955e-05, ...,\n",
       "               -3.74608988e-05, -6.94285496e-06,  1.59456779e-05],\n",
       "              [-3.31883726e-05, -1.68612192e-05, -2.25070573e-05, ...,\n",
       "               -1.27412833e-05,  4.34882124e-06,  7.09544518e-06]],\n",
       "             shape=(2, 25000))                                        ,\n",
       "       array([[ 1.70138094e-05,  3.82238499e-05,  3.50194553e-05, ...,\n",
       "                1.89974823e-05,  2.97550927e-06, -6.79026474e-06],\n",
       "              [-4.92103456e-05, -4.32593271e-05, -3.27306020e-05, ...,\n",
       "                4.08178836e-05,  4.37170977e-05,  1.42671855e-05]],\n",
       "             shape=(2, 25000))                                        ,\n",
       "       array([[ 2.40329595e-05,  1.50301366e-05, -6.94285496e-06, ...,\n",
       "                4.87525750e-05,  6.14175631e-05,  5.45510033e-05],\n",
       "              [-2.76951247e-05, -2.54062715e-05, -3.33409628e-05, ...,\n",
       "                6.75211719e-05,  6.44693675e-05,  3.04417487e-05]],\n",
       "             shape=(2, 25000))                                        ,\n",
       "       array([[-1.16731518e-05,  2.17441062e-05,  4.43274586e-05, ...,\n",
       "                3.27306020e-05,  6.17990387e-06, -8.46875715e-06],\n",
       "              [ 8.65949493e-05,  4.49378195e-05,  3.12046998e-05, ...,\n",
       "               -1.13679713e-05, -2.34225986e-05, -2.92210269e-05]],\n",
       "             shape=(2, 25000))                                        ,\n",
       "       array([[ 2.36514839e-06,  2.05996796e-06,  2.28885328e-07, ...,\n",
       "               -2.34225986e-05,  1.51827268e-05,  3.28831922e-05],\n",
       "              [ 3.58587015e-06,  8.77393759e-06, -8.46875715e-06, ...,\n",
       "               -9.97177081e-05, -6.59952697e-05, -5.02784771e-05]],\n",
       "             shape=(2, 25000))                                        ,\n",
       "       array([[-1.62508583e-05, -4.37170977e-05, -6.26382849e-05, ...,\n",
       "               -3.58587015e-06,  5.26436255e-06, -8.16357671e-06],\n",
       "              [ 1.80819409e-05, -2.67032883e-06, -3.36461433e-05, ...,\n",
       "               -5.72213321e-06, -1.33516442e-05, -1.79293507e-05]],\n",
       "             shape=(2, 25000))                                        ,\n",
       "       array([[-2.11337453e-05, -8.92652781e-06, -5.87472343e-06, ...,\n",
       "               -1.04524300e-05, -4.50141146e-06, -3.58587015e-06],\n",
       "              [ 2.58640421e-05, -2.64744030e-05, -3.63927672e-05, ...,\n",
       "               -1.27412833e-05,  1.19783322e-05,  4.47852293e-05]],\n",
       "             shape=(2, 25000))                                        ,\n",
       "       array([[-5.01258869e-05, -3.47142748e-05, -2.29648280e-05, ...,\n",
       "               -9.99465934e-06,  2.00656138e-05,  2.57114519e-05],\n",
       "              [ 7.70580606e-06,  1.67086290e-05,  4.65400168e-06, ...,\n",
       "               -1.12153811e-05, -6.79026474e-06,  5.65346761e-05]],\n",
       "             shape=(2, 25000))                                        ,\n",
       "       array([[ 2.55588617e-05,  3.02891585e-05,  4.18860151e-05, ...,\n",
       "                6.33249409e-06, -7.85839628e-06, -4.43274586e-05],\n",
       "              [-4.70740826e-05, -3.62401770e-05, -1.51827268e-05, ...,\n",
       "                3.13572900e-05,  3.63927672e-05,  9.77340352e-05]],\n",
       "             shape=(2, 25000))                                        ,\n",
       "       array([[ 7.30144198e-05,  5.65346761e-05,  4.70740826e-05, ...,\n",
       "                2.21255818e-06,  1.15205615e-05,  2.37277790e-05],\n",
       "              [-1.12153811e-05, -3.89105058e-06,  2.36514839e-06, ...,\n",
       "               -5.97390707e-05, -6.98100252e-05, -8.32379644e-05]],\n",
       "             shape=(2, 25000))                                        ,\n",
       "       array([[ 4.09704738e-05,  3.65453574e-05,  3.82238499e-05, ...,\n",
       "               -8.53742275e-05, -5.98916609e-05, -4.17334249e-05],\n",
       "              [-5.95864805e-05, -8.65949493e-05, -8.67475395e-05, ...,\n",
       "               -3.89868009e-05, -7.39299611e-05, -1.03990234e-04]],\n",
       "             shape=(2, 25000))                                        ,\n",
       "       array([[-4.35645075e-05, -4.63111315e-05, -2.63218128e-05, ...,\n",
       "               -1.68612192e-05, -2.54062715e-05, -3.02891585e-05],\n",
       "              [-1.05516136e-04, -8.49164569e-05, -6.52323186e-05, ...,\n",
       "                2.97550927e-06,  3.16624704e-05,  6.21805142e-05]],\n",
       "             shape=(2, 25000))                                        ,\n",
       "       array([[-1.77767605e-05,  3.43327993e-06,  9.23170825e-06, ...,\n",
       "               -7.62951095e-08, -7.62951095e-08, -7.62951095e-08],\n",
       "              [ 5.65346761e-05,  2.41855497e-05, -9.84206912e-06, ...,\n",
       "               -7.62951095e-08, -7.62951095e-08, -7.62951095e-08]],\n",
       "             shape=(2, 25000))                                        ,\n",
       "       array([[-3.18150607e-05, -2.49485008e-05, -3.24254215e-05, ...,\n",
       "               -3.66979477e-05, -3.25780117e-05, -4.92103456e-05],\n",
       "              [-3.68505379e-05, -2.66269932e-05,  1.90737774e-06, ...,\n",
       "               -5.11940185e-05, -6.86655985e-07,  1.64034485e-05]],\n",
       "             shape=(2, 25000))                                        ,\n",
       "       array([[ 4.15808347e-05,  3.80712596e-05,  2.54062715e-05, ...,\n",
       "                1.22835126e-05,  1.97604334e-05,  4.65400168e-06],\n",
       "              [-3.33409628e-05, -2.44907301e-05, -1.97604334e-05, ...,\n",
       "                6.75211719e-05,  7.24040589e-05,  2.37277790e-05]],\n",
       "             shape=(2, 25000))                                        ,\n",
       "       array([[-6.79026474e-06, -2.51010910e-05, -8.01098650e-06, ...,\n",
       "                9.53688869e-06, -2.05996796e-06, -3.12809949e-06],\n",
       "              [-1.91500725e-05, -2.17441062e-05, -1.22835126e-05, ...,\n",
       "               -2.92210269e-05, -3.30357824e-05,  5.10414282e-05]],\n",
       "             shape=(2, 25000))                                        ,\n",
       "       array([[-6.48508431e-06, -1.67086290e-05, -2.40329595e-05, ...,\n",
       "               -5.26436255e-06, -3.02891585e-05, -2.35751888e-05],\n",
       "              [ 2.09811551e-05,  3.25780117e-05,  2.00656138e-05, ...,\n",
       "               -5.77553979e-05, -2.31174182e-05, -4.29541466e-05]],\n",
       "             shape=(2, 25000))                                        ,\n",
       "       array([[-1.56404974e-05, -3.73083085e-05, -4.84473945e-05, ...,\n",
       "                4.15808347e-05,  4.61585412e-05,  4.50904097e-05],\n",
       "              [-5.13466087e-05, -7.63714046e-05, -8.94941634e-05, ...,\n",
       "                2.82291905e-06, -2.08285649e-05, -4.00549325e-05]],\n",
       "             shape=(2, 25000))                                        ,\n",
       "       array([[ 1.39620050e-05,  5.34065766e-07, -1.35042344e-05, ...,\n",
       "                7.43877317e-05,  5.79079881e-05,  3.08995193e-05],\n",
       "              [ 2.72373541e-05, -4.98207065e-05, -9.40718700e-05, ...,\n",
       "               -3.82238499e-05,  1.47249561e-05,  3.53246357e-05]],\n",
       "             shape=(2, 25000))                                        ,\n",
       "       array([[ 7.66765850e-05,  7.16411078e-05,  7.49980926e-05, ...,\n",
       "                1.82345312e-05,  5.27199207e-05,  4.35645075e-05],\n",
       "              [ 8.62897688e-05,  7.98809796e-05,  2.57114519e-05, ...,\n",
       "               -3.44090944e-05,  7.85839628e-06,  1.76241703e-05]],\n",
       "             shape=(2, 25000))                                        ,\n",
       "       array([[ 8.52216373e-05,  8.35431449e-05,  9.86495766e-05, ...,\n",
       "                2.73899443e-05,  4.63111315e-05,  5.77553979e-05],\n",
       "              [ 7.24040589e-05,  2.32700084e-05, -4.63111315e-05, ...,\n",
       "                9.78866255e-05,  1.42900740e-04,  1.20164797e-04]],\n",
       "             shape=(2, 25000))                                        ,\n",
       "       array([[ 9.16304265e-05,  7.68291752e-05,  7.43877317e-05, ...,\n",
       "                6.63767453e-06, -5.11177234e-06, -1.12153811e-05],\n",
       "              [-2.95262074e-05, -4.15808347e-05, -2.86106661e-05, ...,\n",
       "                9.13252461e-05,  4.89051652e-05,  3.34935531e-05]],\n",
       "             shape=(2, 25000))                                        ,\n",
       "       array([[-2.49485008e-05,  2.73899443e-05,  6.85893034e-05, ...,\n",
       "                3.37987335e-05,  3.48668650e-05,  3.10521096e-05],\n",
       "              [-4.99732967e-05, -7.69817655e-05, -4.21911955e-05, ...,\n",
       "               -3.15098802e-05, -2.20492866e-05, -1.57930877e-05]],\n",
       "             shape=(2, 25000))                                        ,\n",
       "       array([[ 3.82238499e-05,  3.91393912e-05,  5.08888380e-05, ...,\n",
       "                2.80003052e-05,  3.83764401e-05,  4.29541466e-05],\n",
       "              [-2.12863355e-05, -3.74608988e-05, -4.85999847e-05, ...,\n",
       "               -4.24963760e-05,  1.30464637e-05,  4.24963760e-05]],\n",
       "             shape=(2, 25000))                                        ,\n",
       "       array([[-6.48508431e-06, -3.62401770e-05, -4.52429999e-05, ...,\n",
       "               -2.80003052e-05, -2.12863355e-05, -2.80003052e-05],\n",
       "              [-1.00785840e-04, -1.07957580e-04, -1.02769512e-04, ...,\n",
       "                1.33516442e-05, -3.10521096e-05, -5.05836576e-05]],\n",
       "             shape=(2, 25000))                                        ,\n",
       "       array([[ 5.76028077e-05,  4.44800488e-05,  3.48668650e-05, ...,\n",
       "                2.00656138e-05,  6.02731365e-06,  1.12153811e-05],\n",
       "              [-8.47638666e-05, -8.20172427e-05, -7.85076677e-05, ...,\n",
       "                8.65949493e-05,  6.30960555e-05,  3.47142748e-05]],\n",
       "             shape=(2, 25000))                                        ,\n",
       "       array([[-4.67689021e-05, -4.35645075e-05, -3.13572900e-05, ...,\n",
       "                3.27306020e-05,  1.60982681e-05,  7.55321584e-06],\n",
       "              [-7.69817655e-05, -9.07148852e-05, -9.75814450e-05, ...,\n",
       "               -1.67086290e-05,  3.48668650e-05,  2.86106661e-05]],\n",
       "             shape=(2, 25000))                                        ,\n",
       "       array([[ 1.12153811e-05, -2.36514839e-06, -1.89974823e-05, ...,\n",
       "               -3.88342107e-05, -6.23331044e-05, -4.67689021e-05],\n",
       "              [ 5.28725109e-05,  8.82734417e-05,  9.74288548e-05, ...,\n",
       "               -4.67689021e-05, -3.65453574e-05, -3.28068971e-06]],\n",
       "             shape=(2, 25000))                                        ,\n",
       "       array([[ 1.44960708e-06,  9.38429847e-06,  2.15915160e-05, ...,\n",
       "                1.68612192e-05,  4.32593271e-05,  6.99626154e-05],\n",
       "              [-9.05622950e-05, -8.67475395e-05, -9.55977722e-05, ...,\n",
       "                1.32829786e-04,  7.78973068e-05,  1.27183948e-04]],\n",
       "             shape=(2, 25000))                                        ,\n",
       "       array([[ 4.78370336e-05,  6.67582208e-05,  7.04203861e-05, ...,\n",
       "                1.64034485e-05,  4.50904097e-05,  6.01968414e-05],\n",
       "              [ 5.80605783e-05,  1.71663996e-05,  2.02182040e-05, ...,\n",
       "               -8.21698329e-05, -1.31609064e-04, -1.30540932e-04]],\n",
       "             shape=(2, 25000))                                        ,\n",
       "       array([[-1.22835126e-05, -1.82345312e-05, -2.98313878e-05, ...,\n",
       "                4.65400168e-06, -4.34882124e-06, -3.48668650e-05],\n",
       "              [-9.02571145e-05, -1.10093843e-04, -1.24284733e-04, ...,\n",
       "                1.90737774e-06, -3.89105058e-06,  2.51773861e-06]],\n",
       "             shape=(2, 25000))                                        ,\n",
       "       array([[-5.02784771e-05, -5.30251011e-05, -5.11940185e-05, ...,\n",
       "                4.79896239e-05,  1.29701686e-06,  4.80659190e-06],\n",
       "              [-5.33302815e-05, -4.89051652e-05, -4.50904097e-05, ...,\n",
       "                1.69604028e-04,  1.74944686e-04,  1.24589914e-04]],\n",
       "             shape=(2, 25000))                                        ,\n",
       "       array([[9.52925917e-05, 4.69214923e-05, 2.81528954e-05, ...,\n",
       "               9.84206912e-06, 1.82345312e-05, 2.06759747e-05],\n",
       "              [8.69001297e-05, 1.59838254e-04, 1.31609064e-04, ...,\n",
       "               5.50087739e-05, 4.55481804e-05, 6.05020218e-05]], shape=(2, 25000)),\n",
       "       array([[-5.65346761e-05, -4.46326390e-05,  1.60219730e-06, ...,\n",
       "               -2.81528954e-05, -4.28015564e-05, -5.16517891e-05],\n",
       "              [-4.96681163e-05, -7.89654383e-05, -9.37666896e-05, ...,\n",
       "                4.31067369e-05,  4.67689021e-05,  2.87632563e-05]],\n",
       "             shape=(2, 25000))                                        ,\n",
       "       array([[ 3.15098802e-05,  3.71557183e-05,  5.80605783e-05, ...,\n",
       "               -4.70740826e-05, -4.82948043e-05, -7.19462882e-05],\n",
       "              [ 1.06431678e-04,  1.22758831e-04,  7.80498970e-05, ...,\n",
       "               -8.85786221e-05, -5.95864805e-05, -3.54772259e-05]],\n",
       "             shape=(2, 25000))                                        ,\n",
       "       array([[ 1.36568246e-05,  1.86923018e-05,  1.83871214e-05, ...,\n",
       "                2.03707942e-05,  7.24803540e-06, -1.79293507e-05],\n",
       "              [-8.16357671e-06, -1.90737774e-06, -9.53688869e-06, ...,\n",
       "               -3.59349966e-05, -3.60875868e-05, -3.97497520e-05]],\n",
       "             shape=(2, 25000))                                        ,\n",
       "       array([[-4.84473945e-05, -6.30960555e-05, -7.45403220e-05, ...,\n",
       "               -6.64530404e-05, -4.29541466e-05,  6.79026474e-06],\n",
       "              [-6.52323186e-05, -9.97177081e-05, -6.17227436e-05, ...,\n",
       "                1.07957580e-04,  8.15594720e-05,  2.60166323e-05]],\n",
       "             shape=(2, 25000))                                        ,\n",
       "       array([[-1.25886931e-05,  2.82291905e-06, -2.67032883e-06, ...,\n",
       "               -2.06759747e-05, -2.18966964e-05, -2.49485008e-05],\n",
       "              [-4.98207065e-05, -4.34119173e-05, -1.65560388e-05, ...,\n",
       "                7.24803540e-06, -2.72373541e-05, -7.01152056e-05]],\n",
       "             shape=(2, 25000))                                        ,\n",
       "       array([[ 7.08781567e-05,  4.08178836e-05,  3.13572900e-05, ...,\n",
       "                6.46219577e-05,  7.71343557e-05,  6.63004501e-05],\n",
       "              [ 9.69710842e-05,  7.22514687e-05,  4.40222782e-05, ...,\n",
       "               -1.68612192e-05, -2.37277790e-05, -2.17441062e-05]],\n",
       "             shape=(2, 25000))                                        ,\n",
       "       array([[-7.24803540e-06, -1.59456779e-05,  2.28885328e-07, ...,\n",
       "                5.34828717e-05,  6.30960555e-05,  4.63111315e-05],\n",
       "              [ 7.45403220e-05,  6.03494316e-05,  2.90684367e-05, ...,\n",
       "                6.01968414e-05,  5.85183490e-05,  3.77660792e-05]],\n",
       "             shape=(2, 25000))                                        ,\n",
       "       array([[ 2.23544671e-05,  2.38803693e-05,  1.38094148e-05, ...,\n",
       "                1.13679713e-05, -6.02731365e-06, -6.94285496e-06],\n",
       "              [-5.13466087e-05, -6.58426795e-05, -5.28725109e-05, ...,\n",
       "                1.11619745e-04,  7.46929122e-05,  4.12756542e-05]],\n",
       "             shape=(2, 25000))                                        ,\n",
       "       array([[ 2.73899443e-05,  2.87632563e-05,  1.93026627e-05, ...,\n",
       "               -5.56191348e-05, -5.56191348e-05, -3.24254215e-05],\n",
       "              [ 2.29648280e-05,  7.24803540e-06, -2.97550927e-06, ...,\n",
       "               -4.95155261e-05, -4.20386053e-05,  1.30464637e-05]],\n",
       "             shape=(2, 25000))                                        ,\n",
       "       array([[-1.19783322e-05, -7.62951095e-08,  6.79026474e-06, ...,\n",
       "               -3.39513237e-05, -4.55481804e-05, -5.79079881e-05],\n",
       "              [-2.98313878e-05, -3.62401770e-05, -4.43274586e-05, ...,\n",
       "                9.84206912e-06, -9.07911803e-06, -6.02731365e-06]],\n",
       "             shape=(2, 25000))                                        ,\n",
       "       array([[-1.67086290e-05, -1.18257420e-05, -8.62134737e-06, ...,\n",
       "               -1.28938735e-05,  5.11177234e-06,  1.51827268e-05],\n",
       "              [-2.37277790e-05, -1.24361028e-05, -1.09102007e-05, ...,\n",
       "                3.45616846e-05,  4.29541466e-05,  1.48775463e-05]],\n",
       "             shape=(2, 25000))                                        ,\n",
       "       array([[-3.50194553e-05, -4.21911955e-05, -5.39406424e-05, ...,\n",
       "                2.51773861e-06, -1.73189899e-05, -3.82238499e-05],\n",
       "              [-1.15205615e-05, -1.41145953e-05,  2.25070573e-05, ...,\n",
       "               -5.02784771e-05, -4.12756542e-05, -3.54772259e-05]],\n",
       "             shape=(2, 25000))                                        ,\n",
       "       array([[-7.55321584e-06, -1.25886931e-05, -1.59456779e-05, ...,\n",
       "                2.75425345e-05,  7.40062562e-06, -1.76241703e-05],\n",
       "              [-1.86923018e-05,  3.73846036e-06,  1.59456779e-05, ...,\n",
       "                9.84206912e-06,  9.84206912e-06,  8.31616693e-06]],\n",
       "             shape=(2, 25000))                                        ,\n",
       "       array([[ 1.51827268e-05,  2.67032883e-06, -1.25886931e-05, ...,\n",
       "                1.21309224e-05,  3.12046998e-05,  3.57824063e-05],\n",
       "              [-5.22621500e-05, -6.09597925e-05, -5.91287098e-05, ...,\n",
       "                3.48668650e-05,  2.61692226e-05,  2.06759747e-05]],\n",
       "             shape=(2, 25000))                                        ,\n",
       "       array([[ 7.55321584e-06,  8.92652781e-06,  1.28938735e-05, ...,\n",
       "                5.45510033e-05,  4.43274586e-05,  2.70847639e-05],\n",
       "              [-7.70580606e-06, -7.55321584e-06, -6.94285496e-06, ...,\n",
       "               -1.65560388e-05, -1.42671855e-05,  5.11177234e-06]],\n",
       "             shape=(2, 25000))                                        ,\n",
       "       array([[ 3.12046998e-05,  3.04417487e-05,  2.11337453e-05, ...,\n",
       "               -1.13908598e-04, -8.69001297e-05, -4.85999847e-05],\n",
       "              [ 9.91836423e-07,  5.34065766e-07, -2.05996796e-06, ...,\n",
       "                3.47142748e-05, -1.60219730e-06,  9.91836423e-07]],\n",
       "             shape=(2, 25000))                                        ,\n",
       "       array([[1.64034485e-05, 1.07576104e-05, 1.35042344e-05, ...,\n",
       "               6.23331044e-05, 5.42458228e-05, 3.60875868e-05],\n",
       "              [3.41039139e-05, 3.10521096e-05, 2.57114519e-05, ...,\n",
       "               2.08285649e-05, 8.69001297e-05, 9.39192798e-05]], shape=(2, 25000)),\n",
       "       array([[-6.64530404e-05, -5.27199207e-05, -4.08178836e-05, ...,\n",
       "               -8.75104906e-05, -6.67582208e-05, -3.70031281e-05],\n",
       "              [-4.06652934e-05, -1.51827268e-05,  1.90737774e-06, ...,\n",
       "               -3.19676509e-05, -3.54772259e-05, -3.31883726e-05]],\n",
       "             shape=(2, 25000))                                        ,\n",
       "       array([[-4.63111315e-05, -5.43984131e-05, -6.11123827e-05, ...,\n",
       "                1.75478752e-06,  2.72373541e-05,  4.23437858e-05],\n",
       "              [ 1.04142824e-04,  4.87525750e-05,  3.59349966e-05, ...,\n",
       "               -2.96787976e-05, -3.74608988e-05, -2.54062715e-05]],\n",
       "             shape=(2, 25000))                                        ,\n",
       "       array([[-1.94552529e-05, -2.38803693e-05, -4.35645075e-05, ...,\n",
       "                6.40115969e-05,  4.85999847e-05,  4.75318532e-05],\n",
       "              [-1.42290379e-04, -1.53429465e-04, -1.58312352e-04, ...,\n",
       "               -2.26596475e-05, -6.05020218e-05, -6.30960555e-05]],\n",
       "             shape=(2, 25000))                                        ,\n",
       "       array([[-9.10200656e-05, -4.49378195e-05,  3.60875868e-05, ...,\n",
       "                2.40329595e-05,  7.70580606e-06,  5.34065766e-07],\n",
       "              [ 5.57717250e-05,  3.89868009e-05,  2.95262074e-05, ...,\n",
       "                5.33302815e-05,  4.84473945e-05,  4.02075227e-05]],\n",
       "             shape=(2, 25000))                                        ,\n",
       "       array([[-1.79293507e-05, -2.12863355e-05, -2.26596475e-05, ...,\n",
       "               -7.36247807e-05, -3.07469291e-05, -2.87632563e-05],\n",
       "              [-6.01968414e-05, -6.95048447e-05, -6.66056306e-05, ...,\n",
       "                6.78263523e-05,  9.34615091e-05,  8.24750134e-05]],\n",
       "             shape=(2, 25000))                                        ,\n",
       "       array([[-4.55481804e-05, -5.51613642e-05, -4.18860151e-05, ...,\n",
       "                2.28885328e-07, -2.22018769e-05, -2.09811551e-05],\n",
       "              [ 1.01853971e-04,  3.44090944e-05, -7.55321584e-06, ...,\n",
       "               -5.66872663e-05, -4.55481804e-05, -3.02891585e-05]],\n",
       "             shape=(2, 25000))                                        ,\n",
       "       array([[-4.02075227e-05, -4.29541466e-05, -3.37987335e-05, ...,\n",
       "                6.46219577e-05,  3.83764401e-05,  1.22835126e-05],\n",
       "              [ 4.50904097e-05,  6.87418936e-05,  8.53742275e-05, ...,\n",
       "               -1.35042344e-05,  1.93026627e-05,  8.20172427e-05]],\n",
       "             shape=(2, 25000))                                        ,\n",
       "       array([[ 2.76951247e-05,  2.60166323e-05,  3.15098802e-05, ...,\n",
       "                2.28885328e-07, -8.62134737e-06, -2.70847639e-05],\n",
       "              [ 7.62188144e-05,  9.01045243e-05,  6.78263523e-05, ...,\n",
       "               -4.26489662e-05, -4.09704738e-05, -3.85290303e-05]],\n",
       "             shape=(2, 25000))                                        ,\n",
       "       array([[-3.27306020e-05, -3.71557183e-05, -4.15808347e-05, ...,\n",
       "                6.48508431e-06,  1.73189899e-05,  3.19676509e-05],\n",
       "              [ 7.94232090e-05,  7.49980926e-05,  1.16502632e-04, ...,\n",
       "               -4.92103456e-05, -5.22621500e-05, -1.80819409e-05]],\n",
       "             shape=(2, 25000))                                        ,\n",
       "       array([[-5.18043793e-05, -4.60059510e-05, -3.70031281e-05, ...,\n",
       "                3.58587015e-06,  7.09544518e-06,  4.50141146e-06],\n",
       "              [-3.22728313e-05, -4.47852293e-05, -4.08178836e-05, ...,\n",
       "                4.57007706e-05,  7.34721904e-05,  4.64637217e-05]],\n",
       "             shape=(2, 25000))                                        ,\n",
       "       array([[-1.15205615e-05,  3.58587015e-06,  1.57930877e-05, ...,\n",
       "                1.38094148e-05,  3.58587015e-06, -7.85839628e-06],\n",
       "              [-8.29327840e-05, -6.30960555e-05, -6.03494316e-05, ...,\n",
       "               -3.22728313e-05, -4.11230640e-05, -5.10414282e-05]],\n",
       "             shape=(2, 25000))                                        ,\n",
       "       array([[-5.37880522e-05, -5.80605783e-05, -6.78263523e-05, ...,\n",
       "                1.42671855e-05,  1.83871214e-05,  1.50301366e-05],\n",
       "              [ 3.45616846e-05,  1.54879072e-05,  7.85839628e-06, ...,\n",
       "               -1.36568246e-05, -1.90737774e-06, -1.53353170e-05]],\n",
       "             shape=(2, 25000))                                        ,\n",
       "       array([[ 2.78477150e-05,  2.78477150e-05,  3.80712596e-05, ...,\n",
       "               -1.65560388e-05, -1.25886931e-05, -2.41855497e-05],\n",
       "              [-4.35645075e-05, -3.97497520e-05, -2.67795834e-05, ...,\n",
       "                4.81422141e-05,  1.09102007e-05,  3.62401770e-05]],\n",
       "             shape=(2, 25000))                                        ,\n",
       "       array([[-2.92210269e-05, -4.50904097e-05, -5.34828717e-05, ...,\n",
       "               -1.83871214e-05, -8.77393759e-06,  1.42671855e-05],\n",
       "              [-2.18966964e-05, -1.68612192e-05, -1.45723659e-05, ...,\n",
       "               -1.24361028e-05, -1.35042344e-05, -1.25886931e-05]],\n",
       "             shape=(2, 25000))                                        ,\n",
       "       array([[-4.93629358e-05, -2.67795834e-05, -1.12153811e-05, ...,\n",
       "                5.77553979e-05,  6.56900893e-05,  7.53032731e-05],\n",
       "              [ 2.05996796e-06, -2.28885328e-07, -5.34065766e-07, ...,\n",
       "               -1.44960708e-06,  8.39246204e-07,  6.94285496e-06]],\n",
       "             shape=(2, 25000))                                        ,\n",
       "       array([[-4.34119173e-05, -4.47852293e-05, -6.24856947e-05, ...,\n",
       "                5.42458228e-05,  6.53849088e-05,  4.70740826e-05],\n",
       "              [-9.38429847e-06, -9.99465934e-06, -1.13679713e-05, ...,\n",
       "                3.43327993e-06, -1.97604334e-05, -2.97550927e-06]],\n",
       "             shape=(2, 25000))                                        ,\n",
       "       array([[ 4.43274586e-05,  4.93629358e-05,  5.37880522e-05, ...,\n",
       "               -5.24147402e-05, -3.92919814e-05, -2.35751888e-05],\n",
       "              [-1.29701686e-06, -6.86655985e-07, -2.28885328e-07, ...,\n",
       "               -1.01472496e-05, -1.35042344e-05, -1.09102007e-05]],\n",
       "             shape=(2, 25000))                                        ,\n",
       "       array([[-2.05996796e-06,  5.72213321e-06,  1.59456779e-05, ...,\n",
       "                1.44197757e-05,  2.49485008e-05,  3.37987335e-05],\n",
       "              [-2.17441062e-05, -3.02891585e-05, -3.66979477e-05, ...,\n",
       "                2.54062715e-05,  1.01472496e-05,  3.19676509e-05]],\n",
       "             shape=(2, 25000))                                        ,\n",
       "       array([[ 5.31776913e-05,  5.53139544e-05,  5.71450370e-05, ...,\n",
       "               -8.01098650e-06, -5.72213321e-06,  4.65400168e-06],\n",
       "              [ 3.10521096e-05,  4.85999847e-05,  6.96574350e-05, ...,\n",
       "                3.30357824e-05,  1.51827268e-05, -2.51773861e-06]],\n",
       "             shape=(2, 25000))                                        ,\n",
       "       array([[ 1.59838254e-04,  1.86236362e-04,  1.95849546e-04, ...,\n",
       "               -2.75425345e-05, -3.80712596e-05, -1.97604334e-05],\n",
       "              [ 1.15892271e-04,  8.75104906e-05,  9.54451820e-05, ...,\n",
       "               -4.15808347e-05, -1.36568246e-05, -6.02731365e-06]],\n",
       "             shape=(2, 25000))                                        ,\n",
       "       array([[ 6.82841230e-05,  7.13359274e-05,  6.29434653e-05, ...,\n",
       "                1.97604334e-05,  3.22728313e-05,  2.35751888e-05],\n",
       "              [-8.39246204e-07,  1.15205615e-05,  1.71663996e-05, ...,\n",
       "                6.00442512e-05,  2.57114519e-05, -3.18150607e-05]],\n",
       "             shape=(2, 25000))                                        ,\n",
       "       array([[-5.71450370e-05, -4.46326390e-05, -4.82948043e-05, ...,\n",
       "               -7.59136339e-05, -5.19569696e-05, -3.10521096e-05],\n",
       "              [-1.77767605e-05, -3.25780117e-05, -4.69214923e-05, ...,\n",
       "               -4.98207065e-05, -5.53139544e-05, -3.41039139e-05]],\n",
       "             shape=(2, 25000))                                        ,\n",
       "       array([[-7.13359274e-05, -7.51506828e-05, -7.48455024e-05, ...,\n",
       "                4.08178836e-05,  4.18860151e-05,  3.19676509e-05],\n",
       "              [-6.69108110e-05, -7.85076677e-05, -7.95757992e-05, ...,\n",
       "               -2.51773861e-06, -3.89105058e-06,  1.16731518e-05]],\n",
       "             shape=(2, 25000))                                        ,\n",
       "       array([[-5.83657588e-05, -8.91889830e-05, -9.88021668e-05, ...,\n",
       "                6.91996643e-05,  7.49980926e-05,  7.63714046e-05],\n",
       "              [-6.48508431e-06,  1.07576104e-05,  2.00656138e-05, ...,\n",
       "                4.26489662e-05,  5.94338903e-05,  3.30357824e-05]],\n",
       "             shape=(2, 25000))                                        ,\n",
       "       array([[-1.31761654e-04, -8.33905547e-05, -6.87418936e-05, ...,\n",
       "                4.85999847e-05,  4.24963760e-05,  3.79186694e-05],\n",
       "              [-1.04448005e-04, -1.30998703e-04, -9.33089189e-05, ...,\n",
       "                1.79293507e-05,  3.51720455e-05,  4.32593271e-05]],\n",
       "             shape=(2, 25000))                                        ,\n",
       "       array([[-1.97375448e-04, -1.16044862e-04, -2.86106661e-05, ...,\n",
       "               -3.88342107e-05,  6.86655985e-07,  3.48668650e-05],\n",
       "              [ 8.62134737e-06,  1.83871214e-05,  3.70031281e-05, ...,\n",
       "                4.65400168e-06, -1.99130236e-05, -5.05836576e-05]],\n",
       "             shape=(2, 25000))                                        ,\n",
       "       array([[ 3.28831922e-05, -1.48775463e-05, -5.88235294e-05, ...,\n",
       "                1.93026627e-05,  3.07469291e-05,  2.44907301e-05],\n",
       "              [-4.79896239e-05,  3.02891585e-05,  1.24589914e-04, ...,\n",
       "               -2.66269932e-05, -3.62401770e-05, -4.31067369e-05]],\n",
       "             shape=(2, 25000))                                        ,\n",
       "       array([[-5.91287098e-05, -7.53032731e-05, -8.56794079e-05, ...,\n",
       "               -7.05729763e-05, -6.29434653e-05, -3.02891585e-05],\n",
       "              [ 8.36957351e-05,  1.00328069e-04,  6.46219577e-05, ...,\n",
       "                5.13466087e-05,  2.32700084e-05, -4.04364080e-06]],\n",
       "             shape=(2, 25000))                                        ,\n",
       "       array([[-4.20386053e-05, -4.00549325e-05, -3.66979477e-05, ...,\n",
       "                4.70740826e-05,  5.79079881e-05,  5.92813001e-05],\n",
       "              [ 4.65400168e-06,  4.34882124e-06,  2.36514839e-06, ...,\n",
       "               -1.01472496e-05, -6.02731365e-06, -2.36514839e-06]],\n",
       "             shape=(2, 25000))                                        ,\n",
       "       array([[ 3.07469291e-05,  2.78477150e-05,  1.53353170e-05, ...,\n",
       "               -1.50301366e-05, -1.31990539e-05, -1.13679713e-05],\n",
       "              [-1.14442664e-06,  2.28885328e-07,  3.81475547e-07, ...,\n",
       "               -7.40062562e-06, -1.04524300e-05, -1.21309224e-05]],\n",
       "             shape=(2, 25000))                                        ,\n",
       "       array([[ 1.76241703e-05, -3.89105058e-06,  9.53688869e-06, ...,\n",
       "               -5.43984131e-05, -5.43984131e-05, -6.17227436e-05],\n",
       "              [ 8.92652781e-06,  2.76951247e-05,  2.87632563e-05, ...,\n",
       "               -2.58640421e-05, -2.44907301e-05, -2.78477150e-05]],\n",
       "             shape=(2, 25000))                                        ,\n",
       "       array([[-5.60769055e-05, -2.70847639e-05, -1.51827268e-05, ...,\n",
       "               -2.83054856e-05, -1.91500725e-05, -4.65400168e-06],\n",
       "              [ 9.68947890e-06, -2.03707942e-05, -2.64744030e-05, ...,\n",
       "                3.16624704e-05,  2.17441062e-05,  3.24254215e-05]],\n",
       "             shape=(2, 25000))                                        ,\n",
       "       array([[-3.31883726e-05, -2.60166323e-05, -2.26596475e-05, ...,\n",
       "                4.53955901e-05,  3.51720455e-05,  3.02891585e-05],\n",
       "              [-2.63218128e-05, -2.09811551e-05,  7.85839628e-06, ...,\n",
       "                1.21385519e-04,  8.61371786e-05,  4.67689021e-05]],\n",
       "             shape=(2, 25000))                                        ,\n",
       "       array([[-1.80819409e-05, -2.55588617e-05, -2.12863355e-05, ...,\n",
       "                9.25459678e-05,  7.95757992e-05,  7.42351415e-05],\n",
       "              [-1.91500725e-05, -3.39513237e-05, -5.37880522e-05, ...,\n",
       "               -1.45723659e-05, -2.46433204e-05, -2.60166323e-05]],\n",
       "             shape=(2, 25000))                                        ,\n",
       "       array([[-5.34828717e-05, -6.01968414e-05, -4.24963760e-05, ...,\n",
       "               -1.41145953e-05, -2.55588617e-05, -4.72266728e-05],\n",
       "              [ 2.83054856e-05,  6.46219577e-05,  6.79789425e-05, ...,\n",
       "                9.72762646e-05,  6.03494316e-05,  3.54772259e-05]],\n",
       "             shape=(2, 25000))                                        ,\n",
       "       array([[2.00656138e-05, 1.93026627e-05, 3.08995193e-05, ...,\n",
       "               5.45510033e-05, 8.12542916e-05, 9.52925917e-05],\n",
       "              [2.29648280e-05, 2.72373541e-05, 4.23437858e-05, ...,\n",
       "               2.26596475e-05, 2.15915160e-05, 1.71663996e-05]], shape=(2, 25000)),\n",
       "       array([[ 4.80659190e-06,  1.48775463e-05, -1.14442664e-06, ...,\n",
       "                2.21255818e-06, -5.11177234e-06, -4.50141146e-06],\n",
       "              [-2.17441062e-05, -5.86709392e-05, -4.43274586e-05, ...,\n",
       "               -6.79026474e-06,  6.33249409e-06,  1.64034485e-05]],\n",
       "             shape=(2, 25000))                                        ,\n",
       "       array([[-4.04364080e-06,  5.34065766e-07, -2.32700084e-05, ...,\n",
       "               -4.34882124e-06,  1.15205615e-05,  7.85839628e-06],\n",
       "              [-5.72976272e-05, -4.47852293e-05,  2.29648280e-05, ...,\n",
       "               -6.40115969e-05, -7.25566491e-05, -7.62188144e-05]],\n",
       "             shape=(2, 25000))                                        ,\n",
       "       array([[-9.23170825e-06, -1.97604334e-05, -1.22835126e-05, ...,\n",
       "               -2.49485008e-05, -4.35645075e-05, -5.14991989e-05],\n",
       "              [-7.62188144e-05, -7.28618296e-05, -6.87418936e-05, ...,\n",
       "               -3.36461433e-05, -2.06759747e-05, -3.48668650e-05]],\n",
       "             shape=(2, 25000))                                        ,\n",
       "       array([[ 5.34065766e-07, -9.91836423e-07, -9.07911803e-06, ...,\n",
       "                3.97497520e-05,  5.48561837e-05,  5.66872663e-05],\n",
       "              [-9.08674754e-05, -7.60662242e-05, -5.16517891e-05, ...,\n",
       "               -4.61585412e-05, -5.53139544e-05, -6.82841230e-05]],\n",
       "             shape=(2, 25000))                                        ,\n",
       "       array([[-2.47959106e-05, -2.51773861e-06,  1.53353170e-05, ...,\n",
       "                1.60982681e-05,  2.15915160e-05,  2.69321736e-05],\n",
       "              [-1.15205615e-05, -1.25886931e-05, -9.23170825e-06, ...,\n",
       "               -4.09704738e-05, -2.58640421e-05, -1.70138094e-05]],\n",
       "             shape=(2, 25000))                                        ,\n",
       "       array([[ 5.25673304e-05,  5.04310674e-05,  4.12756542e-05, ...,\n",
       "                3.13572900e-05,  3.50194553e-05,  2.78477150e-05],\n",
       "              [ 8.62134737e-06,  1.53353170e-05,  1.31990539e-05, ...,\n",
       "               -8.01098650e-06, -8.31616693e-06, -6.79026474e-06]],\n",
       "             shape=(2, 25000))                                        ,\n",
       "       array([[ 1.24589914e-04,  1.29320211e-04,  1.31456474e-04, ...,\n",
       "                4.19623102e-06,  7.62951095e-08,  4.04364080e-06],\n",
       "              [-5.34065766e-07, -2.21255818e-06, -3.73846036e-06, ...,\n",
       "                1.44960708e-06, -3.89105058e-06, -5.56954299e-06]],\n",
       "             shape=(2, 25000))                                        ,\n",
       "       array([[-5.34065766e-07,  2.64744030e-05,  2.05233845e-05, ...,\n",
       "               -5.69924468e-05, -3.94445716e-05, -2.95262074e-05],\n",
       "              [ 2.82291905e-06, -1.27412833e-05, -7.40062562e-06, ...,\n",
       "                7.48455024e-05,  6.59952697e-05,  5.62294957e-05]],\n",
       "             shape=(2, 25000))                                        ,\n",
       "       array([[-3.12809949e-06,  1.56404974e-05,  1.54879072e-05, ...,\n",
       "               -9.53688869e-06,  1.01472496e-05,  2.18966964e-05],\n",
       "              [ 7.91180285e-05,  8.96467536e-05,  5.42458228e-05, ...,\n",
       "               -1.99130236e-05, -3.74608988e-05, -3.01365682e-05]],\n",
       "             shape=(2, 25000))                                        ,\n",
       "       array([[-5.41695277e-06, -1.29701686e-06, -2.67032883e-06, ...,\n",
       "                3.92919814e-05,  4.75318532e-05,  6.18753338e-05],\n",
       "              [ 5.26436255e-06,  1.28938735e-05,  1.30464637e-05, ...,\n",
       "               -5.60769055e-05, -6.61478599e-05, -7.07255665e-05]],\n",
       "             shape=(2, 25000))                                        ,\n",
       "       array([[ 5.50087739e-05,  6.81315328e-05,  8.23224231e-05, ...,\n",
       "                3.91393912e-05,  1.97604334e-05, -4.34882124e-06],\n",
       "              [ 2.05996796e-06, -1.54879072e-05, -2.29648280e-05, ...,\n",
       "               -4.19623102e-06,  3.51720455e-05,  4.89051652e-05]],\n",
       "             shape=(2, 25000))                                        ,\n",
       "       array([[-3.10521096e-05, -2.47959106e-05, -3.02891585e-05, ...,\n",
       "               -7.54558633e-05, -7.16411078e-05, -7.02677958e-05],\n",
       "              [ 1.06050202e-05,  8.46875715e-06,  9.99465934e-06, ...,\n",
       "               -2.69321736e-05,  2.35751888e-05,  5.62294957e-05]],\n",
       "             shape=(2, 25000))                                        ,\n",
       "       array([[-3.34935531e-05, -2.49485008e-05, -1.62508583e-05, ...,\n",
       "                2.11337453e-05,  1.06050202e-05,  8.16357671e-06],\n",
       "              [ 1.64034485e-05,  1.44197757e-05,  1.31990539e-05, ...,\n",
       "                1.60219730e-06, -4.79896239e-05, -8.65949493e-05]],\n",
       "             shape=(2, 25000))                                        ,\n",
       "       array([[-2.25070573e-05, -4.35645075e-05, -4.79896239e-05, ...,\n",
       "                5.13466087e-05,  4.81422141e-05,  3.66979477e-05],\n",
       "              [ 2.97550927e-06, -1.79293507e-05, -8.92652781e-06, ...,\n",
       "                2.95262074e-05,  3.18150607e-05,  9.07911803e-06]],\n",
       "             shape=(2, 25000))                                        ,\n",
       "       array([[ 1.38094148e-05,  2.02182040e-05,  3.44090944e-05, ...,\n",
       "               -3.43327993e-06,  6.86655985e-07, -8.31616693e-06],\n",
       "              [ 3.02891585e-05,  6.43167773e-05,  7.62188144e-05, ...,\n",
       "               -4.14282444e-05, -4.75318532e-05, -5.14991989e-05]],\n",
       "             shape=(2, 25000))                                        ,\n",
       "       array([[ 2.08285649e-05,  3.28831922e-05,  5.27199207e-05, ...,\n",
       "                7.72869459e-05,  4.61585412e-05,  4.41748684e-05],\n",
       "              [ 2.11337453e-05,  4.57007706e-05,  4.82948043e-05, ...,\n",
       "               -1.01243610e-04, -8.96467536e-05, -7.39299611e-05]],\n",
       "             shape=(2, 25000))                                        ,\n",
       "       array([[ 4.60059510e-05,  5.65346761e-05,  4.99732967e-05, ...,\n",
       "                2.78477150e-05,  2.23544671e-05,  2.44907301e-05],\n",
       "              [ 2.00656138e-05, -9.23170825e-06, -1.54879072e-05, ...,\n",
       "                3.39513237e-05, -4.34882124e-06, -1.19783322e-05]],\n",
       "             shape=(2, 25000))                                        ,\n",
       "       array([[ 3.48668650e-05,  4.76844434e-05,  6.08072023e-05, ...,\n",
       "                2.09811551e-05,  3.10521096e-05,  3.88342107e-05],\n",
       "              [ 2.51773861e-06,  1.90737774e-06, -2.34225986e-05, ...,\n",
       "               -3.10521096e-05, -2.23544671e-05,  1.10627909e-05]],\n",
       "             shape=(2, 25000))                                        ,\n",
       "       array([[-2.67032883e-06,  2.28122377e-05,  3.89868009e-05, ...,\n",
       "               -1.53353170e-05, -3.83764401e-05, -2.38803693e-05],\n",
       "              [-6.76737621e-05, -8.38483253e-05, -7.89654383e-05, ...,\n",
       "               -6.30960555e-05, -7.31670100e-05, -6.55374990e-05]],\n",
       "             shape=(2, 25000))                                        ,\n",
       "       array([[-8.16357671e-06,  2.55588617e-05,  4.87525750e-05, ...,\n",
       "               -2.28122377e-05, -3.53246357e-05, -2.83054856e-05],\n",
       "              [-1.88448920e-05, -5.26436255e-06, -8.16357671e-06, ...,\n",
       "                7.92706188e-05,  1.08720531e-04,  8.75104906e-05]],\n",
       "             shape=(2, 25000))                                        ,\n",
       "       array([[ 1.64034485e-05,  8.62134737e-06, -1.18257420e-05, ...,\n",
       "               -5.13466087e-05, -4.82948043e-05, -5.14991989e-05],\n",
       "              [-1.09102007e-05, -2.11337453e-05, -2.57114519e-05, ...,\n",
       "                5.56191348e-05,  4.47852293e-05,  1.15205615e-05]],\n",
       "             shape=(2, 25000))                                        ,\n",
       "       array([[ 6.00442512e-05,  7.43877317e-05,  1.02006561e-04, ...,\n",
       "                2.21255818e-06, -1.62508583e-05, -1.79293507e-05],\n",
       "              [-3.85290303e-05, -3.37987335e-05, -2.26596475e-05, ...,\n",
       "                4.67689021e-05,  9.92599374e-05,  5.19569696e-05]],\n",
       "             shape=(2, 25000))                                        ,\n",
       "       array([[ 2.15915160e-05,  1.21309224e-05, -5.56954299e-06, ...,\n",
       "               -2.38803693e-05, -3.76134890e-05, -3.56298161e-05],\n",
       "              [-4.87525750e-05, -3.44090944e-05, -2.49485008e-05, ...,\n",
       "                6.46219577e-05,  1.08567941e-04,  1.12535286e-04]],\n",
       "             shape=(2, 25000))                                        ,\n",
       "       array([[ 2.97550927e-06,  1.01472496e-05,  3.43327993e-06, ...,\n",
       "                7.85839628e-06, -2.20492866e-05, -6.06546120e-05],\n",
       "              [ 9.37666896e-05,  1.03837644e-04,  1.43053330e-04, ...,\n",
       "                5.94338903e-05, -1.60219730e-06,  3.89105058e-06]],\n",
       "             shape=(2, 25000))                                        ,\n",
       "       array([[-3.22728313e-05, -4.53955901e-05, -5.24147402e-05, ...,\n",
       "               -1.88448920e-05, -1.48775463e-05, -1.01472496e-05],\n",
       "              [-4.80659190e-06,  2.51773861e-06, -1.53353170e-05, ...,\n",
       "                5.02784771e-05,  6.78263523e-05,  6.95048447e-05]],\n",
       "             shape=(2, 25000))                                        ,\n",
       "       array([[-2.09811551e-05, -2.52536812e-05, -4.03601129e-05, ...,\n",
       "                5.11940185e-05,  4.14282444e-05,  3.19676509e-05],\n",
       "              [-2.87632563e-05, -3.54772259e-05, -3.18150607e-05, ...,\n",
       "               -7.24803540e-06,  3.95971618e-05,  2.44907301e-05]],\n",
       "             shape=(2, 25000))                                        ,\n",
       "       array([[-9.59029526e-05, -8.96467536e-05, -7.82024872e-05, ...,\n",
       "               -6.33249409e-06,  2.05233845e-05,  5.13466087e-05],\n",
       "              [-1.24361028e-05, -1.24361028e-05, -1.85397116e-05, ...,\n",
       "                3.95971618e-05,  2.32700084e-05, -5.56954299e-06]],\n",
       "             shape=(2, 25000))                                        ,\n",
       "       array([[-5.56954299e-06, -1.96078431e-05, -9.23170825e-06, ...,\n",
       "                1.18257420e-05, -1.93026627e-05, -4.12756542e-05],\n",
       "              [ 1.78759442e-04,  1.85320821e-04,  1.04905776e-04, ...,\n",
       "                3.22728313e-05,  1.16731518e-05, -1.10627909e-05]],\n",
       "             shape=(2, 25000))                                        ,\n",
       "       array([[-2.57114519e-05, -2.11337453e-05, -2.90684367e-05, ...,\n",
       "               -4.19623102e-06, -1.99130236e-05, -3.27306020e-05],\n",
       "              [ 1.47249561e-05,  2.97550927e-06, -2.28885328e-07, ...,\n",
       "                4.98207065e-05,  5.85183490e-05,  3.25780117e-05]],\n",
       "             shape=(2, 25000))                                        ,\n",
       "       array([[-6.55374990e-05, -8.52216373e-05, -7.56084535e-05, ...,\n",
       "               -5.10414282e-05, -3.68505379e-05, -1.14442664e-06],\n",
       "              [-5.26436255e-06, -6.15701534e-05, -5.24147402e-05, ...,\n",
       "                1.74715801e-05, -9.07911803e-06, -2.78477150e-05]],\n",
       "             shape=(2, 25000))                                        ,\n",
       "       array([[ 6.46219577e-05,  6.98100252e-05,  6.14175631e-05, ...,\n",
       "                5.54665446e-05,  6.87418936e-05,  6.47745480e-05],\n",
       "              [-1.17570764e-04, -1.16502632e-04, -8.67475395e-05, ...,\n",
       "                4.02075227e-05,  4.46326390e-05,  5.89761196e-05]],\n",
       "             shape=(2, 25000))                                        ,\n",
       "       array([[ 6.18753338e-05,  4.64637217e-05,  2.87632563e-05, ...,\n",
       "                1.12153811e-05,  1.16731518e-05, -1.09102007e-05],\n",
       "              [-2.49485008e-05,  2.08285649e-05,  3.60875868e-05, ...,\n",
       "               -5.72213321e-06, -9.38429847e-06, -6.48508431e-06]],\n",
       "             shape=(2, 25000))                                        ,\n",
       "       array([[ 1.28938735e-05,  1.57930877e-05, -2.05996796e-06, ...,\n",
       "               -3.86816205e-05, -5.54665446e-05, -5.27199207e-05],\n",
       "              [ 4.34119173e-05,  3.18150607e-05,  2.75425345e-05, ...,\n",
       "                2.18966964e-05,  1.57930877e-05,  3.25780117e-05]],\n",
       "             shape=(2, 25000))                                        ,\n",
       "       array([[-2.38803693e-05, -1.56404974e-05, -1.44960708e-06, ...,\n",
       "               -7.39299611e-05, -8.97993439e-05, -9.57503624e-05],\n",
       "              [-3.89105058e-06,  2.28885328e-07,  5.41695277e-06, ...,\n",
       "               -3.15098802e-05, -3.30357824e-05, -1.97604334e-05]],\n",
       "             shape=(2, 25000))                                        ,\n",
       "       array([[-1.13679713e-05, -2.57114519e-05, -3.22728313e-05, ...,\n",
       "                2.05996796e-06,  1.30464637e-05,  2.05996796e-06],\n",
       "              [ 1.40459297e-04,  1.46562905e-04,  1.29015030e-04, ...,\n",
       "               -1.65560388e-05, -1.73189899e-05,  1.79293507e-05]],\n",
       "             shape=(2, 25000))                                        ,\n",
       "       array([[ 9.72762646e-05,  8.99519341e-05,  8.20172427e-05, ...,\n",
       "                7.05729763e-05,  5.79079881e-05,  1.88448920e-05],\n",
       "              [-5.26436255e-06, -2.51010910e-05, -5.04310674e-05, ...,\n",
       "                1.51827268e-05,  5.50087739e-05,  3.24254215e-05]],\n",
       "             shape=(2, 25000))                                        ,\n",
       "       array([[ 6.76737621e-05,  5.21095598e-05,  2.83054856e-05, ...,\n",
       "               -1.15205615e-05,  5.11177234e-06, -8.39246204e-07],\n",
       "              [-8.92652781e-06, -1.51827268e-05,  8.77393759e-06, ...,\n",
       "                8.03387503e-05,  5.19569696e-05,  3.99023423e-05]],\n",
       "             shape=(2, 25000))                                        ,\n",
       "       array([[ 7.85076677e-05,  6.84367132e-05,  4.32593271e-05, ...,\n",
       "                2.69321736e-05,  2.05996796e-06, -1.79293507e-05],\n",
       "              [ 6.17990387e-06,  4.66163119e-05,  6.11123827e-05, ...,\n",
       "                5.16517891e-05,  4.15808347e-05,  1.50301366e-05]],\n",
       "             shape=(2, 25000))                                        ,\n",
       "       array([[ 2.00656138e-05,  1.09102007e-05,  7.62951095e-08, ...,\n",
       "                9.10200656e-05,  9.45296407e-05,  1.00022889e-04],\n",
       "              [-5.45510033e-05, -6.03494316e-05, -6.01968414e-05, ...,\n",
       "               -1.65484092e-04, -5.79079881e-05, -7.17936980e-05]],\n",
       "             shape=(2, 25000))                                        ,\n",
       "       array([[-7.91180285e-05, -1.10093843e-04, -7.80498970e-05, ...,\n",
       "                3.81475547e-07,  1.76241703e-05,  2.29648280e-05],\n",
       "              [ 4.29541466e-05, -5.26436255e-06, -5.40932326e-05, ...,\n",
       "               -1.77386130e-04, -1.89288167e-04, -1.74029145e-04]],\n",
       "             shape=(2, 25000))                                        ,\n",
       "       array([[-2.17441062e-05,  1.90737774e-06,  1.82345312e-05, ...,\n",
       "                2.80003052e-05,  8.77393759e-06,  1.73189899e-05],\n",
       "              [ 6.86655985e-07,  8.01098650e-06,  7.09544518e-06, ...,\n",
       "                4.34882124e-06, -1.35042344e-05, -5.71450370e-05]],\n",
       "             shape=(2, 25000))                                        ,\n",
       "       array([[ 5.02784771e-05,  8.09491112e-05,  8.21698329e-05, ...,\n",
       "                3.45616846e-05,  3.60875868e-05,  3.86816205e-05],\n",
       "              [-9.02571145e-05, -1.05973907e-04, -1.05058366e-04, ...,\n",
       "               -1.25047684e-04, -1.11314565e-04, -7.69817655e-05]],\n",
       "             shape=(2, 25000))                                        ,\n",
       "       array([[ 5.04310674e-05,  3.02891585e-05,  2.00656138e-05, ...,\n",
       "               -1.94552529e-05, -2.28885328e-07,  1.53353170e-05],\n",
       "              [-6.91996643e-05, -8.12542916e-05, -8.12542916e-05, ...,\n",
       "                4.34882124e-06, -2.64744030e-05, -7.68291752e-05]],\n",
       "             shape=(2, 25000))                                        ,\n",
       "       array([[-6.17990387e-06, -6.17990387e-06,  3.89105058e-06, ...,\n",
       "                4.26489662e-05,  3.22728313e-05,  1.33516442e-05],\n",
       "              [ 6.55374990e-05,  1.33897917e-04,  7.62188144e-05, ...,\n",
       "                1.47249561e-05,  6.33249409e-06,  7.05729763e-05]],\n",
       "             shape=(2, 25000))                                        ,\n",
       "       array([[-1.44960708e-06, -7.70580606e-06, -9.38429847e-06, ...,\n",
       "               -6.15701534e-05, -8.00335698e-05, -9.08674754e-05],\n",
       "              [ 8.24750134e-05,  7.89654383e-05,  6.82841230e-05, ...,\n",
       "                3.28831922e-05, -1.60219730e-06, -1.42671855e-05]],\n",
       "             shape=(2, 25000))                                        ,\n",
       "       array([[ 5.80605783e-05,  6.24856947e-05,  4.21911955e-05, ...,\n",
       "                2.64744030e-05,  2.40329595e-05,  1.24361028e-05],\n",
       "              [ 2.64820325e-04,  2.32928969e-04,  1.56633860e-04, ...,\n",
       "               -3.27306020e-05, -5.87472343e-06,  2.70847639e-05]],\n",
       "             shape=(2, 25000))                                        ,\n",
       "       array([[ 4.21911955e-05,  4.31067369e-05,  5.95864805e-05, ...,\n",
       "               -3.34935531e-05, -2.80003052e-05, -3.33409628e-05],\n",
       "              [-3.79186694e-05, -5.25673304e-05, -4.60059510e-05, ...,\n",
       "               -5.69924468e-05, -5.79079881e-05, -1.80819409e-05]],\n",
       "             shape=(2, 25000))                                        ,\n",
       "       array([[ 3.73846036e-06, -3.77660792e-05, -5.76028077e-05, ...,\n",
       "               -6.11123827e-05, -2.83054856e-05,  6.48508431e-06],\n",
       "              [ 4.15808347e-05,  1.04524300e-05, -1.74715801e-05, ...,\n",
       "                9.39192798e-05,  4.14282444e-05, -1.97604334e-05]],\n",
       "             shape=(2, 25000))                                        ,\n",
       "       array([[-2.06759747e-05, -4.58533608e-05, -5.83657588e-05, ...,\n",
       "                2.37277790e-05,  4.72266728e-05,  5.18043793e-05],\n",
       "              [-1.05973907e-04, -8.75104906e-05, -1.05973907e-04, ...,\n",
       "               -4.34882124e-06, -2.54062715e-05, -2.60166323e-05]],\n",
       "             shape=(2, 25000))                                        ,\n",
       "       array([[-3.58587015e-06,  2.58640421e-05,  3.39513237e-05, ...,\n",
       "                1.44960708e-06, -9.53688869e-06, -1.02998398e-05],\n",
       "              [ 1.17418173e-04,  1.17418173e-04,  6.90470741e-05, ...,\n",
       "               -5.83657588e-05, -5.31776913e-05, -6.23331044e-05]],\n",
       "             shape=(2, 25000))                                        ,\n",
       "       array([[ 3.59349966e-05,  3.89105058e-06, -3.80712596e-05, ...,\n",
       "                4.34119173e-05,  1.33516442e-05, -1.19783322e-05],\n",
       "              [ 3.74608988e-05,  2.38803693e-05,  3.89105058e-06, ...,\n",
       "                4.08178836e-05,  1.85397116e-05, -7.70580606e-06]],\n",
       "             shape=(2, 25000))                                        ,\n",
       "       array([[-4.46326390e-05, -5.39406424e-05, -6.93522545e-05, ...,\n",
       "                2.87632563e-05,  5.30251011e-05,  4.50904097e-05],\n",
       "              [ 1.39620050e-05,  2.32700084e-05,  2.03707942e-05, ...,\n",
       "               -1.20164797e-04, -9.54451820e-05, -3.65453574e-05]],\n",
       "             shape=(2, 25000))                                        ,\n",
       "       array([[-2.64744030e-05, -3.57824063e-05, -1.70138094e-05, ...,\n",
       "               -2.86106661e-05, -1.24361028e-05, -2.80003052e-05],\n",
       "              [-9.23170825e-06, -3.58587015e-06, -1.88448920e-05, ...,\n",
       "               -8.24750134e-05, -6.75211719e-05, -4.11230640e-05]],\n",
       "             shape=(2, 25000))                                        ,\n",
       "       array([[ 5.37880522e-05,  6.91996643e-05,  5.71450370e-05, ...,\n",
       "                6.02731365e-06,  1.93026627e-05,  2.73899443e-05],\n",
       "              [-1.39620050e-05, -4.47852293e-05, -6.30960555e-05, ...,\n",
       "               -1.23826963e-04, -9.72762646e-05, -7.01152056e-05]],\n",
       "             shape=(2, 25000))                                        ,\n",
       "       array([[ 2.29648280e-05,  6.48508431e-06, -8.46875715e-06, ...,\n",
       "                7.04203861e-05,  7.20988785e-05,  6.98100252e-05],\n",
       "              [-6.05020218e-05, -7.08781567e-05, -8.99519341e-05, ...,\n",
       "               -3.12809949e-06,  3.19676509e-05,  1.10093843e-04]],\n",
       "             shape=(2, 25000))                                        ,\n",
       "       array([[-5.95864805e-05, -7.01152056e-05, -9.01045243e-05, ...,\n",
       "               -7.62951095e-08, -7.62951095e-08, -7.62951095e-08],\n",
       "              [ 1.48775463e-05, -5.56954299e-06,  1.02998398e-05, ...,\n",
       "               -7.62951095e-08, -7.62951095e-08, -7.62951095e-08]],\n",
       "             shape=(2, 25000))                                        ,\n",
       "       array([[-7.62951095e-08, -7.62951095e-08, -7.62951095e-08, ...,\n",
       "               -2.49485008e-05,  2.21255818e-06,  3.27306020e-05],\n",
       "              [-7.62951095e-08, -7.62951095e-08, -7.62951095e-08, ...,\n",
       "                2.36514839e-06,  8.16357671e-06,  1.04524300e-05]],\n",
       "             shape=(2, 25000))                                        ,\n",
       "       array([[-9.53688869e-06, -1.44960708e-06, -9.53688869e-06, ...,\n",
       "                5.50087739e-05,  4.81422141e-05,  2.69321736e-05],\n",
       "              [-3.76134890e-05, -5.25673304e-05, -8.18646525e-05, ...,\n",
       "               -4.29541466e-05, -1.35042344e-05, -2.99839780e-05]],\n",
       "             shape=(2, 25000))                                        ,\n",
       "       array([[ 9.16304265e-05,  8.41535058e-05,  8.43060960e-05, ...,\n",
       "               -5.66872663e-05, -5.59243153e-05, -5.16517891e-05],\n",
       "              [ 1.22453651e-04,  8.97993439e-05,  3.18150607e-05, ...,\n",
       "               -1.10093843e-04, -1.11314565e-04, -1.11924926e-04]],\n",
       "             shape=(2, 25000))                                        ,\n",
       "       array([[ 1.80819409e-05,  2.23544671e-05,  1.57930877e-05, ...,\n",
       "                5.10414282e-05,  7.75921263e-05,  1.05210956e-04],\n",
       "              [ 5.72213321e-06, -5.11177234e-06, -6.79026474e-06, ...,\n",
       "                3.04417487e-05,  2.90684367e-05,  2.54062715e-05]],\n",
       "             shape=(2, 25000))                                        ,\n",
       "       array([[-4.19623102e-06,  8.01098650e-06,  1.35042344e-05, ...,\n",
       "               -2.60166323e-05, -2.57114519e-05, -3.73083085e-05],\n",
       "              [ 1.52971695e-04,  8.65949493e-05,  5.05836576e-05, ...,\n",
       "               -2.73899443e-05, -1.82345312e-05,  5.87472343e-06]],\n",
       "             shape=(2, 25000))                                        ,\n",
       "       array([[ 4.21911955e-05,  6.08072023e-05,  5.72976272e-05, ...,\n",
       "                4.61585412e-05,  5.01258869e-05,  4.89051652e-05],\n",
       "              [ 3.89105058e-06,  6.79026474e-06,  8.77393759e-06, ...,\n",
       "                4.19623102e-06,  1.14442664e-06, -7.62951095e-08]],\n",
       "             shape=(2, 25000))                                        ,\n",
       "       array([[-2.80003052e-05, -1.54879072e-05, -8.77393759e-06, ...,\n",
       "                6.17990387e-06, -6.63767453e-06, -1.10627909e-05],\n",
       "              [ 2.29648280e-05,  2.38803693e-05,  1.85397116e-05, ...,\n",
       "                1.44960708e-06,  1.27412833e-05,  6.02731365e-06]],\n",
       "             shape=(2, 25000))                                        ,\n",
       "       array([[ 1.07804990e-04,  1.15281910e-04,  1.17875944e-04, ...,\n",
       "               -1.20927749e-04, -1.16044862e-04, -1.01243610e-04],\n",
       "              [ 1.41145953e-05,  1.24361028e-05,  1.07576104e-05, ...,\n",
       "               -6.02731365e-06, -8.92652781e-06, -9.53688869e-06]],\n",
       "             shape=(2, 25000))                                        ,\n",
       "       array([[-9.99465934e-06, -2.93736172e-05, -3.47142748e-05, ...,\n",
       "                1.01396201e-04,  8.64423590e-05,  6.69108110e-05],\n",
       "              [ 1.24361028e-05, -2.41855497e-05, -4.66163119e-05, ...,\n",
       "                2.36514839e-06,  2.40329595e-05,  3.13572900e-05]],\n",
       "             shape=(2, 25000))                                        ,\n",
       "       array([[-3.18150607e-05, -4.02075227e-05, -4.66163119e-05, ...,\n",
       "                1.29701686e-06, -6.79026474e-06, -1.83871214e-05],\n",
       "              [ 3.18150607e-05,  3.12046998e-05,  2.36514839e-06, ...,\n",
       "               -1.39620050e-05, -2.26596475e-05,  1.44197757e-05]],\n",
       "             shape=(2, 25000))                                        ,\n",
       "       array([[ 1.18257420e-05,  5.72213321e-06, -1.70138094e-05, ...,\n",
       "                4.34882124e-06,  2.05233845e-05,  1.85397116e-05],\n",
       "              [ 1.01472496e-05,  9.53688869e-06, -1.07576104e-05, ...,\n",
       "                3.41039139e-05,  5.89761196e-05,  5.14991989e-05]],\n",
       "             shape=(2, 25000))                                        ,\n",
       "       array([[ 1.62508583e-05,  6.02731365e-06, -6.94285496e-06, ...,\n",
       "               -7.62951095e-08, -7.62951095e-08, -7.62951095e-08],\n",
       "              [ 2.51010910e-05,  7.24803540e-06, -3.73846036e-06, ...,\n",
       "               -7.62951095e-08, -7.62951095e-08, -7.62951095e-08]],\n",
       "             shape=(2, 25000))                                        ,\n",
       "       array([[-7.62951095e-08, -7.62951095e-08, -7.62951095e-08, ...,\n",
       "                6.26382849e-05,  5.04310674e-05,  4.92103456e-05],\n",
       "              [-7.62951095e-08, -7.62951095e-08, -7.62951095e-08, ...,\n",
       "                4.73792630e-05,  1.16731518e-05, -7.24803540e-06]],\n",
       "             shape=(2, 25000))                                        ,\n",
       "       array([[ 4.19623102e-06, -1.88448920e-05, -4.31067369e-05, ...,\n",
       "               -8.40009155e-05, -1.08873121e-04, -1.24284733e-04],\n",
       "              [-4.52429999e-05, -3.12046998e-05, -2.55588617e-05, ...,\n",
       "                5.72213321e-06,  2.78477150e-05,  2.80003052e-05]],\n",
       "             shape=(2, 25000))                                        ,\n",
       "       array([[-2.23544671e-05, -3.21202411e-05, -4.52429999e-05, ...,\n",
       "                7.51506828e-05,  6.37064164e-05,  5.19569696e-05],\n",
       "              [-1.23674372e-04, -1.36034180e-04, -1.26268406e-04, ...,\n",
       "                2.08285649e-05,  2.02182040e-05,  1.51827268e-05]],\n",
       "             shape=(2, 25000))                                        ,\n",
       "       array([[ 3.81475547e-07,  8.92652781e-06,  2.15915160e-05, ...,\n",
       "                4.19623102e-06,  4.04364080e-06,  1.39620050e-05],\n",
       "              [-4.18860151e-05, -3.27306020e-05, -4.84473945e-05, ...,\n",
       "               -1.38094148e-05, -3.73846036e-06, -1.31990539e-05]],\n",
       "             shape=(2, 25000))                                        ,\n",
       "       array([[-5.47035935e-05, -7.16411078e-05, -8.29327840e-05, ...,\n",
       "               -7.89654383e-05, -5.42458228e-05, -2.67795834e-05],\n",
       "              [ 2.28885328e-07, -6.86655985e-07, -7.62951095e-08, ...,\n",
       "               -2.82291905e-06, -1.64034485e-05, -5.34065766e-07]],\n",
       "             shape=(2, 25000))                                        ,\n",
       "       array([[ 4.50904097e-05,  5.71450370e-05,  6.32486458e-05, ...,\n",
       "                1.42671855e-05, -1.02998398e-05, -3.97497520e-05],\n",
       "              [-3.80712596e-05, -9.07148852e-05, -1.26878767e-04, ...,\n",
       "               -2.14389258e-05, -5.72213321e-06,  5.25673304e-05]],\n",
       "             shape=(2, 25000))                                        ,\n",
       "       array([[ 6.33249409e-06, -1.06050202e-05, -4.24963760e-05, ...,\n",
       "               -9.68947890e-06,  1.64034485e-05,  1.22835126e-05],\n",
       "              [ 3.47142748e-05,  9.25459678e-05,  1.73113603e-04, ...,\n",
       "               -6.14175631e-05, -6.21805142e-05, -6.44693675e-05]],\n",
       "             shape=(2, 25000))                                        ,\n",
       "       array([[-2.61692226e-05, -1.83871214e-05, -1.59456779e-05, ...,\n",
       "                2.54062715e-05,  3.91393912e-05,  6.06546120e-05],\n",
       "              [-1.83871214e-05, -4.00549325e-05, -4.43274586e-05, ...,\n",
       "               -5.02784771e-05, -4.93629358e-05, -4.20386053e-05]],\n",
       "             shape=(2, 25000))                                        ,\n",
       "       array([[-3.04417487e-05, -5.97390707e-05, -6.24856947e-05, ...,\n",
       "                4.75318532e-05,  5.53139544e-05,  5.05836576e-05],\n",
       "              [ 3.28831922e-05,  6.99626154e-05,  7.62188144e-05, ...,\n",
       "               -3.04417487e-05, -4.80659190e-06,  3.08995193e-05]],\n",
       "             shape=(2, 25000))                                        ,\n",
       "       array([[-7.01152056e-05, -6.79789425e-05, -4.57007706e-05, ...,\n",
       "                8.21698329e-05,  6.21805142e-05,  5.91287098e-05],\n",
       "              [-9.43770504e-05, -8.99519341e-05, -9.20881971e-05, ...,\n",
       "                6.88944839e-05,  5.31776913e-05,  1.07576104e-05]],\n",
       "             shape=(2, 25000))                                        ,\n",
       "       array([[ 3.59349966e-05,  5.04310674e-05,  7.92706188e-05, ...,\n",
       "                6.11123827e-05,  3.59349966e-05,  2.03707942e-05],\n",
       "              [-8.62897688e-05, -8.99519341e-05, -1.07042039e-04, ...,\n",
       "               -5.41695277e-06, -4.04364080e-06, -1.13679713e-05]],\n",
       "             shape=(2, 25000))                                        ,\n",
       "       array([[-2.26596475e-05, -1.65560388e-05,  2.28885328e-07, ...,\n",
       "               -5.80605783e-05, -2.92210269e-05, -7.70580606e-06],\n",
       "              [ 1.59456779e-05,  1.62508583e-05,  2.09811551e-05, ...,\n",
       "               -4.53955901e-05, -6.81315328e-05, -7.20988785e-05]],\n",
       "             shape=(2, 25000))                                        ,\n",
       "       array([[ 9.42244602e-05,  9.65133135e-05,  9.80392157e-05, ...,\n",
       "               -2.35751888e-05, -3.95971618e-05, -5.40932326e-05],\n",
       "              [ 2.21255818e-06,  1.64034485e-05,  3.59349966e-05, ...,\n",
       "               -1.11161975e-04, -5.98916609e-05, -5.57717250e-05]],\n",
       "             shape=(2, 25000))                                        ,\n",
       "       array([[ 4.15808347e-05,  6.09597925e-05,  6.72159915e-05, ...,\n",
       "                8.31616693e-06, -5.11177234e-06,  7.62951095e-08],\n",
       "              [-3.60875868e-05, -2.66269932e-05, -3.31883726e-05, ...,\n",
       "               -6.33249409e-06, -2.21255818e-06,  1.29701686e-06]],\n",
       "             shape=(2, 25000))                                        ,\n",
       "       array([[ 1.26268406e-04,  1.05058366e-04,  3.57824063e-05, ...,\n",
       "               -5.16517891e-05, -7.10307469e-05, -6.24856947e-05],\n",
       "              [-4.21911955e-05,  3.18150607e-05,  8.93415732e-05, ...,\n",
       "                9.72762646e-05,  4.53955901e-05, -2.36514839e-06]],\n",
       "             shape=(2, 25000))                                        ,\n",
       "       array([[ 3.21202411e-05,  3.77660792e-05,  3.88342107e-05, ...,\n",
       "                1.36568246e-05,  4.69214923e-05,  6.34012360e-05],\n",
       "              [-4.12756542e-05, -2.44907301e-05, -1.14442664e-06, ...,\n",
       "                2.02182040e-05,  1.93026627e-05,  1.93026627e-05]],\n",
       "             shape=(2, 25000))                                        ,\n",
       "       array([[-1.70138094e-05, -2.31174182e-05, -8.92652781e-06, ...,\n",
       "                1.85397116e-05,  1.01472496e-05, -1.41145953e-05],\n",
       "              [-1.53276875e-04, -1.62584878e-04, -1.44274052e-04, ...,\n",
       "               -8.27801938e-05, -8.78156710e-05, -4.90577554e-05]],\n",
       "             shape=(2, 25000))                                        ,\n",
       "       array([[-1.38017853e-04, -1.03227283e-04, -6.21805142e-05, ...,\n",
       "                7.95757992e-05,  8.26276036e-05,  7.95757992e-05],\n",
       "              [ 4.90577554e-05,  1.65560388e-05, -1.83871214e-05, ...,\n",
       "                7.85076677e-05,  4.40222782e-05,  4.46326390e-05]],\n",
       "             shape=(2, 25000))                                        ,\n",
       "       array([[ 1.90737774e-06, -8.39246204e-07, -8.77393759e-06, ...,\n",
       "               -2.28122377e-05, -3.19676509e-05, -3.28831922e-05],\n",
       "              [ 8.21698329e-05,  4.05127031e-05,  1.31990539e-05, ...,\n",
       "               -4.69214923e-05, -5.27199207e-05, -1.86923018e-05]],\n",
       "             shape=(2, 25000))                                        ,\n",
       "       array([[ 7.22514687e-05,  6.26382849e-05,  6.84367132e-05, ...,\n",
       "               -9.46822309e-05, -6.49271382e-05, -2.17441062e-05],\n",
       "              [-9.49874113e-05, -9.71236744e-05, -9.43770504e-05, ...,\n",
       "                5.95864805e-05,  7.14885176e-05,  9.20881971e-05]],\n",
       "             shape=(2, 25000))                                        ,\n",
       "       array([[ 1.77767605e-05,  2.49485008e-05,  2.00656138e-05, ...,\n",
       "                3.62401770e-05,  3.30357824e-05,  3.66979477e-05],\n",
       "              [-6.37064164e-05, -8.44586862e-05, -8.55268177e-05, ...,\n",
       "               -1.04524300e-05, -4.50141146e-06, -1.62508583e-05]],\n",
       "             shape=(2, 25000))                                        ,\n",
       "       array([[ 2.17441062e-05,  1.59456779e-05,  1.04524300e-05, ...,\n",
       "               -2.86106661e-05, -5.48561837e-05, -5.16517891e-05],\n",
       "              [ 4.72266728e-05,  1.71663996e-05, -1.76241703e-05, ...,\n",
       "               -3.04417487e-05, -1.65560388e-05,  7.85839628e-06]],\n",
       "             shape=(2, 25000))                                        ,\n",
       "       array([[-2.75425345e-05, -4.37170977e-05, -4.47852293e-05, ...,\n",
       "                6.72159915e-05,  3.89868009e-05,  3.66979477e-05],\n",
       "              [-3.02891585e-05, -5.69924468e-05, -5.88235294e-05, ...,\n",
       "                9.54451820e-05,  1.25963226e-04,  1.42442969e-04]],\n",
       "             shape=(2, 25000))                                        ,\n",
       "       array([[ 9.23170825e-06, -2.28885328e-07,  1.18257420e-05, ...,\n",
       "                4.79896239e-05,  3.41039139e-05, -2.36514839e-06],\n",
       "              [ 6.87418936e-05,  5.11940185e-05,  5.69924468e-05, ...,\n",
       "               -3.18150607e-05, -2.82291905e-06,  4.02075227e-05]],\n",
       "             shape=(2, 25000))                                        ,\n",
       "       array([[ 1.30464637e-05, -1.25886931e-05, -3.24254215e-05, ...,\n",
       "               -6.20279240e-05, -3.91393912e-05, -2.52536812e-05],\n",
       "              [ 1.22453651e-04,  1.02922103e-04,  6.95048447e-05, ...,\n",
       "               -4.75318532e-05, -6.76737621e-05, -7.48455024e-05]],\n",
       "             shape=(2, 25000))                                        ,\n",
       "       array([[-4.43274586e-05, -2.69321736e-05, -1.68612192e-05, ...,\n",
       "               -4.15808347e-05, -5.57717250e-05, -6.00442512e-05],\n",
       "              [-1.31990539e-05, -7.85839628e-06, -3.43327993e-06, ...,\n",
       "                4.23437858e-05,  6.88944839e-05,  3.15098802e-05]],\n",
       "             shape=(2, 25000))                                        ,\n",
       "       array([[ 1.19783322e-05,  6.86655985e-07, -3.10521096e-05, ...,\n",
       "               -6.44693675e-05, -2.51010910e-05, -4.50141146e-06],\n",
       "              [-1.14671550e-04, -7.16411078e-05, -8.17120623e-05, ...,\n",
       "                6.86655985e-07, -1.53353170e-05, -6.79026474e-06]],\n",
       "             shape=(2, 25000))                                        ,\n",
       "       array([[-1.01853971e-04, -1.09636072e-04, -1.14061189e-04, ...,\n",
       "               -1.39620050e-05,  8.16357671e-06,  3.95971618e-05],\n",
       "              [-6.48508431e-06, -2.41855497e-05, -7.17936980e-05, ...,\n",
       "                6.41641871e-05,  1.18257420e-05,  2.52536812e-05]],\n",
       "             shape=(2, 25000))                                        ,\n",
       "       array([[-2.32700084e-05, -3.68505379e-05, -3.95971618e-05, ...,\n",
       "                2.92210269e-05,  1.02998398e-05, -1.97604334e-05],\n",
       "              [ 9.07911803e-06,  2.35751888e-05,  3.79186694e-05, ...,\n",
       "                3.30357824e-05,  4.49378195e-05,  7.89654383e-05]],\n",
       "             shape=(2, 25000))                                        ,\n",
       "       array([[ 2.02182040e-05,  1.86923018e-05,  2.14389258e-05, ...,\n",
       "                8.16357671e-06,  1.90737774e-06, -1.06050202e-05],\n",
       "              [-5.59243153e-05, -6.20279240e-05, -4.12756542e-05, ...,\n",
       "               -4.38696880e-05, -4.23437858e-05, -4.73792630e-05]],\n",
       "             shape=(2, 25000))                                        ,\n",
       "       array([[ 3.28068971e-06, -2.51773861e-06, -3.65453574e-05, ...,\n",
       "                2.40329595e-05,  3.47142748e-05,  3.77660792e-05],\n",
       "              [ 6.43167773e-05,  6.67582208e-05,  4.75318532e-05, ...,\n",
       "               -7.71343557e-05, -3.97497520e-05, -4.60059510e-05]],\n",
       "             shape=(2, 25000))                                        ,\n",
       "       array([[-1.64034485e-05, -1.85397116e-05, -2.26596475e-05, ...,\n",
       "               -2.00656138e-05, -3.79186694e-05, -1.25886931e-05],\n",
       "              [ 1.50225071e-04,  1.04753185e-04,  1.06584268e-04, ...,\n",
       "                2.73899443e-05,  1.93026627e-05,  4.08178836e-05]],\n",
       "             shape=(2, 25000))                                        ,\n",
       "       array([[ 6.18753338e-05,  7.37773709e-05,  1.08415351e-04, ...,\n",
       "                4.00549325e-05,  5.27199207e-05,  5.97390707e-05],\n",
       "              [ 1.28557259e-04,  1.10399023e-04,  1.21843290e-04, ...,\n",
       "               -9.30037385e-05, -1.00328069e-04, -1.06584268e-04]],\n",
       "             shape=(2, 25000))                                        ,\n",
       "       array([[ 8.46875715e-06,  3.12809949e-06,  5.26436255e-06, ...,\n",
       "               -3.24254215e-05, -1.38094148e-05,  1.16731518e-05],\n",
       "              [-3.41039139e-05,  2.93736172e-05,  1.14213779e-04, ...,\n",
       "                4.29541466e-05,  7.70580606e-06,  4.20386053e-05]],\n",
       "             shape=(2, 25000))                                        ,\n",
       "       array([[ 5.42458228e-05,  3.50194553e-05,  1.24361028e-05, ...,\n",
       "               -3.80712596e-05, -3.10521096e-05, -3.39513237e-05],\n",
       "              [-8.44586862e-05, -3.30357824e-05, -8.31616693e-06, ...,\n",
       "               -4.31067369e-05, -5.65346761e-05, -2.05233845e-05]],\n",
       "             shape=(2, 25000))                                        ,\n",
       "       array([[-5.41695277e-06,  3.73846036e-06,  1.48775463e-05, ...,\n",
       "               -4.46326390e-05, -2.55588617e-05, -1.51827268e-05],\n",
       "              [ 2.93736172e-05,  2.28885328e-07, -6.40115969e-05, ...,\n",
       "               -4.67689021e-05, -3.36461433e-05, -2.63218128e-05]],\n",
       "             shape=(2, 25000))                                        ,\n",
       "       array([[-9.43770504e-05, -6.85893034e-05, -3.74608988e-05, ...,\n",
       "               -6.02731365e-06, -4.80659190e-06, -7.40062562e-06],\n",
       "              [ 1.01472496e-05,  4.79896239e-05,  3.45616846e-05, ...,\n",
       "               -2.09811551e-05, -2.38803693e-05, -2.22018769e-05]],\n",
       "             shape=(2, 25000))                                        ,\n",
       "       array([[-1.35042344e-05, -4.80659190e-06, -9.68947890e-06, ...,\n",
       "                3.18150607e-05,  6.47745480e-05,  8.49164569e-05],\n",
       "              [ 1.83871214e-05,  9.99465934e-06,  4.14282444e-05, ...,\n",
       "               -8.93415732e-05, -3.27306020e-05, -2.52536812e-05]],\n",
       "             shape=(2, 25000))                                        ,\n",
       "       array([[ 3.16624704e-05,  3.27306020e-05,  3.25780117e-05, ...,\n",
       "               -4.14282444e-05, -5.07362478e-05, -3.88342107e-05],\n",
       "              [ 1.60982681e-05, -2.36514839e-06, -1.99130236e-05, ...,\n",
       "                2.02182040e-05,  8.62134737e-06,  5.34065766e-07]],\n",
       "             shape=(2, 25000))                                        ,\n",
       "       array([[6.52323186e-05, 8.15594720e-05, 8.75104906e-05, ...,\n",
       "               9.02571145e-05, 9.36140993e-05, 9.86495766e-05],\n",
       "              [1.65560388e-05, 3.58587015e-06, 3.12809949e-06, ...,\n",
       "               3.99023423e-05, 1.71663996e-05, 8.01098650e-06]], shape=(2, 25000)),\n",
       "       array([[-8.01861601e-05, -8.87312123e-05, -9.86495766e-05, ...,\n",
       "               -7.16411078e-05, -6.90470741e-05, -6.95048447e-05],\n",
       "              [-4.76844434e-05, -9.94125277e-05, -1.23521782e-04, ...,\n",
       "               -4.50141146e-06,  7.62951095e-08, -1.44960708e-06]],\n",
       "             shape=(2, 25000))                                        ,\n",
       "       array([[ 2.02182040e-05,  2.00656138e-05, -8.16357671e-06, ...,\n",
       "               -1.01472496e-05, -4.31067369e-05, -5.14991989e-05],\n",
       "              [-1.38094148e-05, -1.77767605e-05, -2.98313878e-05, ...,\n",
       "                8.07965209e-05,  8.36957351e-05,  1.09483482e-04]],\n",
       "             shape=(2, 25000))                                        ,\n",
       "       array([[ 6.59952697e-05,  5.05836576e-05,  3.24254215e-05, ...,\n",
       "               -3.25780117e-05, -2.72373541e-05, -1.41145953e-05],\n",
       "              [-5.28725109e-05, -4.23437858e-05,  7.24803540e-06, ...,\n",
       "               -3.02891585e-05, -4.31067369e-05, -3.97497520e-05]],\n",
       "             shape=(2, 25000))                                        ,\n",
       "       array([[ 8.01098650e-06,  2.47959106e-05,  2.72373541e-05, ...,\n",
       "               -4.82948043e-05, -4.99732967e-05, -3.53246357e-05],\n",
       "              [-3.34935531e-05, -3.27306020e-05, -2.73899443e-05, ...,\n",
       "               -8.73579004e-05, -7.46929122e-05, -6.18753338e-05]],\n",
       "             shape=(2, 25000))                                        ,\n",
       "       array([[ 8.96467536e-05,  7.24040589e-05,  2.32700084e-05, ...,\n",
       "                5.48561837e-05,  6.56900893e-05,  6.96574350e-05],\n",
       "              [-1.43816281e-04, -1.11314565e-04, -9.25459678e-05, ...,\n",
       "                2.39948119e-04,  2.09124895e-04,  1.86388952e-04]],\n",
       "             shape=(2, 25000))                                        ,\n",
       "       array([[ 8.27801938e-05,  6.50797284e-05,  5.98916609e-05, ...,\n",
       "                5.72213321e-06, -7.55321584e-06, -2.97550927e-06],\n",
       "              [ 1.09025711e-04,  1.05516136e-04,  5.94338903e-05, ...,\n",
       "                1.05668727e-04,  9.74288548e-05,  4.84473945e-05]],\n",
       "             shape=(2, 25000))                                        ,\n",
       "       array([[ 5.65346761e-05,  2.52536812e-05, -3.89105058e-06, ...,\n",
       "                5.31776913e-05,  5.95864805e-05,  6.21805142e-05],\n",
       "              [ 1.90814069e-04,  1.77691310e-04,  1.16655222e-04, ...,\n",
       "                1.53353170e-05,  1.02311742e-04,  1.52056153e-04]],\n",
       "             shape=(2, 25000))                                        ,\n",
       "       array([[ 5.45510033e-05,  1.50301366e-05,  1.39620050e-05, ...,\n",
       "                1.08110170e-04,  9.39192798e-05,  7.24040589e-05],\n",
       "              [-8.94941634e-05, -6.67582208e-05,  6.33249409e-06, ...,\n",
       "                1.36568246e-05,  1.47249561e-05,  1.82345312e-05]],\n",
       "             shape=(2, 25000))                                        ,\n",
       "       array([[ 5.41695277e-06, -9.84206912e-06, -2.72373541e-05, ...,\n",
       "                3.62401770e-05,  2.83054856e-05,  3.80712596e-05],\n",
       "              [-2.36514839e-06, -6.48508431e-06, -4.80659190e-06, ...,\n",
       "                5.16517891e-05,  1.85397116e-05,  2.41855497e-05]],\n",
       "             shape=(2, 25000))                                        ,\n",
       "       array([[ 3.21202411e-05,  4.98207065e-05,  6.49271382e-05, ...,\n",
       "               -4.23437858e-05, -2.03707942e-05, -3.43327993e-06],\n",
       "              [-5.13466087e-05, -6.58426795e-05, -6.14175631e-05, ...,\n",
       "               -2.86106661e-05, -3.19676509e-05, -2.64744030e-05]],\n",
       "             shape=(2, 25000))                                        ,\n",
       "       array([[-2.72373541e-05, -2.15915160e-05,  8.39246204e-07, ...,\n",
       "                3.08995193e-05,  2.55588617e-05, -1.39620050e-05],\n",
       "              [-1.24437324e-04, -1.09330892e-04, -9.55977722e-05, ...,\n",
       "               -2.64744030e-05, -1.22835126e-05, -1.31990539e-05]],\n",
       "             shape=(2, 25000))                                        ,\n",
       "       array([[ 2.09811551e-05,  5.56191348e-05,  7.42351415e-05, ...,\n",
       "               -4.44800488e-05, -4.29541466e-05, -8.16357671e-06],\n",
       "              [ 1.19783322e-05,  2.28885328e-07,  7.09544518e-06, ...,\n",
       "                1.12687877e-04,  9.16304265e-05,  6.06546120e-05]],\n",
       "             shape=(2, 25000))                                        ,\n",
       "       array([[-2.46433204e-05, -2.92210269e-05, -2.29648280e-05, ...,\n",
       "               -9.81918059e-05, -1.04295415e-04, -9.59029526e-05],\n",
       "              [ 2.03707942e-05,  1.15205615e-05,  2.49485008e-05, ...,\n",
       "                1.64110780e-04,  1.08262760e-04,  3.71557183e-05]],\n",
       "             shape=(2, 25000))                                        ,\n",
       "       array([[-5.60769055e-05, -4.02075227e-05, -1.54879072e-05, ...,\n",
       "               -7.40062562e-06,  1.44960708e-06,  8.39246204e-07],\n",
       "              [ 6.11123827e-05,  8.58319982e-05,  8.11017014e-05, ...,\n",
       "                5.34065766e-07,  2.40329595e-05,  1.24361028e-05]],\n",
       "             shape=(2, 25000))                                        ,\n",
       "       array([[-5.13466087e-05, -6.40115969e-05, -7.24040589e-05, ...,\n",
       "                3.28068971e-06, -2.61692226e-05, -4.05127031e-05],\n",
       "              [ 1.05516136e-04,  1.36186770e-04,  1.29472801e-04, ...,\n",
       "                1.04524300e-05,  4.70740826e-05,  9.62081331e-05]],\n",
       "             shape=(2, 25000))                                        ,\n",
       "       array([[-3.71557183e-05, -2.72373541e-05, -3.57824063e-05, ...,\n",
       "               -8.92652781e-06,  7.40062562e-06,  1.42671855e-05],\n",
       "              [-6.17227436e-05, -7.92706188e-05, -6.09597925e-05, ...,\n",
       "               -8.47638666e-05, -6.41641871e-05, -2.44907301e-05]],\n",
       "             shape=(2, 25000))                                        ,\n",
       "       array([[-1.18257420e-05, -8.39246204e-07, -1.60219730e-06, ...,\n",
       "               -2.37277790e-05,  6.86655985e-07,  2.89158465e-05],\n",
       "              [ 7.40062562e-06,  3.85290303e-05,  6.23331044e-05, ...,\n",
       "               -4.23437858e-05, -4.17334249e-05, -2.76951247e-05]],\n",
       "             shape=(2, 25000))                                        ,\n",
       "       array([[9.37666896e-05, 7.82024872e-05, 7.66765850e-05, ...,\n",
       "               3.25780117e-05, 3.02891585e-05, 2.23544671e-05],\n",
       "              [6.32486458e-05, 3.79186694e-05, 2.37277790e-05, ...,\n",
       "               1.12153811e-05, 2.57114519e-05, 5.13466087e-05]], shape=(2, 25000)),\n",
       "       array([[-8.75104906e-05, -9.91073472e-05, -9.37666896e-05, ...,\n",
       "               -1.82345312e-05, -4.19623102e-06, -1.21309224e-05],\n",
       "              [ 3.63927672e-05,  2.17441062e-05,  3.70031281e-05, ...,\n",
       "               -6.76737621e-05, -5.31776913e-05, -1.50301366e-05]],\n",
       "             shape=(2, 25000))                                        ,\n",
       "       array([[ 5.41695277e-06, -1.90737774e-06,  1.16731518e-05, ...,\n",
       "               -3.77660792e-05, -2.76951247e-05, -1.76241703e-05],\n",
       "              [ 2.03707942e-05,  2.73899443e-05,  3.36461433e-05, ...,\n",
       "                3.12809949e-06,  4.02075227e-05,  7.69817655e-05]],\n",
       "             shape=(2, 25000))                                        ,\n",
       "       array([[-1.06050202e-05, -2.63218128e-05, -3.44090944e-05, ...,\n",
       "                6.55374990e-05,  4.31067369e-05,  6.08072023e-05],\n",
       "              [ 6.11123827e-05,  9.04097047e-05,  9.07148852e-05, ...,\n",
       "                1.85397116e-05,  7.72869459e-05,  8.67475395e-05]],\n",
       "             shape=(2, 25000))                                        ,\n",
       "       array([[-6.20279240e-05, -2.32700084e-05,  5.34065766e-07, ...,\n",
       "                2.41855497e-05,  2.46433204e-05,  8.62134737e-06],\n",
       "              [ 7.48455024e-05,  4.64637217e-05,  3.60875868e-05, ...,\n",
       "                1.52056153e-04,  8.73579004e-05,  5.97390707e-05]],\n",
       "             shape=(2, 25000))                                        ,\n",
       "       array([[-1.25886931e-05, -1.39620050e-05,  8.62134737e-06, ...,\n",
       "               -5.45510033e-05, -6.76737621e-05, -6.15701534e-05],\n",
       "              [ 1.18486305e-04,  1.36797131e-04,  9.55977722e-05, ...,\n",
       "               -4.38696880e-05, -4.11230640e-05, -2.93736172e-05]],\n",
       "             shape=(2, 25000))                                        ,\n",
       "       array([[ 3.41039139e-05,  6.64530404e-05,  8.61371786e-05, ...,\n",
       "                7.09544518e-06,  1.64034485e-05,  2.69321736e-05],\n",
       "              [-2.51773861e-06, -1.70138094e-05, -4.14282444e-05, ...,\n",
       "               -3.27306020e-05, -2.70847639e-05, -2.15915160e-05]],\n",
       "             shape=(2, 25000))                                        ,\n",
       "       array([[ 4.34119173e-05,  6.02731365e-06, -2.61692226e-05, ...,\n",
       "               -2.80003052e-05, -2.99839780e-05, -2.51010910e-05],\n",
       "              [-2.18966964e-05, -1.50301366e-05, -1.65560388e-05, ...,\n",
       "                1.03837644e-04,  1.35576410e-04,  1.11924926e-04]],\n",
       "             shape=(2, 25000))                                        ,\n",
       "       array([[-6.06546120e-05, -7.43877317e-05, -5.02784771e-05, ...,\n",
       "               -4.64637217e-05, -5.25673304e-05, -4.18860151e-05],\n",
       "              [ 1.83871214e-05, -1.12153811e-05, -5.85183490e-05, ...,\n",
       "                3.54772259e-05,  7.11833371e-05,  8.44586862e-05]],\n",
       "             shape=(2, 25000))                                        ,\n",
       "       array([[-2.28122377e-05, -4.65400168e-06,  1.10627909e-05, ...,\n",
       "                2.20492866e-05,  6.48508431e-06,  8.77393759e-06],\n",
       "              [-1.45723659e-05,  1.90737774e-06, -2.28885328e-07, ...,\n",
       "               -4.00549325e-05, -4.26489662e-05, -5.37880522e-05]],\n",
       "             shape=(2, 25000))                                        ,\n",
       "       array([[-1.36568246e-05, -2.15915160e-05, -2.34225986e-05, ...,\n",
       "               -3.89105058e-06, -2.90684367e-05, -3.59349966e-05],\n",
       "              [ 2.86106661e-05, -3.81475547e-07, -1.48775463e-05, ...,\n",
       "                9.23170825e-06,  6.48508431e-06,  6.48508431e-06]],\n",
       "             shape=(2, 25000))                                        ,\n",
       "       array([[-1.02311742e-04, -1.11314565e-04, -1.13450828e-04, ...,\n",
       "                1.13679713e-05,  2.51010910e-05,  2.81528954e-05],\n",
       "              [-4.73792630e-05, -6.03494316e-05, -7.19462882e-05, ...,\n",
       "               -2.12863355e-05, -1.80819409e-05, -1.50301366e-05]],\n",
       "             shape=(2, 25000))                                        ,\n",
       "       array([[-9.78866255e-05, -7.71343557e-05, -3.50194553e-05, ...,\n",
       "                2.38803693e-05,  4.12756542e-05,  4.03601129e-05],\n",
       "              [ 2.26596475e-05,  8.16357671e-06,  6.02731365e-06, ...,\n",
       "                9.43770504e-05,  6.99626154e-05,  5.31776913e-05]],\n",
       "             shape=(2, 25000))                                        ,\n",
       "       array([[ 4.46326390e-05,  5.53139544e-05,  4.08178836e-05, ...,\n",
       "               -2.87632563e-05, -5.85183490e-05, -4.26489662e-05],\n",
       "              [-1.36568246e-05, -8.46875715e-06,  1.44960708e-06, ...,\n",
       "                2.92210269e-05,  4.57007706e-05,  6.05020218e-05]],\n",
       "             shape=(2, 25000))                                        ,\n",
       "       array([[ 5.11177234e-06,  1.13679713e-05,  1.68612192e-05, ...,\n",
       "                6.20279240e-05,  4.14282444e-05,  2.81528954e-05],\n",
       "              [ 1.53353170e-05,  8.77393759e-06,  1.09102007e-05, ...,\n",
       "               -3.25780117e-05, -7.49980926e-05, -1.07042039e-04]],\n",
       "             shape=(2, 25000))                                        ,\n",
       "       array([[-2.81528954e-05, -2.26596475e-05, -9.23170825e-06, ...,\n",
       "               -2.55588617e-05, -3.21202411e-05, -2.00656138e-05],\n",
       "              [ 1.10627909e-05, -1.48775463e-05, -1.09102007e-05, ...,\n",
       "                1.09483482e-04,  9.60555428e-05,  7.17936980e-05]],\n",
       "             shape=(2, 25000))                                        ,\n",
       "       array([[ 7.11833371e-05,  7.13359274e-05,  7.16411078e-05, ...,\n",
       "               -2.46433204e-05, -1.93026627e-05, -2.51773861e-06],\n",
       "              [ 1.32829786e-04,  1.06279088e-04,  6.63004501e-05, ...,\n",
       "                5.47035935e-05,  8.31616693e-06, -5.89761196e-05]],\n",
       "             shape=(2, 25000))                                        ,\n",
       "       array([[ 1.21309224e-05,  1.10627909e-05,  1.71663996e-05, ...,\n",
       "               -9.99465934e-06, -4.21911955e-05, -3.85290303e-05],\n",
       "              [ 4.76844434e-05,  7.28618296e-05, -2.26596475e-05, ...,\n",
       "               -7.07255665e-05, -6.15701534e-05, -4.55481804e-05]],\n",
       "             shape=(2, 25000))                                        ,\n",
       "       array([[ 5.40932326e-05,  4.31067369e-05,  4.14282444e-05, ...,\n",
       "                5.51613642e-05,  7.30144198e-05,  7.07255665e-05],\n",
       "              [-1.60982681e-05, -3.62401770e-05, -4.37170977e-05, ...,\n",
       "               -6.48508431e-06,  4.34882124e-06,  4.06652934e-05]],\n",
       "             shape=(2, 25000))                                        ,\n",
       "       array([[-7.07255665e-05, -7.68291752e-05, -5.80605783e-05, ...,\n",
       "               -8.12542916e-05, -9.74288548e-05, -9.08674754e-05],\n",
       "              [-7.51506828e-05, -9.57503624e-05, -6.15701534e-05, ...,\n",
       "               -2.28122377e-05, -3.19676509e-05, -5.53139544e-05]],\n",
       "             shape=(2, 25000))                                        ,\n",
       "       array([[ 2.31174182e-05,  2.11337453e-05,  1.91500725e-05, ...,\n",
       "               -4.73792630e-05, -4.20386053e-05, -5.47035935e-05],\n",
       "              [ 2.76951247e-05,  3.05943389e-05,  1.96078431e-05, ...,\n",
       "                4.23437858e-05,  9.11726558e-05,  1.45647364e-04]],\n",
       "             shape=(2, 25000))                                        ,\n",
       "       array([[ 3.56298161e-05,  3.95971618e-05,  4.18860151e-05, ...,\n",
       "                8.67475395e-05,  7.94232090e-05,  5.16517891e-05],\n",
       "              [-7.09544518e-06, -6.29434653e-05, -6.72159915e-05, ...,\n",
       "                5.83657588e-05,  2.51010910e-05, -3.62401770e-05]],\n",
       "             shape=(2, 25000))                                        ,\n",
       "       array([[-3.13572900e-05, -2.93736172e-05, -2.54062715e-05, ...,\n",
       "                4.99732967e-05,  4.03601129e-05,  3.30357824e-05],\n",
       "              [-1.04524300e-05, -1.12153811e-05, -8.01098650e-06, ...,\n",
       "                3.81475547e-07, -2.51773861e-06, -3.58587015e-06]],\n",
       "             shape=(2, 25000))                                        ,\n",
       "       array([[ 2.06759747e-05,  1.18257420e-05,  5.26436255e-06, ...,\n",
       "               -9.07911803e-06, -8.39246204e-07,  7.24803540e-06],\n",
       "              [-3.81475547e-07, -3.89105058e-06, -2.36514839e-06, ...,\n",
       "               -1.99130236e-05, -1.56404974e-05, -1.02998398e-05]],\n",
       "             shape=(2, 25000))                                        ,\n",
       "       array([[ 6.86655985e-07,  5.41695277e-06,  8.62134737e-06, ...,\n",
       "                2.81528954e-05,  4.73792630e-05,  5.30251011e-05],\n",
       "              [-4.04364080e-06, -7.40062562e-06, -2.82291905e-06, ...,\n",
       "               -2.76951247e-05, -2.14389258e-05, -2.51010910e-05]],\n",
       "             shape=(2, 25000))                                        ,\n",
       "       array([[-2.25070573e-05, -2.38803693e-05, -1.73189899e-05, ...,\n",
       "                1.88448920e-05,  2.47959106e-05,  8.77393759e-06],\n",
       "              [-1.96078431e-05, -2.89158465e-05, -4.21911955e-05, ...,\n",
       "                3.30357824e-05,  3.91393912e-05,  5.13466087e-05]],\n",
       "             shape=(2, 25000))                                        ,\n",
       "       array([[-6.05020218e-05, -3.95971618e-05, -1.68612192e-05, ...,\n",
       "                8.67475395e-05,  7.01152056e-05,  5.34828717e-05],\n",
       "              [-2.11337453e-05, -2.02182040e-05, -2.05233845e-05, ...,\n",
       "                2.66269932e-05,  5.85183490e-05,  5.91287098e-05]],\n",
       "             shape=(2, 25000))                                        ,\n",
       "       array([[ 4.85999847e-05,  4.69214923e-05,  4.00549325e-05, ...,\n",
       "               -5.83657588e-05, -6.17227436e-05, -6.49271382e-05],\n",
       "              [ 3.18150607e-05,  1.25886931e-05,  7.09544518e-06, ...,\n",
       "               -1.90737774e-06, -2.28885328e-07,  6.17990387e-06]],\n",
       "             shape=(2, 25000))                                        ,\n",
       "       array([[-3.12046998e-05, -1.09102007e-05, -2.29648280e-05, ...,\n",
       "                9.01045243e-05,  1.27489128e-04,  1.41832609e-04],\n",
       "              [ 2.17441062e-05, -5.19569696e-05, -5.66872663e-05, ...,\n",
       "                3.37987335e-05,  1.24361028e-05,  1.31990539e-05]],\n",
       "             shape=(2, 25000))                                        ,\n",
       "       array([[ 1.99130236e-05,  3.60875868e-05,  5.39406424e-05, ...,\n",
       "               -2.15915160e-05, -2.08285649e-05, -1.86923018e-05],\n",
       "              [-1.70138094e-05,  7.85839628e-06,  2.83054856e-05, ...,\n",
       "                5.11940185e-05,  4.08178836e-05,  3.82238499e-05]],\n",
       "             shape=(2, 25000))                                        ,\n",
       "       array([[-4.31067369e-05, -3.05943389e-05, -2.34225986e-05, ...,\n",
       "                6.59952697e-05,  3.66979477e-05,  1.99130236e-05],\n",
       "              [-2.32700084e-05, -1.15205615e-05,  2.32700084e-05, ...,\n",
       "               -1.02998398e-05, -1.50301366e-05, -1.91500725e-05]],\n",
       "             shape=(2, 25000))                                        ,\n",
       "       array([[-2.64744030e-05,  3.73846036e-06,  3.47142748e-05, ...,\n",
       "                5.98916609e-05,  1.05516136e-04,  1.19401846e-04],\n",
       "              [ 6.02731365e-06, -1.44960708e-06,  8.77393759e-06, ...,\n",
       "                2.22018769e-05,  4.15808347e-05,  3.10521096e-05]],\n",
       "             shape=(2, 25000))                                        ,\n",
       "       array([[ 5.80605783e-05,  4.26489662e-05,  4.37170977e-05, ...,\n",
       "                3.33409628e-05,  3.31883726e-05,  3.30357824e-05],\n",
       "              [ 3.47142748e-05,  5.13466087e-05,  2.40329595e-05, ...,\n",
       "               -4.02075227e-05, -2.22018769e-05, -5.72213321e-06]],\n",
       "             shape=(2, 25000))                                        ,\n",
       "       array([[-7.34721904e-05, -7.89654383e-05, -8.20172427e-05, ...,\n",
       "               -1.79293507e-05, -1.33516442e-05,  7.85839628e-06],\n",
       "              [-4.41748684e-05, -3.08995193e-05, -2.22018769e-05, ...,\n",
       "               -7.02677958e-05, -6.78263523e-05, -6.30960555e-05]],\n",
       "             shape=(2, 25000))                                        ,\n",
       "       array([[-1.12153811e-05,  7.55321584e-06,  4.80659190e-06, ...,\n",
       "                3.28068971e-06,  6.48508431e-06,  1.21309224e-05],\n",
       "              [-1.67086290e-05,  1.07576104e-05,  1.62508583e-05, ...,\n",
       "                4.12756542e-05,  1.04524300e-05,  7.85839628e-06]],\n",
       "             shape=(2, 25000))                                        ,\n",
       "       array([[-6.08072023e-05, -6.30960555e-05, -6.50797284e-05, ...,\n",
       "               -2.58640421e-05, -6.48508431e-06, -7.24803540e-06],\n",
       "              [-6.84367132e-05, -5.69924468e-05, -4.50904097e-05, ...,\n",
       "                4.11230640e-05,  4.47852293e-05,  2.72373541e-05]],\n",
       "             shape=(2, 25000))                                        ,\n",
       "       array([[-9.68947890e-06, -8.62134737e-06, -9.53688869e-06, ...,\n",
       "               -4.43274586e-05, -3.70031281e-05, -1.09102007e-05],\n",
       "              [ 1.74715801e-05,  5.56954299e-06, -1.48775463e-05, ...,\n",
       "               -2.15915160e-05,  6.33249409e-06,  3.60875868e-05]],\n",
       "             shape=(2, 25000))                                        ,\n",
       "       array([[ 5.86709392e-05,  2.73899443e-05, -4.04364080e-06, ...,\n",
       "                7.54558633e-05,  8.85786221e-05,  9.77340352e-05],\n",
       "              [-3.89105058e-06,  1.90737774e-06,  1.85397116e-05, ...,\n",
       "                2.26596475e-05,  1.02998398e-05,  5.41695277e-06]],\n",
       "             shape=(2, 25000))                                        ,\n",
       "       array([[-6.34012360e-05, -7.08781567e-05, -7.14885176e-05, ...,\n",
       "                1.18257420e-05,  3.02891585e-05,  2.93736172e-05],\n",
       "              [ 1.07576104e-05,  1.16731518e-05,  1.09102007e-05, ...,\n",
       "                4.37170977e-05,  4.92103456e-05,  3.22728313e-05]],\n",
       "             shape=(2, 25000))                                        ,\n",
       "       array([[-4.84473945e-05, -1.41145953e-05,  1.85397116e-05, ...,\n",
       "               -5.53139544e-05, -6.52323186e-05, -6.76737621e-05],\n",
       "              [ 1.20775158e-04, -2.97550927e-06, -6.44693675e-05, ...,\n",
       "               -1.41832609e-04, -8.62897688e-05, -3.83764401e-05]],\n",
       "             shape=(2, 25000))                                        ,\n",
       "       array([[ 1.80819409e-05, -3.81475547e-07, -2.78477150e-05, ...,\n",
       "                3.39513237e-05,  4.92103456e-05,  4.23437858e-05],\n",
       "              [-6.84367132e-05, -6.98100252e-05, -8.33905547e-05, ...,\n",
       "               -1.13679713e-05,  2.05996796e-06,  2.15915160e-05]],\n",
       "             shape=(2, 25000))                                        ,\n",
       "       array([[ 6.03494316e-05,  4.63111315e-05,  1.88448920e-05, ...,\n",
       "               -1.68612192e-05,  3.81475547e-07,  2.82291905e-06],\n",
       "              [-3.10521096e-05,  3.12046998e-05,  4.96681163e-05, ...,\n",
       "               -1.82345312e-05, -6.52323186e-05, -9.10200656e-05]],\n",
       "             shape=(2, 25000))                                        ,\n",
       "       array([[-8.46112764e-05, -1.13603418e-04, -1.33592737e-04, ...,\n",
       "                6.98100252e-05,  6.20279240e-05,  5.08888380e-05],\n",
       "              [-4.55481804e-05, -1.80819409e-05, -2.63218128e-05, ...,\n",
       "                3.07469291e-05,  3.27306020e-05, -4.03601129e-05]],\n",
       "             shape=(2, 25000))                                        ,\n",
       "       array([[ 4.61585412e-05,  3.99023423e-05,  1.74715801e-05, ...,\n",
       "               -2.86106661e-05, -1.97604334e-05, -2.97550927e-06],\n",
       "              [-3.12046998e-05, -9.53688869e-06,  6.14175631e-05, ...,\n",
       "               -1.40917067e-04, -1.39696345e-04, -1.40611887e-04]],\n",
       "             shape=(2, 25000))                                        ,\n",
       "       array([[ 5.63820859e-05,  4.49378195e-05,  2.87632563e-05, ...,\n",
       "                5.97390707e-05,  5.83657588e-05,  5.25673304e-05],\n",
       "              [-8.77393759e-06, -9.99465934e-06, -9.53688869e-06, ...,\n",
       "               -7.48455024e-05, -5.68398566e-05, -3.89868009e-05]],\n",
       "             shape=(2, 25000))                                        ,\n",
       "       array([[-5.97390707e-05,  4.65400168e-06,  2.89158465e-05, ...,\n",
       "                5.34828717e-05,  3.34935531e-05,  2.26596475e-05],\n",
       "              [-2.22018769e-05, -2.02182040e-05, -3.89868009e-05, ...,\n",
       "               -3.39513237e-05, -3.57824063e-05, -3.82238499e-05]],\n",
       "             shape=(2, 25000))                                        ,\n",
       "       array([[ 6.02731365e-06,  7.40062562e-06,  1.24361028e-05, ...,\n",
       "                3.66979477e-05,  1.07576104e-05,  8.46875715e-06],\n",
       "              [-9.88021668e-05, -1.02769512e-04, -1.03074693e-04, ...,\n",
       "                1.88448920e-05,  5.02784771e-05, -4.34882124e-06]],\n",
       "             shape=(2, 25000))                                        ,\n",
       "       array([[ 8.97993439e-05,  8.53742275e-05,  8.20172427e-05, ...,\n",
       "                9.23170825e-06,  3.13572900e-05,  4.28015564e-05],\n",
       "              [-2.25070573e-05, -2.67795834e-05, -3.30357824e-05, ...,\n",
       "                1.52971695e-04,  8.47638666e-05, -5.11177234e-06]],\n",
       "             shape=(2, 25000))                                        ,\n",
       "       array([[ 4.09704738e-05,  3.82238499e-05,  2.18966964e-05, ...,\n",
       "               -2.05996796e-06, -1.35042344e-05, -1.42671855e-05],\n",
       "              [-1.28252079e-04, -1.26115816e-04, -1.37102312e-04, ...,\n",
       "               -6.21805142e-05, -4.35645075e-05, -3.31883726e-05]],\n",
       "             shape=(2, 25000))                                        ,\n",
       "       array([[ 2.97550927e-06,  7.55321584e-06,  1.97604334e-05, ...,\n",
       "                2.51773861e-06, -2.82291905e-06, -9.53688869e-06],\n",
       "              [-4.85999847e-05, -3.50194553e-05, -4.35645075e-05, ...,\n",
       "               -1.75478752e-06, -2.00656138e-05, -1.99130236e-05]],\n",
       "             shape=(2, 25000))                                        ,\n",
       "       array([[-3.83764401e-05, -5.69924468e-05, -4.43274586e-05, ...,\n",
       "                2.67032883e-06, -6.79026474e-06, -2.25070573e-05],\n",
       "              [ 5.45510033e-05,  5.01258869e-05,  5.95864805e-05, ...,\n",
       "                3.82238499e-05,  8.88838025e-05,  7.85076677e-05]],\n",
       "             shape=(2, 25000))                                        ,\n",
       "       array([[-3.08995193e-05, -4.67689021e-05, -5.24147402e-05, ...,\n",
       "                1.36568246e-05,  1.30464637e-05,  1.24361028e-05],\n",
       "              [ 1.06889448e-04,  9.60555428e-05,  1.07042039e-04, ...,\n",
       "                1.65560388e-05,  4.29541466e-05,  5.86709392e-05]],\n",
       "             shape=(2, 25000))                                        ,\n",
       "       array([[-6.09597925e-05, -3.65453574e-05, -3.16624704e-05, ...,\n",
       "               -4.43274586e-05, -2.92210269e-05, -2.03707942e-05],\n",
       "              [ 1.22835126e-05,  2.22018769e-05,  5.07362478e-05, ...,\n",
       "                1.86923018e-05,  4.76844434e-05,  2.75425345e-05]],\n",
       "             shape=(2, 25000))                                        ,\n",
       "       array([[-6.03494316e-05, -8.15594720e-05, -1.19554437e-04, ...,\n",
       "                1.53353170e-05,  2.23544671e-05,  2.80003052e-05],\n",
       "              [-5.54665446e-05, -6.96574350e-05, -6.53849088e-05, ...,\n",
       "               -1.19707027e-04, -1.02311742e-04, -1.04753185e-04]],\n",
       "             shape=(2, 25000))                                        ,\n",
       "       array([[-5.87472343e-06,  8.92652781e-06,  3.18150607e-05, ...,\n",
       "                3.13572900e-05,  3.79186694e-05,  4.61585412e-05],\n",
       "              [ 4.52429999e-05,  4.37170977e-05,  5.31776913e-05, ...,\n",
       "                3.73846036e-06, -1.31990539e-05,  8.46875715e-06]],\n",
       "             shape=(2, 25000))                                        ,\n",
       "       array([[-1.85397116e-05, -5.43984131e-05, -6.32486458e-05, ...,\n",
       "               -3.65453574e-05, -1.21309224e-05, -3.89105058e-06],\n",
       "              [ 5.60769055e-05,  7.85076677e-05,  4.82948043e-05, ...,\n",
       "               -5.11177234e-06, -2.05996796e-06,  1.67086290e-05]],\n",
       "             shape=(2, 25000))                                        ,\n",
       "       array([[ 1.31990539e-05,  3.34935531e-05,  4.09704738e-05, ...,\n",
       "               -1.97604334e-05, -2.54062715e-05, -1.96078431e-05],\n",
       "              [-1.64034485e-05, -2.82291905e-06, -2.05996796e-06, ...,\n",
       "               -6.98100252e-05, -7.45403220e-05, -7.37773709e-05]],\n",
       "             shape=(2, 25000))                                        ,\n",
       "       array([[ 8.44586862e-05,  8.24750134e-05,  7.97283894e-05, ...,\n",
       "               -4.05127031e-05, -3.77660792e-05, -1.74715801e-05],\n",
       "              [-8.65949493e-05, -8.85786221e-05, -7.31670100e-05, ...,\n",
       "                3.71557183e-05,  9.38429847e-06, -3.56298161e-05]],\n",
       "             shape=(2, 25000))                                        ,\n",
       "       array([[ 8.92652781e-06, -5.41695277e-06, -8.31616693e-06, ...,\n",
       "               -8.93415732e-05, -7.78973068e-05, -4.73792630e-05],\n",
       "              [-4.34882124e-06, -5.41695277e-06, -7.24803540e-06, ...,\n",
       "                4.17334249e-05,  5.69924468e-05,  2.93736172e-05]],\n",
       "             shape=(2, 25000))                                        ,\n",
       "       array([[ 6.11123827e-05,  3.28831922e-05,  8.39246204e-07, ...,\n",
       "               -2.69321736e-05, -2.25070573e-05, -2.17441062e-05],\n",
       "              [ 6.11123827e-05,  9.48348211e-05,  6.21805142e-05, ...,\n",
       "               -1.96078431e-05, -4.12756542e-05, -4.21911955e-05]],\n",
       "             shape=(2, 25000))                                        ,\n",
       "       array([[ 7.04203861e-05,  5.08888380e-05,  3.19676509e-05, ...,\n",
       "               -1.73189899e-05, -2.58640421e-05,  1.29701686e-06],\n",
       "              [ 6.33249409e-06,  1.04524300e-05,  6.17990387e-06, ...,\n",
       "                3.56298161e-05, -7.40062562e-06, -2.63218128e-05]],\n",
       "             shape=(2, 25000))                                        ,\n",
       "       array([[ 1.53353170e-05,  2.89158465e-05,  2.41855497e-05, ...,\n",
       "               -1.40764477e-04, -1.36339361e-04, -1.23979553e-04],\n",
       "              [-6.34012360e-05, -7.39299611e-05, -7.75921263e-05, ...,\n",
       "                1.22835126e-05, -6.17990387e-06, -1.19783322e-05]],\n",
       "             shape=(2, 25000))                                        ,\n",
       "       array([[-2.41855497e-05, -3.74608988e-05, -6.15701534e-05, ...,\n",
       "                5.83657588e-05,  8.12542916e-05,  8.73579004e-05],\n",
       "              [-1.16731518e-05,  2.54062715e-05,  3.25780117e-05, ...,\n",
       "               -2.51773861e-06, -8.62134737e-06, -8.62134737e-06]],\n",
       "             shape=(2, 25000))                                        ,\n",
       "       array([[-5.08888380e-05, -4.15808347e-05, -3.41039139e-05, ...,\n",
       "                2.05233845e-05,  3.86816205e-05,  3.65453574e-05],\n",
       "              [-4.75318532e-05, -3.86816205e-05, -2.96787976e-05, ...,\n",
       "                6.53849088e-05,  6.23331044e-05,  3.13572900e-05]],\n",
       "             shape=(2, 25000))                                        ,\n",
       "       array([[ 2.34225986e-05,  2.72373541e-05,  3.22728313e-05, ...,\n",
       "                2.32700084e-05,  1.24361028e-05,  6.02731365e-06],\n",
       "              [-6.43167773e-05, -8.41535058e-05, -8.01861601e-05, ...,\n",
       "               -2.29648280e-05,  3.89105058e-06,  2.03707942e-05]],\n",
       "             shape=(2, 25000))                                        ,\n",
       "       array([[-2.37277790e-05, -3.62401770e-05, -4.60059510e-05, ...,\n",
       "                3.48668650e-05,  2.89158465e-05,  2.93736172e-05],\n",
       "              [ 2.11337453e-05,  1.94552529e-05,  4.29541466e-05, ...,\n",
       "                4.46326390e-05,  6.79789425e-05,  6.76737621e-05]],\n",
       "             shape=(2, 25000))                                        ,\n",
       "       array([[-4.65400168e-06,  1.30464637e-05,  4.92103456e-05, ...,\n",
       "                1.14824140e-04,  9.74288548e-05,  6.72159915e-05],\n",
       "              [-4.19623102e-06,  8.01098650e-06,  8.01098650e-06, ...,\n",
       "                6.79789425e-05,  8.26276036e-05,  5.04310674e-05]],\n",
       "             shape=(2, 25000))                                        ,\n",
       "       array([[-5.08888380e-05, -5.60769055e-05, -3.22728313e-05, ...,\n",
       "                7.39299611e-05,  1.00633249e-04,  1.01853971e-04],\n",
       "              [ 8.46875715e-06,  2.93736172e-05,  4.35645075e-05, ...,\n",
       "               -2.46433204e-05, -4.37170977e-05, -2.67795834e-05]],\n",
       "             shape=(2, 25000))                                        ,\n",
       "       array([[-3.45616846e-05, -2.25070573e-05, -1.68612192e-05, ...,\n",
       "                1.02159152e-04,  1.28099489e-04,  1.13145647e-04],\n",
       "              [-2.37277790e-05, -1.50301366e-05,  1.16731518e-05, ...,\n",
       "                8.15594720e-05, -8.44586862e-05, -1.76928359e-04]],\n",
       "             shape=(2, 25000))                                        ,\n",
       "       array([[ 5.48561837e-05,  1.93026627e-05,  3.30357824e-05, ...,\n",
       "                6.17990387e-06,  2.06759747e-05,  2.09811551e-05],\n",
       "              [-2.46433204e-05,  1.86388952e-04,  2.39490349e-04, ...,\n",
       "                8.31616693e-06, -1.25886931e-05,  2.28885328e-07]],\n",
       "             shape=(2, 25000))                                        ,\n",
       "       array([[ 1.42671855e-05,  1.77767605e-05,  2.29648280e-05, ...,\n",
       "               -3.97497520e-05, -3.60875868e-05, -1.93026627e-05],\n",
       "              [ 4.52429999e-05,  8.93415732e-05,  9.07148852e-05, ...,\n",
       "                7.42351415e-05,  7.14885176e-05,  4.81422141e-05]],\n",
       "             shape=(2, 25000))                                        ,\n",
       "       array([[-5.47035935e-05, -4.78370336e-05, -5.14991989e-05, ...,\n",
       "               -7.14885176e-05, -9.83443961e-05, -9.92599374e-05],\n",
       "              [-1.38094148e-05, -2.84580758e-05, -1.57930877e-05, ...,\n",
       "                1.73189899e-05,  4.99732967e-05,  7.04203861e-05]],\n",
       "             shape=(2, 25000))                                        ,\n",
       "       array([[-3.99023423e-05, -3.71557183e-05, -4.82948043e-05, ...,\n",
       "                5.41695277e-06,  1.41145953e-05,  4.50904097e-05],\n",
       "              [-3.88342107e-05, -2.96787976e-05, -3.48668650e-05, ...,\n",
       "                9.95651179e-05,  3.07469291e-05, -2.95262074e-05]],\n",
       "             shape=(2, 25000))                                        ,\n",
       "       array([[-1.16731518e-05,  8.31616693e-06,  3.73846036e-06, ...,\n",
       "               -3.50194553e-05, -3.01365682e-05, -2.02182040e-05],\n",
       "              [ 3.81475547e-07,  4.80659190e-06,  2.28122377e-05, ...,\n",
       "                4.85999847e-05,  2.15915160e-05,  1.02998398e-05]],\n",
       "             shape=(2, 25000))                                        ,\n",
       "       array([[ 9.89547570e-05,  1.02006561e-04,  9.48348211e-05, ...,\n",
       "                3.82238499e-05,  7.62951095e-08, -1.71663996e-05],\n",
       "              [-1.06279088e-04, -9.49874113e-05, -7.46929122e-05, ...,\n",
       "               -2.05233845e-05, -2.99839780e-05, -3.34935531e-05]],\n",
       "             shape=(2, 25000))                                        ,\n",
       "       array([[ 1.67086290e-05,  2.73899443e-05,  3.34935531e-05, ...,\n",
       "               -1.10627909e-05, -1.44197757e-05, -1.16731518e-05],\n",
       "              [-4.44800488e-05, -4.03601129e-05, -2.76951247e-05, ...,\n",
       "               -3.28831922e-05, -3.05943389e-05, -1.94552529e-05]],\n",
       "             shape=(2, 25000))                                        ,\n",
       "       array([[ 3.12809949e-06, -1.83871214e-05, -4.05127031e-05, ...,\n",
       "                1.97604334e-05,  2.09811551e-05,  2.47959106e-05],\n",
       "              [-7.62951095e-08, -4.78370336e-05, -2.23544671e-05, ...,\n",
       "               -3.22728313e-05, -6.32486458e-05, -8.40009155e-05]],\n",
       "             shape=(2, 25000))                                        ,\n",
       "       array([[ 5.91287098e-05,  5.53139544e-05,  2.32700084e-05, ...,\n",
       "               -5.31776913e-05, -5.59243153e-05, -5.21095598e-05],\n",
       "              [-3.34935531e-05,  4.35645075e-05,  6.03494316e-05, ...,\n",
       "               -7.24040589e-05, -3.71557183e-05,  1.15205615e-05]],\n",
       "             shape=(2, 25000))                                        ,\n",
       "       array([[-8.31616693e-06, -8.01098650e-06, -2.20492866e-05, ...,\n",
       "                7.11833371e-05,  8.85786221e-05,  8.58319982e-05],\n",
       "              [-9.84206912e-06, -9.68947890e-06, -1.90737774e-06, ...,\n",
       "               -2.51773861e-06, -2.02182040e-05, -1.15205615e-05]],\n",
       "             shape=(2, 25000))                                        ,\n",
       "       array([[-1.83871214e-05, -2.15915160e-05, -2.32700084e-05, ...,\n",
       "                5.97390707e-05,  3.54772259e-05,  2.51773861e-06],\n",
       "              [-3.19676509e-05, -2.72373541e-05, -2.64744030e-05, ...,\n",
       "                1.15205615e-05,  5.16517891e-05,  7.27092393e-05]],\n",
       "             shape=(2, 25000))                                        ,\n",
       "       array([[ 6.70634012e-05,  7.28618296e-05,  6.30960555e-05, ...,\n",
       "                6.00442512e-05,  9.05622950e-05,  1.02769512e-04],\n",
       "              [-1.42671855e-05, -2.76951247e-05, -4.34119173e-05, ...,\n",
       "               -5.72213321e-06, -3.51720455e-05, -3.41039139e-05]],\n",
       "             shape=(2, 25000))                                        ,\n",
       "       array([[ 1.27412833e-05,  1.44197757e-05, -6.86655985e-07, ...,\n",
       "               -6.93522545e-05, -3.36461433e-05, -2.14389258e-05],\n",
       "              [-2.15915160e-05, -3.82238499e-05, -5.48561837e-05, ...,\n",
       "                9.31563287e-05,  5.66872663e-05,  1.91500725e-05]],\n",
       "             shape=(2, 25000))                                        ,\n",
       "       array([[-1.05210956e-04, -9.59029526e-05, -6.18753338e-05, ...,\n",
       "               -5.10414282e-05, -4.67689021e-05, -8.16357671e-06],\n",
       "              [ 9.68947890e-06, -2.55588617e-05, -5.05836576e-05, ...,\n",
       "                3.53246357e-05, -3.30357824e-05, -1.04142824e-04]],\n",
       "             shape=(2, 25000))                                        ,\n",
       "       array([[-1.07576104e-05, -3.30357824e-05, -5.18043793e-05, ...,\n",
       "               -4.66163119e-05, -3.89868009e-05, -5.87472343e-06],\n",
       "              [ 2.93736172e-05,  5.19569696e-05,  4.84473945e-05, ...,\n",
       "                8.93415732e-05,  7.27092393e-05,  6.93522545e-05]],\n",
       "             shape=(2, 25000))                                        ,\n",
       "       array([[-7.40062562e-06, -1.53353170e-05, -2.32700084e-05, ...,\n",
       "               -6.76737621e-05, -8.82734417e-05, -7.71343557e-05],\n",
       "              [-2.37277790e-05, -4.46326390e-05, -5.39406424e-05, ...,\n",
       "               -3.12809949e-06,  4.34119173e-05,  1.35423819e-04]],\n",
       "             shape=(2, 25000))                                        ,\n",
       "       array([[ 4.35645075e-05,  5.50087739e-05,  7.14885176e-05, ...,\n",
       "               -7.85076677e-05, -5.57717250e-05, -3.51720455e-05],\n",
       "              [-4.92103456e-05, -1.86923018e-05,  1.01472496e-05, ...,\n",
       "                6.63767453e-06,  2.54062715e-05,  1.09102007e-05]],\n",
       "             shape=(2, 25000))                                        ,\n",
       "       array([[ 1.74715801e-05, -9.68947890e-06, -2.05233845e-05, ...,\n",
       "               -1.01472496e-05, -3.79186694e-05, -5.89761196e-05],\n",
       "              [-1.40917067e-04, -1.37560082e-04, -1.31456474e-04, ...,\n",
       "               -5.34065766e-07,  8.16357671e-06, -6.17990387e-06]],\n",
       "             shape=(2, 25000))                                        ,\n",
       "       array([[ 5.62294957e-05,  6.24856947e-05,  5.27199207e-05, ...,\n",
       "               -3.73846036e-06,  1.60982681e-05,  1.15205615e-05],\n",
       "              [-3.48668650e-05, -5.83657588e-05, -7.46929122e-05, ...,\n",
       "               -3.59349966e-05, -1.85397116e-05,  2.76951247e-05]],\n",
       "             shape=(2, 25000))                                        ,\n",
       "       array([[-7.62951095e-08, -7.62951095e-08, -7.62951095e-08, ...,\n",
       "                4.41748684e-05,  2.02182040e-05,  6.63767453e-06],\n",
       "              [-7.62951095e-08, -7.62951095e-08, -7.62951095e-08, ...,\n",
       "               -1.75478752e-06, -6.94285496e-06,  6.86655985e-07]],\n",
       "             shape=(2, 25000))                                        ],\n",
       "      dtype=object)"
      ]
     },
     "execution_count": 52,
     "metadata": {},
     "output_type": "execute_result"
    }
   ],
   "source": []
  },
  {
   "cell_type": "code",
   "execution_count": 19,
   "metadata": {},
   "outputs": [
    {
     "data": {
      "text/html": [
       "<div>\n",
       "<style scoped>\n",
       "    .dataframe tbody tr th:only-of-type {\n",
       "        vertical-align: middle;\n",
       "    }\n",
       "\n",
       "    .dataframe tbody tr th {\n",
       "        vertical-align: top;\n",
       "    }\n",
       "\n",
       "    .dataframe thead th {\n",
       "        text-align: right;\n",
       "    }\n",
       "</style>\n",
       "<table border=\"1\" class=\"dataframe\">\n",
       "  <thead>\n",
       "    <tr style=\"text-align: right;\">\n",
       "      <th></th>\n",
       "      <th>sleep</th>\n",
       "      <th>start</th>\n",
       "      <th>stop</th>\n",
       "      <th>signal</th>\n",
       "    </tr>\n",
       "  </thead>\n",
       "  <tbody>\n",
       "    <tr>\n",
       "      <th>9</th>\n",
       "      <td>S</td>\n",
       "      <td>45000</td>\n",
       "      <td>50000</td>\n",
       "      <td>[[6.485084306096118e-06, 1.625085831998183e-05...</td>\n",
       "    </tr>\n",
       "    <tr>\n",
       "      <th>11</th>\n",
       "      <td>R</td>\n",
       "      <td>55000</td>\n",
       "      <td>60000</td>\n",
       "      <td>[[-0.00012748912794689846, -0.0001442740520332...</td>\n",
       "    </tr>\n",
       "    <tr>\n",
       "      <th>12</th>\n",
       "      <td>R</td>\n",
       "      <td>60000</td>\n",
       "      <td>65000</td>\n",
       "      <td>[[7.400625619897903e-06, -8.392462043181647e-0...</td>\n",
       "    </tr>\n",
       "    <tr>\n",
       "      <th>13</th>\n",
       "      <td>R</td>\n",
       "      <td>65000</td>\n",
       "      <td>70000</td>\n",
       "      <td>[[-1.602197299152986e-06, -7.095445181963698e-...</td>\n",
       "    </tr>\n",
       "    <tr>\n",
       "      <th>14</th>\n",
       "      <td>R</td>\n",
       "      <td>70000</td>\n",
       "      <td>75000</td>\n",
       "      <td>[[8.567940794995054e-05, 7.591363393606485e-05...</td>\n",
       "    </tr>\n",
       "    <tr>\n",
       "      <th>...</th>\n",
       "      <td>...</td>\n",
       "      <td>...</td>\n",
       "      <td>...</td>\n",
       "      <td>...</td>\n",
       "    </tr>\n",
       "    <tr>\n",
       "      <th>8601</th>\n",
       "      <td>S</td>\n",
       "      <td>43005000</td>\n",
       "      <td>43010000</td>\n",
       "      <td>[[0.00011635004196231036, 0.000113145647364004...</td>\n",
       "    </tr>\n",
       "    <tr>\n",
       "      <th>8626</th>\n",
       "      <td>R</td>\n",
       "      <td>43130000</td>\n",
       "      <td>43135000</td>\n",
       "      <td>[[0.00011787594415198, 0.00010215915159838269,...</td>\n",
       "    </tr>\n",
       "    <tr>\n",
       "      <th>8627</th>\n",
       "      <td>R</td>\n",
       "      <td>43135000</td>\n",
       "      <td>43140000</td>\n",
       "      <td>[[-5.043106736858154e-05, -4.814221408407707e-...</td>\n",
       "    </tr>\n",
       "    <tr>\n",
       "      <th>8628</th>\n",
       "      <td>R</td>\n",
       "      <td>43140000</td>\n",
       "      <td>43145000</td>\n",
       "      <td>[[1.5487907225147006e-05, 2.357518883039611e-0...</td>\n",
       "    </tr>\n",
       "    <tr>\n",
       "      <th>8632</th>\n",
       "      <td>S</td>\n",
       "      <td>43160000</td>\n",
       "      <td>43165000</td>\n",
       "      <td>[[-6.660563057907975e-05, -5.378805218585475e-...</td>\n",
       "    </tr>\n",
       "  </tbody>\n",
       "</table>\n",
       "<p>1032 rows × 4 columns</p>\n",
       "</div>"
      ],
      "text/plain": [
       "     sleep     start      stop  \\\n",
       "9        S     45000     50000   \n",
       "11       R     55000     60000   \n",
       "12       R     60000     65000   \n",
       "13       R     65000     70000   \n",
       "14       R     70000     75000   \n",
       "...    ...       ...       ...   \n",
       "8601     S  43005000  43010000   \n",
       "8626     R  43130000  43135000   \n",
       "8627     R  43135000  43140000   \n",
       "8628     R  43140000  43145000   \n",
       "8632     S  43160000  43165000   \n",
       "\n",
       "                                                 signal  \n",
       "9     [[6.485084306096118e-06, 1.625085831998183e-05...  \n",
       "11    [[-0.00012748912794689846, -0.0001442740520332...  \n",
       "12    [[7.400625619897903e-06, -8.392462043181647e-0...  \n",
       "13    [[-1.602197299152986e-06, -7.095445181963698e-...  \n",
       "14    [[8.567940794995054e-05, 7.591363393606485e-05...  \n",
       "...                                                 ...  \n",
       "8601  [[0.00011635004196231036, 0.000113145647364004...  \n",
       "8626  [[0.00011787594415198, 0.00010215915159838269,...  \n",
       "8627  [[-5.043106736858154e-05, -4.814221408407707e-...  \n",
       "8628  [[1.5487907225147006e-05, 2.357518883039611e-0...  \n",
       "8632  [[-6.660563057907975e-05, -5.378805218585475e-...  \n",
       "\n",
       "[1032 rows x 4 columns]"
      ]
     },
     "execution_count": 19,
     "metadata": {},
     "output_type": "execute_result"
    }
   ],
   "source": [
    "df_final.assign(signal=df_final.apply(lambda row: utils.get_bout_signal(signal, \n",
    "row, leading_buffer=500*10*2, trailing_buffer=500*10*2), axis=1))"
   ]
  },
  {
   "cell_type": "code",
   "execution_count": null,
   "metadata": {},
   "outputs": [],
   "source": [
    "def get_bout_signal(full_signals, row, leading_buffer=0, trailing_buffer=0):\n",
    "    return full_signals[:, row.start-leading_buffer:row.stop+trailing_buffer]\n",
    "\n",
    "def determine_buffering(bout_length, bout_context, sampling_rate, causal=False):\n",
    "    if causal:\n",
    "        leading_buffer = (bout_context - 1) * bout_length * sampling_rate\n",
    "        trailing_buffer = 0\n",
    "    else:\n",
    "        leading_buffer = (bout_context - 1) / 2 * bout_length * sampling_rate\n",
    "        trailing_buffer = leading_buffer\n",
    "    assert leading_buffer % 1 == 0, \"Leading buffer must be an integer number of samples\"\n",
    "    assert trailing_buffer % 1 == 0, \"Trailing buffer must be an integer number of samples\"\n",
    "    return leading_buffer, trailing_buffer"
   ]
  },
  {
   "cell_type": "code",
   "execution_count": null,
   "metadata": {},
   "outputs": [],
   "source": [
    "def process_edf(edf_path: str, bout_length: int = 10, bout_context: int = 5, causal=False) -> pd.DataFrame:\n",
    "    \"\"\"\n",
    "    Process the EDF file and extract relevant data\n",
    "    \"\"\"\n",
    "    # Load the EDF file\n",
    "    edf_data = mne.io.read_raw_edf(edf_path, preload=True)\n",
    "    # Extract sleep stages\n",
    "    sleep_stages = utils.extract_sleep_stages(edf_data)\n",
    "    # Create a DataFrame with sleep stages and time intervals\n",
    "    df = (pd.Series(sleep_stages)\n",
    "    .map(int_to_stage)\n",
    "    .rename(\"sleep\")\n",
    "    .to_frame()\n",
    "    .assign(start = lambda df: df.index * 5000)\n",
    "    .assign(stop = lambda df: (df.index +1 )* 5000)\n",
    "    )\n"
   ]
  },
  {
   "cell_type": "code",
   "execution_count": 147,
   "metadata": {},
   "outputs": [
    {
     "data": {
      "text/plain": [
       "500.0"
      ]
     },
     "execution_count": 147,
     "metadata": {},
     "output_type": "execute_result"
    }
   ],
   "source": [
    "sample.info['sfreq']"
   ]
  },
  {
   "cell_type": "code",
   "execution_count": null,
   "metadata": {},
   "outputs": [
    {
     "data": {
      "text/html": [
       "<div>\n",
       "<style scoped>\n",
       "    .dataframe tbody tr th:only-of-type {\n",
       "        vertical-align: middle;\n",
       "    }\n",
       "\n",
       "    .dataframe tbody tr th {\n",
       "        vertical-align: top;\n",
       "    }\n",
       "\n",
       "    .dataframe thead th {\n",
       "        text-align: right;\n",
       "    }\n",
       "</style>\n",
       "<table border=\"1\" class=\"dataframe\">\n",
       "  <thead>\n",
       "    <tr style=\"text-align: right;\">\n",
       "      <th></th>\n",
       "      <th>sleep</th>\n",
       "      <th>start</th>\n",
       "      <th>stop</th>\n",
       "    </tr>\n",
       "  </thead>\n",
       "  <tbody>\n",
       "    <tr>\n",
       "      <th>9</th>\n",
       "      <td>S</td>\n",
       "      <td>45000</td>\n",
       "      <td>50000</td>\n",
       "    </tr>\n",
       "    <tr>\n",
       "      <th>11</th>\n",
       "      <td>R</td>\n",
       "      <td>55000</td>\n",
       "      <td>60000</td>\n",
       "    </tr>\n",
       "    <tr>\n",
       "      <th>12</th>\n",
       "      <td>R</td>\n",
       "      <td>60000</td>\n",
       "      <td>65000</td>\n",
       "    </tr>\n",
       "    <tr>\n",
       "      <th>13</th>\n",
       "      <td>R</td>\n",
       "      <td>65000</td>\n",
       "      <td>70000</td>\n",
       "    </tr>\n",
       "    <tr>\n",
       "      <th>14</th>\n",
       "      <td>R</td>\n",
       "      <td>70000</td>\n",
       "      <td>75000</td>\n",
       "    </tr>\n",
       "    <tr>\n",
       "      <th>...</th>\n",
       "      <td>...</td>\n",
       "      <td>...</td>\n",
       "      <td>...</td>\n",
       "    </tr>\n",
       "    <tr>\n",
       "      <th>8601</th>\n",
       "      <td>S</td>\n",
       "      <td>43005000</td>\n",
       "      <td>43010000</td>\n",
       "    </tr>\n",
       "    <tr>\n",
       "      <th>8626</th>\n",
       "      <td>R</td>\n",
       "      <td>43130000</td>\n",
       "      <td>43135000</td>\n",
       "    </tr>\n",
       "    <tr>\n",
       "      <th>8627</th>\n",
       "      <td>R</td>\n",
       "      <td>43135000</td>\n",
       "      <td>43140000</td>\n",
       "    </tr>\n",
       "    <tr>\n",
       "      <th>8628</th>\n",
       "      <td>R</td>\n",
       "      <td>43140000</td>\n",
       "      <td>43145000</td>\n",
       "    </tr>\n",
       "    <tr>\n",
       "      <th>8632</th>\n",
       "      <td>S</td>\n",
       "      <td>43160000</td>\n",
       "      <td>43165000</td>\n",
       "    </tr>\n",
       "  </tbody>\n",
       "</table>\n",
       "<p>1032 rows × 3 columns</p>\n",
       "</div>"
      ],
      "text/plain": [
       "     sleep     start      stop\n",
       "9        S     45000     50000\n",
       "11       R     55000     60000\n",
       "12       R     60000     65000\n",
       "13       R     65000     70000\n",
       "14       R     70000     75000\n",
       "...    ...       ...       ...\n",
       "8601     S  43005000  43010000\n",
       "8626     R  43130000  43135000\n",
       "8627     R  43135000  43140000\n",
       "8628     R  43140000  43145000\n",
       "8632     S  43160000  43165000\n",
       "\n",
       "[1032 rows x 3 columns]"
      ]
     },
     "execution_count": 162,
     "metadata": {},
     "output_type": "execute_result"
    }
   ],
   "source": [
    "utils.subsample_sleep_dataframe(utils.create_sleep_stage_dataframe(sample))"
   ]
  },
  {
   "cell_type": "code",
   "execution_count": 148,
   "metadata": {},
   "outputs": [
    {
     "data": {
      "text/plain": [
       "np.float64(8640.0)"
      ]
     },
     "execution_count": 148,
     "metadata": {},
     "output_type": "execute_result"
    }
   ],
   "source": [
    "sample.n_times / sample.info['sfreq'] / 10"
   ]
  },
  {
   "cell_type": "code",
   "execution_count": 149,
   "metadata": {},
   "outputs": [
    {
     "data": {
      "text/plain": [
       "8640.0"
      ]
     },
     "execution_count": 149,
     "metadata": {},
     "output_type": "execute_result"
    }
   ],
   "source": [
    "43_200_000 / (500) / 10"
   ]
  },
  {
   "cell_type": "code",
   "execution_count": 77,
   "metadata": {},
   "outputs": [],
   "source": [
    "numeric_sleep_stages = sample[\"Signal-Sleep\"][0][0, np.arange(2500, sample.n_times, 5000)]"
   ]
  },
  {
   "cell_type": "code",
   "execution_count": 150,
   "metadata": {},
   "outputs": [
    {
     "data": {
      "text/plain": [
       "(8640,)"
      ]
     },
     "execution_count": 150,
     "metadata": {},
     "output_type": "execute_result"
    }
   ],
   "source": [
    "numeric_sleep_stages.shape"
   ]
  },
  {
   "cell_type": "code",
   "execution_count": 151,
   "metadata": {},
   "outputs": [],
   "source": [
    "sleep_stages = utils.extract_sleep_stages(sample)"
   ]
  },
  {
   "cell_type": "code",
   "execution_count": 152,
   "metadata": {},
   "outputs": [],
   "source": [
    "int_to_stage = {0: \"A\",\n",
    "                1: \"R\",\n",
    "                2: \"S\",\n",
    "                3: \"X\",\n",
    "               }"
   ]
  },
  {
   "cell_type": "code",
   "execution_count": 153,
   "metadata": {},
   "outputs": [],
   "source": [
    "df = pd.Series(sleep_stages).map(int_to_stage).rename(\"sleep\").to_frame().assign(start = lambda df: df.index * 5000).assign(stop = lambda df: (df.index +1 )* 5000)"
   ]
  },
  {
   "cell_type": "code",
   "execution_count": 154,
   "metadata": {},
   "outputs": [
    {
     "data": {
      "text/plain": [
       "sleep\n",
       "A    4882\n",
       "S    3262\n",
       "R     344\n",
       "X     152\n",
       "Name: count, dtype: int64"
      ]
     },
     "execution_count": 154,
     "metadata": {},
     "output_type": "execute_result"
    }
   ],
   "source": [
    "df.sleep.value_counts()"
   ]
  },
  {
   "cell_type": "code",
   "execution_count": 140,
   "metadata": {},
   "outputs": [],
   "source": [
    "sub_sample = df[df.sleep != \"X\"].groupby(\"sleep\").sample(n=344, random_state=0).sort_index()"
   ]
  },
  {
   "cell_type": "code",
   "execution_count": 142,
   "metadata": {},
   "outputs": [
    {
     "data": {
      "text/plain": [
       "sleep\n",
       "S    344\n",
       "R    344\n",
       "A    344\n",
       "Name: count, dtype: int64"
      ]
     },
     "execution_count": 142,
     "metadata": {},
     "output_type": "execute_result"
    }
   ],
   "source": [
    "sub_sample.sleep.value_counts()"
   ]
  },
  {
   "cell_type": "code",
   "execution_count": 83,
   "metadata": {},
   "outputs": [],
   "source": [
    "samples = df"
   ]
  },
  {
   "cell_type": "code",
   "execution_count": 123,
   "metadata": {},
   "outputs": [
    {
     "data": {
      "text/plain": [
       "sleep           A\n",
       "start    39990000\n",
       "stop     39995000\n",
       "Name: 7998, dtype: object"
      ]
     },
     "execution_count": 123,
     "metadata": {},
     "output_type": "execute_result"
    }
   ],
   "source": [
    "idx = 7998\n",
    "samples.loc[idx]"
   ]
  },
  {
   "cell_type": "code",
   "execution_count": 124,
   "metadata": {},
   "outputs": [
    {
     "data": {
      "text/plain": [
       "[<matplotlib.lines.Line2D at 0x33f720890>]"
      ]
     },
     "execution_count": 124,
     "metadata": {},
     "output_type": "execute_result"
    },
    {
     "data": {
      "image/png": "[encoded data removed]",
      "text/plain": [
       "<Figure size 640x480 with 1 Axes>"
      ]
     },
     "metadata": {},
     "output_type": "display_data"
    }
   ],
   "source": [
    "plt.plot(sample['EMG'][0][0, df.loc[idx, 'start']:df.loc[idx, 'stop']])"
   ]
  },
  {
   "cell_type": "code",
   "execution_count": 125,
   "metadata": {},
   "outputs": [
    {
     "data": {
      "text/plain": [
       "[<matplotlib.lines.Line2D at 0x33f78f850>]"
      ]
     },
     "execution_count": 125,
     "metadata": {},
     "output_type": "execute_result"
    },
    {
     "data": {
      "image/png": "[encoded data removed]",
      "text/plain": [
       "<Figure size 640x480 with 1 Axes>"
      ]
     },
     "metadata": {},
     "output_type": "display_data"
    }
   ],
   "source": [
    "plt.plot(sample['EEG'][0][0, df.loc[idx-1, 'start']:df.loc[idx+1, 'stop']])"
   ]
  },
  {
   "cell_type": "code",
   "execution_count": 126,
   "metadata": {},
   "outputs": [
    {
     "data": {
      "text/plain": [
       "[<matplotlib.lines.Line2D at 0x33f645a10>]"
      ]
     },
     "execution_count": 126,
     "metadata": {},
     "output_type": "execute_result"
    },
    {
     "data": {
      "image/png": "[encoded data removed]",
      "text/plain": [
       "<Figure size 640x480 with 1 Axes>"
      ]
     },
     "metadata": {},
     "output_type": "display_data"
    }
   ],
   "source": [
    "plt.plot(\n",
    "(fft(torch.from_numpy(sample['EEG'][0][0, df.loc[idx, 'start']:df.loc[idx, 'stop']]))\n",
    "))"
   ]
  },
  {
   "cell_type": "code",
   "execution_count": null,
   "metadata": {},
   "outputs": [],
   "source": []
  },
  {
   "cell_type": "code",
   "execution_count": 139,
   "metadata": {},
   "outputs": [
    {
     "data": {
      "text/plain": [
       "array([1.69375143e-05-0.00000000e+00j, 2.27372609e-05+5.71374598e-06j,\n",
       "       1.79122173e-05-3.02120074e-06j, ...,\n",
       "       1.75492884e-05-9.19143462e-07j, 1.79122173e-05+3.02120074e-06j,\n",
       "       2.27372609e-05-5.71374598e-06j])"
      ]
     },
     "execution_count": 139,
     "metadata": {},
     "output_type": "execute_result"
    }
   ],
   "source": []
  },
  {
   "cell_type": "code",
   "execution_count": 23,
   "metadata": {},
   "outputs": [
    {
     "data": {
      "text/plain": [
       "[<matplotlib.lines.Line2D at 0x169706ad0>]"
      ]
     },
     "execution_count": 23,
     "metadata": {},
     "output_type": "execute_result"
    },
    {
     "data": {
      "image/png": "[encoded data removed]",
      "text/plain": [
       "<Figure size 640x480 with 1 Axes>"
      ]
     },
     "metadata": {},
     "output_type": "display_data"
    }
   ],
   "source": [
    "plt.plot(fftshift(fft(sample['EEG'][0][0, df.loc[42, 'start']:df.loc[42, 'stop']])))"
   ]
  },
  {
   "cell_type": "code",
   "execution_count": 74,
   "metadata": {},
   "outputs": [
    {
     "data": {
      "text/plain": [
       "[<matplotlib.lines.Line2D at 0x234ab2a3b50>]"
      ]
     },
     "execution_count": 74,
     "metadata": {},
     "output_type": "execute_result"
    },
    {
     "data": {
      "image/png": "[encoded data removed]",
      "text/plain": [
       "<Figure size 640x480 with 1 Axes>"
      ]
     },
     "metadata": {},
     "output_type": "display_data"
    }
   ],
   "source": [
    "plt.plot(fftshift(fft(sample['EEG'][0][0, df.loc[800, 'start']:df.loc[800, 'stop']])))"
   ]
  },
  {
   "cell_type": "code",
   "execution_count": 24,
   "metadata": {},
   "outputs": [
    {
     "ename": "AttributeError",
     "evalue": "'numpy.ndarray' object has no attribute 'value_counts'",
     "output_type": "error",
     "traceback": [
      "\u001b[31m---------------------------------------------------------------------------\u001b[39m",
      "\u001b[31mAttributeError\u001b[39m                            Traceback (most recent call last)",
      "\u001b[36mCell\u001b[39m\u001b[36m \u001b[39m\u001b[32mIn[24]\u001b[39m\u001b[32m, line 1\u001b[39m\n\u001b[32m----> \u001b[39m\u001b[32m1\u001b[39m pd.Series(\u001b[43mscipy\u001b[49m\u001b[43m.\u001b[49m\u001b[43mfft\u001b[49m\u001b[43m.\u001b[49m\u001b[43mfft\u001b[49m\u001b[43m(\u001b[49m\u001b[43mnp\u001b[49m\u001b[43m.\u001b[49m\u001b[43mdigitize\u001b[49m\u001b[43m(\u001b[49m\u001b[43mnumeric_sleep_stages\u001b[49m\u001b[43m,\u001b[49m\u001b[43m \u001b[49m\u001b[43mbins\u001b[49m\u001b[43m \u001b[49m\u001b[43m=\u001b[49m\u001b[43m \u001b[49m\u001b[43m[\u001b[49m\u001b[32;43m1.5\u001b[39;49m\u001b[43m,\u001b[49m\u001b[32;43m2.5\u001b[39;49m\u001b[43m,\u001b[49m\u001b[43m \u001b[49m\u001b[32;43m3.5\u001b[39;49m\u001b[43m]\u001b[49m\u001b[43m)\u001b[49m\u001b[43m)\u001b[49m\u001b[43m.\u001b[49m\u001b[43mvalue_counts\u001b[49m().sort_index())\n",
      "\u001b[31mAttributeError\u001b[39m: 'numpy.ndarray' object has no attribute 'value_counts'"
     ]
    }
   ],
   "source": [
    "pd.Series(scipy.fft.fft(np.digitize(numeric_sleep_stages, bins = [1.5,2.5, 3.5])).value_counts().sort_index())"
   ]
  },
  {
   "cell_type": "code",
   "execution_count": 25,
   "metadata": {},
   "outputs": [
    {
     "data": {
      "text/plain": [
       "3    191\n",
       "0    169\n",
       "Name: count, dtype: int64"
      ]
     },
     "execution_count": 25,
     "metadata": {},
     "output_type": "execute_result"
    }
   ],
   "source": [
    "pd.Series(utils.extract_sleep_stages(sample)).value_counts()"
   ]
  },
  {
   "cell_type": "code",
   "execution_count": 26,
   "metadata": {},
   "outputs": [
    {
     "data": {
      "text/plain": [
       "np.float64(0.9525537349619629)"
      ]
     },
     "execution_count": 26,
     "metadata": {},
     "output_type": "execute_result"
    }
   ],
   "source": [
    "sample.get_data(picks='Signal-Sleep', start=0, stop=5000)[0].mean()"
   ]
  },
  {
   "cell_type": "code",
   "execution_count": 27,
   "metadata": {},
   "outputs": [
    {
     "data": {
      "text/plain": [
       "['Activity', 'EEG', 'EMG', 'Temp', 'Signal-Sleep']"
      ]
     },
     "execution_count": 27,
     "metadata": {},
     "output_type": "execute_result"
    }
   ],
   "source": [
    "sample.ch_names"
   ]
  },
  {
   "cell_type": "code",
   "execution_count": 28,
   "metadata": {},
   "outputs": [
    {
     "data": {
      "text/plain": [
       "array([ 9.99542222, 10.00781174, 10.02014211, ...,  1.03749911,\n",
       "        1.02478794,  1.01213561], shape=(1790000,))"
      ]
     },
     "execution_count": 28,
     "metadata": {},
     "output_type": "execute_result"
    }
   ],
   "source": [
    "sample['Signal-Sleep'][0][0, 10000:]"
   ]
  },
  {
   "cell_type": "code",
   "execution_count": 29,
   "metadata": {},
   "outputs": [],
   "source": [
    "offset = 200000\n",
    "sampling_freq = 500\n",
    "duration = 10"
   ]
  },
  {
   "cell_type": "code",
   "execution_count": 30,
   "metadata": {},
   "outputs": [],
   "source": [
    "arr = sample['EEG'][0][0][offset:offset+500*10*3]"
   ]
  },
  {
   "cell_type": "code",
   "execution_count": 31,
   "metadata": {},
   "outputs": [
    {
     "data": {
      "text/plain": [
       "[<matplotlib.lines.Line2D at 0x1695bead0>]"
      ]
     },
     "execution_count": 31,
     "metadata": {},
     "output_type": "execute_result"
    },
    {
     "data": {
      "image/png": "[encoded data removed]",
      "text/plain": [
       "<Figure size 640x480 with 1 Axes>"
      ]
     },
     "metadata": {},
     "output_type": "display_data"
    }
   ],
   "source": [
    "plt.plot(scipy.fft.fft(arr))"
   ]
  },
  {
   "cell_type": "code",
   "execution_count": null,
   "metadata": {},
   "outputs": [],
   "source": [
    "plt.plot(sample['EEG'][0][0][offset:offset+500*10*1])\n",
    "plt.ylim(-.2/1000, .200/1000)"
   ]
  },
  {
   "cell_type": "code",
   "execution_count": null,
   "metadata": {},
   "outputs": [],
   "source": [
    "plt.plot(sample['EMG'][0][0][offset:offset+500*10*1])"
   ]
  },
  {
   "cell_type": "code",
   "execution_count": 32,
   "metadata": {},
   "outputs": [
    {
     "data": {
      "text/plain": [
       "[<matplotlib.lines.Line2D at 0x12f8cb510>]"
      ]
     },
     "execution_count": 32,
     "metadata": {},
     "output_type": "execute_result"
    },
    {
     "data": {
      "image/png": "[encoded data removed]",
      "text/plain": [
       "<Figure size 640x480 with 1 Axes>"
      ]
     },
     "metadata": {},
     "output_type": "display_data"
    }
   ],
   "source": [
    "plt.plot(sample['Signal-Sleep'][0][0, 1000000:1500000])"
   ]
  },
  {
   "cell_type": "code",
   "execution_count": 33,
   "metadata": {},
   "outputs": [
    {
     "data": {
      "text/plain": [
       "[<matplotlib.lines.Line2D at 0x1697ef850>]"
      ]
     },
     "execution_count": 33,
     "metadata": {},
     "output_type": "execute_result"
    },
    {
     "data": {
      "image/png": "[encoded data removed]",
      "text/plain": [
       "<Figure size 640x480 with 1 Axes>"
      ]
     },
     "metadata": {},
     "output_type": "display_data"
    }
   ],
   "source": [
    "plt.plot(sample['Signal-Sleep'][0][0, :500*10*125])"
   ]
  },
  {
   "cell_type": "markdown",
   "metadata": {},
   "source": [
    "~ 10 is Artifact\n",
    "~ 3 is Sleep\n",
    "~ 2 is REM\n",
    "~ 1 Awake\n"
   ]
  },
  {
   "cell_type": "code",
   "execution_count": null,
   "metadata": {},
   "outputs": [],
   "source": [
    "(sample[\"EEG\"][1]).shape"
   ]
  },
  {
   "cell_type": "code",
   "execution_count": null,
   "metadata": {},
   "outputs": [],
   "source": [
    "sample[\"eeg\"][1].shape"
   ]
  },
  {
   "cell_type": "code",
   "execution_count": 76,
   "metadata": {},
   "outputs": [],
   "source": [
    "import h5py\n",
    "import numpy as np\n"
   ]
  },
  {
   "cell_type": "code",
   "execution_count": 123,
   "metadata": {},
   "outputs": [
    {
     "data": {
      "text/plain": [
       "<Closed HDF5 file>"
      ]
     },
     "execution_count": 123,
     "metadata": {},
     "output_type": "execute_result"
    }
   ],
   "source": [
    "f"
   ]
  },
  {
   "cell_type": "code",
   "execution_count": 126,
   "metadata": {},
   "outputs": [],
   "source": [
    "f = h5py.File(\"mytestfile.hdf5\", \"r\")\n",
    "\n"
   ]
  },
  {
   "cell_type": "code",
   "execution_count": 125,
   "metadata": {},
   "outputs": [
    {
     "data": {
      "text/plain": [
       "<Closed HDF5 file>"
      ]
     },
     "execution_count": 125,
     "metadata": {},
     "output_type": "execute_result"
    }
   ],
   "source": [
    "f"
   ]
  },
  {
   "cell_type": "code",
   "execution_count": 119,
   "metadata": {},
   "outputs": [],
   "source": [
    "f.close()"
   ]
  },
  {
   "cell_type": "code",
   "execution_count": 127,
   "metadata": {},
   "outputs": [
    {
     "data": {
      "text/plain": [
       "True"
      ]
     },
     "execution_count": 127,
     "metadata": {},
     "output_type": "execute_result"
    }
   ],
   "source": [
    "\"mydataset\" in f"
   ]
  },
  {
   "cell_type": "code",
   "execution_count": 133,
   "metadata": {},
   "outputs": [],
   "source": [
    "x = f[\"mydataset\"]"
   ]
  },
  {
   "cell_type": "code",
   "execution_count": 137,
   "metadata": {},
   "outputs": [
    {
     "data": {
      "text/plain": [
       "array([0, 0, 0, 0, 0, 0, 0, 0, 0, 0, 0, 0, 0, 0, 0, 0, 0, 0, 0, 0, 0, 0,\n",
       "       0, 0, 0, 0, 0, 0, 0, 0, 0, 0, 0, 0, 0, 0, 0, 0, 0, 0, 0, 0, 0, 0,\n",
       "       0, 0, 0, 0, 0, 0, 0, 0, 0, 0, 0, 0, 0, 0, 0, 0, 0, 0, 0, 0, 0, 0,\n",
       "       0, 0, 0, 0, 0, 0, 0, 0, 0, 0, 0, 0, 0, 0, 0, 0, 0, 0, 0, 0, 0, 0,\n",
       "       0, 0, 0, 0, 0, 0, 0, 0, 0, 0, 0, 0], dtype=int32)"
      ]
     },
     "execution_count": 137,
     "metadata": {},
     "output_type": "execute_result"
    }
   ],
   "source": [
    "np.array(x)"
   ]
  },
  {
   "cell_type": "code",
   "execution_count": null,
   "metadata": {},
   "outputs": [],
   "source": []
  }
 ],
 "metadata": {
  "kernelspec": {
   "display_name": "rembler",
   "language": "python",
   "name": "python3"
  },
  "language_info": {
   "codemirror_mode": {
    "name": "ipython",
    "version": 3
   },
   "file_extension": ".py",
   "mimetype": "text/x-python",
   "name": "python",
   "nbconvert_exporter": "python",
   "pygments_lexer": "ipython3",
   "version": "3.11.13"
  }
 },
 "nbformat": 4,
 "nbformat_minor": 4
}
